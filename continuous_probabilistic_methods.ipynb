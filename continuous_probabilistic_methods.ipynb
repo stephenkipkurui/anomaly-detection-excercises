{
 "cells": [
  {
   "cell_type": "markdown",
   "id": "6035f7fe",
   "metadata": {
    "pycharm": {
     "name": "#%% md\n"
    }
   },
   "source": [
    "# <u>Methodologies II: Anomaly Detection</u>"
   ]
  },
  {
   "cell_type": "markdown",
   "id": "49a3dfa6",
   "metadata": {
    "pycharm": {
     "name": "#%% md\n"
    }
   },
   "source": [
    "### continuous_probabilistic_methods.py or continuous_probabilistic_methods.ipynb 1. Define a function named get_lower_and_upper_bounds that has two arguments. The first argument is a pandas Series. The second argument is the multiplier, which should have a default argument of 1.5."
   ]
  },
  {
   "cell_type": "code",
   "execution_count": 14,
   "id": "94846baa",
   "metadata": {
    "pycharm": {
     "name": "#%%\n"
    }
   },
   "outputs": [],
   "source": [
    "import pandas as pd \n",
    "import numpy as np\n",
    "import matplotlib.pyplot as plt\n",
    "import seaborn as sns\n",
    "from acquire import get_lemonade_data\n",
    "from wrangle import get_lower_and_upper_bounds\n",
    "\n",
    "from cycler import cycler\n",
    "plt.rcParams[\"figure.figsize\"] = (13,5)\n",
    "\n",
    "plt.rcParams['axes.facecolor']='#FFF'\n",
    "plt.rcParams['figure.facecolor']='white'\n",
    "plt.rcParams['axes.prop_cycle'] = cycler(color=['g', 'r', 'b', 'y'])\n",
    "\n",
    "import warnings\n",
    "warnings.filterwarnings('ignore')"
   ]
  },
  {
   "cell_type": "markdown",
   "id": "ad1fdeff",
   "metadata": {},
   "source": [
    "### Get Data"
   ]
  },
  {
   "cell_type": "code",
   "execution_count": 15,
   "id": "147a70e4",
   "metadata": {
    "pycharm": {
     "name": "#%%\n"
    }
   },
   "outputs": [],
   "source": [
    "df = get_lemonade_data()"
   ]
  },
  {
   "cell_type": "code",
   "execution_count": 16,
   "id": "43c70707",
   "metadata": {
    "pycharm": {
     "name": "#%%\n"
    }
   },
   "outputs": [
    {
     "data": {
      "text/html": [
       "<div><div id=92979df0-8713-4771-99f9-da22eb757aa1 style=\"display:none; background-color:#9D6CFF; color:white; width:200px; height:30px; padding-left:5px; border-radius:4px; flex-direction:row; justify-content:space-around; align-items:center;\" onmouseover=\"this.style.backgroundColor='#BA9BF8'\" onmouseout=\"this.style.backgroundColor='#9D6CFF'\" onclick=\"window.commands?.execute('create-mitosheet-from-dataframe-output');\">See Full Dataframe in Mito</div> <script> if (window.commands.hasCommand('create-mitosheet-from-dataframe-output')) document.getElementById('92979df0-8713-4771-99f9-da22eb757aa1').style.display = 'flex' </script> <table border=\"1\" class=\"dataframe\">\n",
       "  <thead>\n",
       "    <tr style=\"text-align: right;\">\n",
       "      <th></th>\n",
       "      <th>date</th>\n",
       "      <th>day</th>\n",
       "      <th>temperature</th>\n",
       "      <th>rainfall</th>\n",
       "      <th>flyers</th>\n",
       "      <th>price</th>\n",
       "      <th>sales</th>\n",
       "      <th>month</th>\n",
       "    </tr>\n",
       "    <tr>\n",
       "      <th>date</th>\n",
       "      <th></th>\n",
       "      <th></th>\n",
       "      <th></th>\n",
       "      <th></th>\n",
       "      <th></th>\n",
       "      <th></th>\n",
       "      <th></th>\n",
       "      <th></th>\n",
       "    </tr>\n",
       "  </thead>\n",
       "  <tbody>\n",
       "    <tr>\n",
       "      <th>2017-01-01</th>\n",
       "      <td>1/1/17</td>\n",
       "      <td>Sunday</td>\n",
       "      <td>27.0</td>\n",
       "      <td>2.00</td>\n",
       "      <td>15</td>\n",
       "      <td>0.5</td>\n",
       "      <td>10</td>\n",
       "      <td>January</td>\n",
       "    </tr>\n",
       "    <tr>\n",
       "      <th>2017-01-02</th>\n",
       "      <td>1/2/17</td>\n",
       "      <td>Monday</td>\n",
       "      <td>28.9</td>\n",
       "      <td>1.33</td>\n",
       "      <td>15</td>\n",
       "      <td>0.5</td>\n",
       "      <td>13</td>\n",
       "      <td>January</td>\n",
       "    </tr>\n",
       "    <tr>\n",
       "      <th>2017-01-03</th>\n",
       "      <td>1/3/17</td>\n",
       "      <td>Tuesday</td>\n",
       "      <td>34.5</td>\n",
       "      <td>1.33</td>\n",
       "      <td>27</td>\n",
       "      <td>0.5</td>\n",
       "      <td>15</td>\n",
       "      <td>January</td>\n",
       "    </tr>\n",
       "    <tr>\n",
       "      <th>2017-01-04</th>\n",
       "      <td>1/4/17</td>\n",
       "      <td>Wednesday</td>\n",
       "      <td>44.1</td>\n",
       "      <td>1.05</td>\n",
       "      <td>28</td>\n",
       "      <td>0.5</td>\n",
       "      <td>17</td>\n",
       "      <td>January</td>\n",
       "    </tr>\n",
       "    <tr>\n",
       "      <th>2017-01-05</th>\n",
       "      <td>1/5/17</td>\n",
       "      <td>Thursday</td>\n",
       "      <td>42.4</td>\n",
       "      <td>1.00</td>\n",
       "      <td>33</td>\n",
       "      <td>0.5</td>\n",
       "      <td>18</td>\n",
       "      <td>January</td>\n",
       "    </tr>\n",
       "  </tbody>\n",
       "</table></div>"
      ],
      "text/plain": [
       "              date        day  temperature  rainfall  flyers  price  sales  \\\n",
       "date                                                                         \n",
       "2017-01-01  1/1/17     Sunday         27.0      2.00      15    0.5     10   \n",
       "2017-01-02  1/2/17     Monday         28.9      1.33      15    0.5     13   \n",
       "2017-01-03  1/3/17    Tuesday         34.5      1.33      27    0.5     15   \n",
       "2017-01-04  1/4/17  Wednesday         44.1      1.05      28    0.5     17   \n",
       "2017-01-05  1/5/17   Thursday         42.4      1.00      33    0.5     18   \n",
       "\n",
       "              month  \n",
       "date                 \n",
       "2017-01-01  January  \n",
       "2017-01-02  January  \n",
       "2017-01-03  January  \n",
       "2017-01-04  January  \n",
       "2017-01-05  January  "
      ]
     },
     "execution_count": 16,
     "metadata": {},
     "output_type": "execute_result"
    }
   ],
   "source": [
    "df.head()"
   ]
  },
  {
   "cell_type": "markdown",
   "id": "783cd16e",
   "metadata": {
    "pycharm": {
     "name": "#%% md\n"
    }
   },
   "source": [
    "#### (1). Using lemonade.csv dataset and focusing on continuous variables:\n",
    "\n",
    "- Use the IQR Range Rule and the upper and lower bounds to identify the lower outliers of each column of lemonade.csv, using the multiplier of 1.5. \n",
    "    - Do these lower outliers make sense? \n",
    "    - Which outliers should be kept?\n",
    "- Use the IQR Range Rule and the upper and upper bounds to identify the upper outliers of each column of lemonade.csv, using the multiplier of 1.5. \n",
    "    - Do these upper outliers make sense? \n",
    "    - Which outliers should be kept?\n",
    "- Using the multiplier of 3, IQR Range Rule, and the lower bounds, identify the outliers below the lower bound in each colum of lemonade.csv. \n",
    "    - Do these lower outliers make sense? \n",
    "    - Which outliers should be kept?\n",
    "- Using the multiplier of 3, IQR Range Rule, and the upper bounds, identify the outliers above the upper_bound in each colum of lemonade.csv. \n",
    "    - Do these upper outliers make sense? \n",
    "    - Which outliers should be kept?"
   ]
  },
  {
   "cell_type": "code",
   "execution_count": 17,
   "id": "61799345",
   "metadata": {
    "pycharm": {
     "name": "#%%\n"
    },
    "scrolled": false
   },
   "outputs": [
    {
     "data": {
      "image/png": "[encoded data removed]",
      "text/plain": [
       "<Figure size 936x360 with 6 Axes>"
      ]
     },
     "metadata": {},
     "output_type": "display_data"
    }
   ],
   "source": [
    "# Continuous var distribution\n",
    "\n",
    "df.hist(grid = False)\n",
    "None"
   ]
  },
  {
   "cell_type": "code",
   "execution_count": 18,
   "id": "f71bbcd1",
   "metadata": {},
   "outputs": [
    {
     "data": {
      "image/png": "[encoded data removed]",
      "text/plain": [
       "<Figure size 900x900 with 30 Axes>"
      ]
     },
     "metadata": {},
     "output_type": "display_data"
    }
   ],
   "source": [
    "# Relations Plots\n",
    "sns.pairplot(df)\n",
    "None"
   ]
  },
  {
   "cell_type": "markdown",
   "id": "cc3ef9f5",
   "metadata": {},
   "source": [
    "### Call the lower-upper function to get the bounds\n",
    "\n",
    "Flexible multiplier**\n"
   ]
  },
  {
   "cell_type": "code",
   "execution_count": 19,
   "id": "a8dbd735",
   "metadata": {
    "pycharm": {
     "name": "#%%\n"
    },
    "scrolled": false
   },
   "outputs": [
    {
     "name": "stdout",
     "output_type": "stream",
     "text": [
      "temperature:\n",
      "Enter value for multiplier: 1.5\n",
      "\tLower bound:---- 16.700000000000003\n",
      "\tUpper bound:---- 104.7\n",
      "\n",
      "rainfall:\n",
      "Enter value for multiplier: 1.5\n",
      "\tLower bound:---- 0.26\n",
      "\tUpper bound:---- 1.3\n",
      "\n",
      "flyers:\n",
      "Enter value for multiplier: 1.5\n",
      "\tLower bound:---- 4.0\n",
      "\tUpper bound:---- 76.0\n",
      "\n",
      "price:\n",
      "Enter value for multiplier: 1.5\n",
      "\tLower bound:---- 0.5\n",
      "\tUpper bound:---- 0.5\n",
      "\n",
      "sales:\n",
      "Enter value for multiplier: 1.5\n",
      "\tLower bound:---- 5.0\n",
      "\tUpper bound:---- 45.0\n",
      "\n"
     ]
    }
   ],
   "source": [
    "for col in df.columns:\n",
    "    if np.issubdtype(df[col].dtype, np.number):\n",
    "        print(col+':')\n",
    "        low_bound, up_bound = get_lower_and_upper_bounds(df[col])\n",
    "        print(f'\\tLower bound:---- {low_bound}\\n\\tUpper bound:---- {up_bound}\\n')\n",
    "\n",
    "    else:\n",
    "        pass"
   ]
  },
  {
   "cell_type": "markdown",
   "id": "c851ea20",
   "metadata": {
    "pycharm": {
     "name": "#%% md\n"
    }
   },
   "source": [
    "### (2). Identify if any columns in lemonade.csv are normally distributed. For normally distributed columns:\n",
    "\n",
    "- Use a 2 sigma decision rule to isolate the outliers.\n",
    "\n",
    "    - Do these make sense?\n",
    "    - Should certain outliers be kept or removed?\n",
    "    \n",
    "-----------------    \n",
    "- The \"Empirical Rule\" AKA \"Three Sigma Rule\" AKA 68–95–99.7 Rule\n",
    "Assumes a normal distribution of the observed variable\n",
    "Asserts that:\n",
    "    - 68% of observations are within 1 standard deviation of the mean\n",
    "    - 95% of observations are within 2 standard deviations of the mean\n",
    "    - 99.7% of observations are within 3 standard deviations of the mean\n",
    "- Is often used as a quick test for normality\n",
    "- Is often erroneously applied to non-normally distributed data.\n",
    "- Can be an oversimplified approach"
   ]
  },
  {
   "cell_type": "code",
   "execution_count": 20,
   "id": "88942de0",
   "metadata": {
    "pycharm": {
     "name": "#%%\n"
    },
    "scrolled": false
   },
   "outputs": [
    {
     "name": "stderr",
     "output_type": "stream",
     "text": [
      "Using categorical units to plot a list of strings that are all parsable as floats or dates. If these strings should be plotted as numbers, cast to the appropriate data type before plotting.\n",
      "Using categorical units to plot a list of strings that are all parsable as floats or dates. If these strings should be plotted as numbers, cast to the appropriate data type before plotting.\n"
     ]
    },
    {
     "data": {
      "image/png": "[encoded data removed]",
      "text/plain": [
       "<Figure size 936x360 with 1 Axes>"
      ]
     },
     "metadata": {},
     "output_type": "display_data"
    },
    {
     "data": {
      "image/png": "[encoded data removed]",
      "text/plain": [
       "<Figure size 936x360 with 1 Axes>"
      ]
     },
     "metadata": {},
     "output_type": "display_data"
    },
    {
     "data": {
      "image/png": "[encoded data removed]",
      "text/plain": [
       "<Figure size 936x360 with 1 Axes>"
      ]
     },
     "metadata": {},
     "output_type": "display_data"
    },
    {
     "data": {
      "image/png": "[encoded data removed]",
      "text/plain": [
       "<Figure size 936x360 with 1 Axes>"
      ]
     },
     "metadata": {},
     "output_type": "display_data"
    },
    {
     "data": {
      "image/png": "[encoded data removed]",
      "text/plain": [
       "<Figure size 936x360 with 1 Axes>"
      ]
     },
     "metadata": {},
     "output_type": "display_data"
    },
    {
     "data": {
      "image/png": "[encoded data removed]",
      "text/plain": [
       "<Figure size 936x360 with 1 Axes>"
      ]
     },
     "metadata": {},
     "output_type": "display_data"
    },
    {
     "name": "stderr",
     "output_type": "stream",
     "text": [
      "Using categorical units to plot a list of strings that are all parsable as floats or dates. If these strings should be plotted as numbers, cast to the appropriate data type before plotting.\n",
      "Using categorical units to plot a list of strings that are all parsable as floats or dates. If these strings should be plotted as numbers, cast to the appropriate data type before plotting.\n"
     ]
    },
    {
     "data": {
      "image/png": "[encoded data removed]",
      "text/plain": [
       "<Figure size 936x360 with 1 Axes>"
      ]
     },
     "metadata": {},
     "output_type": "display_data"
    }
   ],
   "source": [
    "# Check All cols \n",
    "\n",
    "for col in df.columns[1:]:\n",
    "    plt.title(col)\n",
    "    if (col == 'month') | (col == 'day'):\n",
    "        plt.xticks(rotation = 90)    \n",
    "    plt.hist(df[col])\n",
    "    plt.show()"
   ]
  },
  {
   "cell_type": "markdown",
   "id": "55a50111",
   "metadata": {},
   "source": [
    "#### Rainfall"
   ]
  },
  {
   "cell_type": "code",
   "execution_count": 22,
   "id": "54a91781",
   "metadata": {},
   "outputs": [
    {
     "data": {
      "text/html": [
       "<div><div id=5bd77dcc-4676-41be-9448-f6b05945559d style=\"display:none; background-color:#9D6CFF; color:white; width:200px; height:30px; padding-left:5px; border-radius:4px; flex-direction:row; justify-content:space-around; align-items:center;\" onmouseover=\"this.style.backgroundColor='#BA9BF8'\" onmouseout=\"this.style.backgroundColor='#9D6CFF'\" onclick=\"window.commands?.execute('create-mitosheet-from-dataframe-output');\">See Full Dataframe in Mito</div> <script> if (window.commands.hasCommand('create-mitosheet-from-dataframe-output')) document.getElementById('5bd77dcc-4676-41be-9448-f6b05945559d').style.display = 'flex' </script> <table border=\"1\" class=\"dataframe\">\n",
       "  <thead>\n",
       "    <tr style=\"text-align: right;\">\n",
       "      <th></th>\n",
       "      <th>date</th>\n",
       "      <th>day</th>\n",
       "      <th>temperature</th>\n",
       "      <th>rainfall</th>\n",
       "      <th>flyers</th>\n",
       "      <th>price</th>\n",
       "      <th>sales</th>\n",
       "      <th>month</th>\n",
       "      <th>z_score_rainfall</th>\n",
       "    </tr>\n",
       "    <tr>\n",
       "      <th>date</th>\n",
       "      <th></th>\n",
       "      <th></th>\n",
       "      <th></th>\n",
       "      <th></th>\n",
       "      <th></th>\n",
       "      <th></th>\n",
       "      <th></th>\n",
       "      <th></th>\n",
       "      <th></th>\n",
       "    </tr>\n",
       "  </thead>\n",
       "  <tbody>\n",
       "    <tr>\n",
       "      <th>2017-01-01</th>\n",
       "      <td>1/1/17</td>\n",
       "      <td>Sunday</td>\n",
       "      <td>27.0</td>\n",
       "      <td>2.00</td>\n",
       "      <td>15</td>\n",
       "      <td>0.5</td>\n",
       "      <td>10</td>\n",
       "      <td>January</td>\n",
       "      <td>4.286488</td>\n",
       "    </tr>\n",
       "    <tr>\n",
       "      <th>2017-01-02</th>\n",
       "      <td>1/2/17</td>\n",
       "      <td>Monday</td>\n",
       "      <td>28.9</td>\n",
       "      <td>1.33</td>\n",
       "      <td>15</td>\n",
       "      <td>0.5</td>\n",
       "      <td>13</td>\n",
       "      <td>January</td>\n",
       "      <td>1.840253</td>\n",
       "    </tr>\n",
       "    <tr>\n",
       "      <th>2017-01-03</th>\n",
       "      <td>1/3/17</td>\n",
       "      <td>Tuesday</td>\n",
       "      <td>34.5</td>\n",
       "      <td>1.33</td>\n",
       "      <td>27</td>\n",
       "      <td>0.5</td>\n",
       "      <td>15</td>\n",
       "      <td>January</td>\n",
       "      <td>1.840253</td>\n",
       "    </tr>\n",
       "    <tr>\n",
       "      <th>2017-01-04</th>\n",
       "      <td>1/4/17</td>\n",
       "      <td>Wednesday</td>\n",
       "      <td>44.1</td>\n",
       "      <td>1.05</td>\n",
       "      <td>28</td>\n",
       "      <td>0.5</td>\n",
       "      <td>17</td>\n",
       "      <td>January</td>\n",
       "      <td>0.817946</td>\n",
       "    </tr>\n",
       "    <tr>\n",
       "      <th>2017-01-05</th>\n",
       "      <td>1/5/17</td>\n",
       "      <td>Thursday</td>\n",
       "      <td>42.4</td>\n",
       "      <td>1.00</td>\n",
       "      <td>33</td>\n",
       "      <td>0.5</td>\n",
       "      <td>18</td>\n",
       "      <td>January</td>\n",
       "      <td>0.635391</td>\n",
       "    </tr>\n",
       "  </tbody>\n",
       "</table></div>"
      ],
      "text/plain": [
       "              date        day  temperature  rainfall  flyers  price  sales  \\\n",
       "date                                                                         \n",
       "2017-01-01  1/1/17     Sunday         27.0      2.00      15    0.5     10   \n",
       "2017-01-02  1/2/17     Monday         28.9      1.33      15    0.5     13   \n",
       "2017-01-03  1/3/17    Tuesday         34.5      1.33      27    0.5     15   \n",
       "2017-01-04  1/4/17  Wednesday         44.1      1.05      28    0.5     17   \n",
       "2017-01-05  1/5/17   Thursday         42.4      1.00      33    0.5     18   \n",
       "\n",
       "              month  z_score_rainfall  \n",
       "date                                   \n",
       "2017-01-01  January          4.286488  \n",
       "2017-01-02  January          1.840253  \n",
       "2017-01-03  January          1.840253  \n",
       "2017-01-04  January          0.817946  \n",
       "2017-01-05  January          0.635391  "
      ]
     },
     "execution_count": 22,
     "metadata": {},
     "output_type": "execute_result"
    }
   ],
   "source": [
    "df['z_score_rainfall'] = (df['rainfall'] - df['rainfall'].mean()) / df['rainfall'].std()\n",
    "df.head()"
   ]
  },
  {
   "cell_type": "markdown",
   "id": "19602b05",
   "metadata": {},
   "source": [
    "### Abnormal Rainfall?"
   ]
  },
  {
   "cell_type": "code",
   "execution_count": 28,
   "id": "cdccd2d5",
   "metadata": {},
   "outputs": [
    {
     "data": {
      "text/html": [
       "<div><div id=5a658a17-03ca-441f-b302-7efefc0429c3 style=\"display:none; background-color:#9D6CFF; color:white; width:200px; height:30px; padding-left:5px; border-radius:4px; flex-direction:row; justify-content:space-around; align-items:center;\" onmouseover=\"this.style.backgroundColor='#BA9BF8'\" onmouseout=\"this.style.backgroundColor='#9D6CFF'\" onclick=\"window.commands?.execute('create-mitosheet-from-dataframe-output');\">See Full Dataframe in Mito</div> <script> if (window.commands.hasCommand('create-mitosheet-from-dataframe-output')) document.getElementById('5a658a17-03ca-441f-b302-7efefc0429c3').style.display = 'flex' </script> <table border=\"1\" class=\"dataframe\">\n",
       "  <thead>\n",
       "    <tr style=\"text-align: right;\">\n",
       "      <th></th>\n",
       "      <th>date</th>\n",
       "      <th>day</th>\n",
       "      <th>temperature</th>\n",
       "      <th>rainfall</th>\n",
       "      <th>flyers</th>\n",
       "      <th>price</th>\n",
       "      <th>sales</th>\n",
       "      <th>month</th>\n",
       "      <th>z_score_rainfall</th>\n",
       "    </tr>\n",
       "    <tr>\n",
       "      <th>date</th>\n",
       "      <th></th>\n",
       "      <th></th>\n",
       "      <th></th>\n",
       "      <th></th>\n",
       "      <th></th>\n",
       "      <th></th>\n",
       "      <th></th>\n",
       "      <th></th>\n",
       "      <th></th>\n",
       "    </tr>\n",
       "  </thead>\n",
       "  <tbody>\n",
       "    <tr>\n",
       "      <th>2017-01-01</th>\n",
       "      <td>1/1/17</td>\n",
       "      <td>Sunday</td>\n",
       "      <td>27.0</td>\n",
       "      <td>2.00</td>\n",
       "      <td>15</td>\n",
       "      <td>0.5</td>\n",
       "      <td>10</td>\n",
       "      <td>January</td>\n",
       "      <td>4.286488</td>\n",
       "    </tr>\n",
       "    <tr>\n",
       "      <th>2017-01-06</th>\n",
       "      <td>1/6/17</td>\n",
       "      <td>Friday</td>\n",
       "      <td>25.3</td>\n",
       "      <td>1.54</td>\n",
       "      <td>23</td>\n",
       "      <td>0.5</td>\n",
       "      <td>11</td>\n",
       "      <td>January</td>\n",
       "      <td>2.606983</td>\n",
       "    </tr>\n",
       "    <tr>\n",
       "      <th>2017-01-07</th>\n",
       "      <td>1/7/17</td>\n",
       "      <td>Saturday</td>\n",
       "      <td>32.9</td>\n",
       "      <td>1.54</td>\n",
       "      <td>19</td>\n",
       "      <td>0.5</td>\n",
       "      <td>13</td>\n",
       "      <td>January</td>\n",
       "      <td>2.606983</td>\n",
       "    </tr>\n",
       "    <tr>\n",
       "      <th>2017-01-11</th>\n",
       "      <td>1/11/17</td>\n",
       "      <td>Wednesday</td>\n",
       "      <td>32.6</td>\n",
       "      <td>1.54</td>\n",
       "      <td>23</td>\n",
       "      <td>0.5</td>\n",
       "      <td>12</td>\n",
       "      <td>January</td>\n",
       "      <td>2.606983</td>\n",
       "    </tr>\n",
       "    <tr>\n",
       "      <th>2017-01-16</th>\n",
       "      <td>1/16/17</td>\n",
       "      <td>Monday</td>\n",
       "      <td>30.6</td>\n",
       "      <td>1.67</td>\n",
       "      <td>24</td>\n",
       "      <td>0.5</td>\n",
       "      <td>12</td>\n",
       "      <td>January</td>\n",
       "      <td>3.081626</td>\n",
       "    </tr>\n",
       "    <tr>\n",
       "      <th>...</th>\n",
       "      <td>...</td>\n",
       "      <td>...</td>\n",
       "      <td>...</td>\n",
       "      <td>...</td>\n",
       "      <td>...</td>\n",
       "      <td>...</td>\n",
       "      <td>...</td>\n",
       "      <td>...</td>\n",
       "      <td>...</td>\n",
       "    </tr>\n",
       "    <tr>\n",
       "      <th>2017-12-18</th>\n",
       "      <td>12/18/17</td>\n",
       "      <td>Monday</td>\n",
       "      <td>30.9</td>\n",
       "      <td>1.43</td>\n",
       "      <td>27</td>\n",
       "      <td>0.5</td>\n",
       "      <td>13</td>\n",
       "      <td>December</td>\n",
       "      <td>2.205363</td>\n",
       "    </tr>\n",
       "    <tr>\n",
       "      <th>2017-12-22</th>\n",
       "      <td>12/22/17</td>\n",
       "      <td>Friday</td>\n",
       "      <td>30.9</td>\n",
       "      <td>1.54</td>\n",
       "      <td>17</td>\n",
       "      <td>0.5</td>\n",
       "      <td>13</td>\n",
       "      <td>December</td>\n",
       "      <td>2.606983</td>\n",
       "    </tr>\n",
       "    <tr>\n",
       "      <th>2017-12-26</th>\n",
       "      <td>12/26/17</td>\n",
       "      <td>Tuesday</td>\n",
       "      <td>28.9</td>\n",
       "      <td>1.43</td>\n",
       "      <td>23</td>\n",
       "      <td>0.5</td>\n",
       "      <td>13</td>\n",
       "      <td>December</td>\n",
       "      <td>2.205363</td>\n",
       "    </tr>\n",
       "    <tr>\n",
       "      <th>2017-12-30</th>\n",
       "      <td>12/30/17</td>\n",
       "      <td>Saturday</td>\n",
       "      <td>30.9</td>\n",
       "      <td>1.43</td>\n",
       "      <td>22</td>\n",
       "      <td>0.5</td>\n",
       "      <td>13</td>\n",
       "      <td>December</td>\n",
       "      <td>2.205363</td>\n",
       "    </tr>\n",
       "    <tr>\n",
       "      <th>2017-12-31</th>\n",
       "      <td>12/31/17</td>\n",
       "      <td>Sunday</td>\n",
       "      <td>15.1</td>\n",
       "      <td>2.50</td>\n",
       "      <td>9</td>\n",
       "      <td>0.5</td>\n",
       "      <td>7</td>\n",
       "      <td>December</td>\n",
       "      <td>6.112037</td>\n",
       "    </tr>\n",
       "  </tbody>\n",
       "</table></div>"
      ],
      "text/plain": [
       "                date        day  temperature  rainfall  flyers  price  sales  \\\n",
       "date                                                                           \n",
       "2017-01-01    1/1/17     Sunday         27.0      2.00      15    0.5     10   \n",
       "2017-01-06    1/6/17     Friday         25.3      1.54      23    0.5     11   \n",
       "2017-01-07    1/7/17   Saturday         32.9      1.54      19    0.5     13   \n",
       "2017-01-11   1/11/17  Wednesday         32.6      1.54      23    0.5     12   \n",
       "2017-01-16   1/16/17     Monday         30.6      1.67      24    0.5     12   \n",
       "2017-01-17   1/17/17    Tuesday         32.2      1.43      26    0.5     14   \n",
       "2017-01-20   1/20/17     Friday         31.6      1.43      20    0.5     12   \n",
       "2017-01-24   1/24/17    Tuesday         28.6      1.54      20    0.5     12   \n",
       "2017-12-04   12/4/17     Monday         34.9      1.54      16    0.5     13   \n",
       "2017-12-05   12/5/17    Tuesday         22.0      1.82      11    0.5     10   \n",
       "2017-12-09   12/9/17   Saturday         31.2      1.43      19    0.5     14   \n",
       "2017-12-10  12/10/17     Sunday         31.3      1.82      15    0.5     11   \n",
       "2017-12-13  12/13/17  Wednesday         32.2      1.43      26    0.5     14   \n",
       "2017-12-14  12/14/17   Thursday         31.9      1.54      24    0.5     13   \n",
       "2017-12-18  12/18/17     Monday         30.9      1.43      27    0.5     13   \n",
       "2017-12-22  12/22/17     Friday         30.9      1.54      17    0.5     13   \n",
       "2017-12-26  12/26/17    Tuesday         28.9      1.43      23    0.5     13   \n",
       "2017-12-30  12/30/17   Saturday         30.9      1.43      22    0.5     13   \n",
       "2017-12-31  12/31/17     Sunday         15.1      2.50       9    0.5      7   \n",
       "\n",
       "               month  z_score_rainfall  \n",
       "date                                    \n",
       "2017-01-01   January          4.286488  \n",
       "2017-01-06   January          2.606983  \n",
       "2017-01-07   January          2.606983  \n",
       "2017-01-11   January          2.606983  \n",
       "2017-01-16   January          3.081626  \n",
       "2017-01-17   January          2.205363  \n",
       "2017-01-20   January          2.205363  \n",
       "2017-01-24   January          2.606983  \n",
       "2017-12-04  December          2.606983  \n",
       "2017-12-05  December          3.629291  \n",
       "2017-12-09  December          2.205363  \n",
       "2017-12-10  December          3.629291  \n",
       "2017-12-13  December          2.205363  \n",
       "2017-12-14  December          2.606983  \n",
       "2017-12-18  December          2.205363  \n",
       "2017-12-22  December          2.606983  \n",
       "2017-12-26  December          2.205363  \n",
       "2017-12-30  December          2.205363  \n",
       "2017-12-31  December          6.112037  "
      ]
     },
     "execution_count": 28,
     "metadata": {},
     "output_type": "execute_result"
    }
   ],
   "source": [
    "# Finds all of the observations two standard deviations or more.\n",
    "df[df.z_score_rainfall.abs() > 2]\n"
   ]
  },
  {
   "cell_type": "markdown",
   "id": "36263b91",
   "metadata": {},
   "source": [
    "### Flyers"
   ]
  },
  {
   "cell_type": "code",
   "execution_count": 30,
   "id": "10e88766",
   "metadata": {},
   "outputs": [
    {
     "data": {
      "text/html": [
       "<div><div id=986617f3-7119-4e73-8669-37c7dbffd550 style=\"display:none; background-color:#9D6CFF; color:white; width:200px; height:30px; padding-left:5px; border-radius:4px; flex-direction:row; justify-content:space-around; align-items:center;\" onmouseover=\"this.style.backgroundColor='#BA9BF8'\" onmouseout=\"this.style.backgroundColor='#9D6CFF'\" onclick=\"window.commands?.execute('create-mitosheet-from-dataframe-output');\">See Full Dataframe in Mito</div> <script> if (window.commands.hasCommand('create-mitosheet-from-dataframe-output')) document.getElementById('986617f3-7119-4e73-8669-37c7dbffd550').style.display = 'flex' </script> <table border=\"1\" class=\"dataframe\">\n",
       "  <thead>\n",
       "    <tr style=\"text-align: right;\">\n",
       "      <th></th>\n",
       "      <th>date</th>\n",
       "      <th>day</th>\n",
       "      <th>temperature</th>\n",
       "      <th>rainfall</th>\n",
       "      <th>flyers</th>\n",
       "      <th>price</th>\n",
       "      <th>sales</th>\n",
       "      <th>month</th>\n",
       "      <th>z_score_rainfall</th>\n",
       "      <th>z_score_flyers</th>\n",
       "    </tr>\n",
       "    <tr>\n",
       "      <th>date</th>\n",
       "      <th></th>\n",
       "      <th></th>\n",
       "      <th></th>\n",
       "      <th></th>\n",
       "      <th></th>\n",
       "      <th></th>\n",
       "      <th></th>\n",
       "      <th></th>\n",
       "      <th></th>\n",
       "      <th></th>\n",
       "    </tr>\n",
       "  </thead>\n",
       "  <tbody>\n",
       "    <tr>\n",
       "      <th>2017-01-01</th>\n",
       "      <td>1/1/17</td>\n",
       "      <td>Sunday</td>\n",
       "      <td>27.0</td>\n",
       "      <td>2.00</td>\n",
       "      <td>15</td>\n",
       "      <td>0.5</td>\n",
       "      <td>10</td>\n",
       "      <td>January</td>\n",
       "      <td>4.286488</td>\n",
       "      <td>-1.820927</td>\n",
       "    </tr>\n",
       "    <tr>\n",
       "      <th>2017-01-02</th>\n",
       "      <td>1/2/17</td>\n",
       "      <td>Monday</td>\n",
       "      <td>28.9</td>\n",
       "      <td>1.33</td>\n",
       "      <td>15</td>\n",
       "      <td>0.5</td>\n",
       "      <td>13</td>\n",
       "      <td>January</td>\n",
       "      <td>1.840253</td>\n",
       "      <td>-1.820927</td>\n",
       "    </tr>\n",
       "    <tr>\n",
       "      <th>2017-01-03</th>\n",
       "      <td>1/3/17</td>\n",
       "      <td>Tuesday</td>\n",
       "      <td>34.5</td>\n",
       "      <td>1.33</td>\n",
       "      <td>27</td>\n",
       "      <td>0.5</td>\n",
       "      <td>15</td>\n",
       "      <td>January</td>\n",
       "      <td>1.840253</td>\n",
       "      <td>-0.950507</td>\n",
       "    </tr>\n",
       "    <tr>\n",
       "      <th>2017-01-04</th>\n",
       "      <td>1/4/17</td>\n",
       "      <td>Wednesday</td>\n",
       "      <td>44.1</td>\n",
       "      <td>1.05</td>\n",
       "      <td>28</td>\n",
       "      <td>0.5</td>\n",
       "      <td>17</td>\n",
       "      <td>January</td>\n",
       "      <td>0.817946</td>\n",
       "      <td>-0.877972</td>\n",
       "    </tr>\n",
       "    <tr>\n",
       "      <th>2017-01-05</th>\n",
       "      <td>1/5/17</td>\n",
       "      <td>Thursday</td>\n",
       "      <td>42.4</td>\n",
       "      <td>1.00</td>\n",
       "      <td>33</td>\n",
       "      <td>0.5</td>\n",
       "      <td>18</td>\n",
       "      <td>January</td>\n",
       "      <td>0.635391</td>\n",
       "      <td>-0.515297</td>\n",
       "    </tr>\n",
       "  </tbody>\n",
       "</table></div>"
      ],
      "text/plain": [
       "              date        day  temperature  rainfall  flyers  price  sales  \\\n",
       "date                                                                         \n",
       "2017-01-01  1/1/17     Sunday         27.0      2.00      15    0.5     10   \n",
       "2017-01-02  1/2/17     Monday         28.9      1.33      15    0.5     13   \n",
       "2017-01-03  1/3/17    Tuesday         34.5      1.33      27    0.5     15   \n",
       "2017-01-04  1/4/17  Wednesday         44.1      1.05      28    0.5     17   \n",
       "2017-01-05  1/5/17   Thursday         42.4      1.00      33    0.5     18   \n",
       "\n",
       "              month  z_score_rainfall  z_score_flyers  \n",
       "date                                                   \n",
       "2017-01-01  January          4.286488       -1.820927  \n",
       "2017-01-02  January          1.840253       -1.820927  \n",
       "2017-01-03  January          1.840253       -0.950507  \n",
       "2017-01-04  January          0.817946       -0.877972  \n",
       "2017-01-05  January          0.635391       -0.515297  "
      ]
     },
     "execution_count": 30,
     "metadata": {},
     "output_type": "execute_result"
    }
   ],
   "source": [
    "df['z_score_flyers'] = (df['flyers'] - df['flyers'].mean()) / df['flyers'].std()\n",
    "df.head()"
   ]
  },
  {
   "cell_type": "markdown",
   "id": "6e75a4e9",
   "metadata": {},
   "source": [
    "### Flyers abnoramal?"
   ]
  },
  {
   "cell_type": "code",
   "execution_count": 31,
   "id": "6d8f8ac2",
   "metadata": {},
   "outputs": [
    {
     "data": {
      "text/html": [
       "<div><div id=ff4b77b5-6c0f-4f02-b802-08c22d25bcf8 style=\"display:none; background-color:#9D6CFF; color:white; width:200px; height:30px; padding-left:5px; border-radius:4px; flex-direction:row; justify-content:space-around; align-items:center;\" onmouseover=\"this.style.backgroundColor='#BA9BF8'\" onmouseout=\"this.style.backgroundColor='#9D6CFF'\" onclick=\"window.commands?.execute('create-mitosheet-from-dataframe-output');\">See Full Dataframe in Mito</div> <script> if (window.commands.hasCommand('create-mitosheet-from-dataframe-output')) document.getElementById('ff4b77b5-6c0f-4f02-b802-08c22d25bcf8').style.display = 'flex' </script> <table border=\"1\" class=\"dataframe\">\n",
       "  <thead>\n",
       "    <tr style=\"text-align: right;\">\n",
       "      <th></th>\n",
       "      <th>date</th>\n",
       "      <th>day</th>\n",
       "      <th>temperature</th>\n",
       "      <th>rainfall</th>\n",
       "      <th>flyers</th>\n",
       "      <th>price</th>\n",
       "      <th>sales</th>\n",
       "      <th>month</th>\n",
       "      <th>z_score_rainfall</th>\n",
       "      <th>z_score_flyers</th>\n",
       "    </tr>\n",
       "    <tr>\n",
       "      <th>date</th>\n",
       "      <th></th>\n",
       "      <th></th>\n",
       "      <th></th>\n",
       "      <th></th>\n",
       "      <th></th>\n",
       "      <th></th>\n",
       "      <th></th>\n",
       "      <th></th>\n",
       "      <th></th>\n",
       "      <th></th>\n",
       "    </tr>\n",
       "  </thead>\n",
       "  <tbody>\n",
       "    <tr>\n",
       "      <th>2017-06-16</th>\n",
       "      <td>6/16/17</td>\n",
       "      <td>Friday</td>\n",
       "      <td>99.3</td>\n",
       "      <td>0.47</td>\n",
       "      <td>77</td>\n",
       "      <td>0.5</td>\n",
       "      <td>41</td>\n",
       "      <td>June</td>\n",
       "      <td>-1.299691</td>\n",
       "      <td>2.676244</td>\n",
       "    </tr>\n",
       "    <tr>\n",
       "      <th>2017-06-20</th>\n",
       "      <td>6/20/17</td>\n",
       "      <td>Tuesday</td>\n",
       "      <td>85.1</td>\n",
       "      <td>0.54</td>\n",
       "      <td>70</td>\n",
       "      <td>0.5</td>\n",
       "      <td>37</td>\n",
       "      <td>June</td>\n",
       "      <td>-1.044114</td>\n",
       "      <td>2.168499</td>\n",
       "    </tr>\n",
       "    <tr>\n",
       "      <th>2017-06-21</th>\n",
       "      <td>6/21/17</td>\n",
       "      <td>Wednesday</td>\n",
       "      <td>94.3</td>\n",
       "      <td>0.47</td>\n",
       "      <td>76</td>\n",
       "      <td>0.5</td>\n",
       "      <td>41</td>\n",
       "      <td>June</td>\n",
       "      <td>-1.299691</td>\n",
       "      <td>2.603709</td>\n",
       "    </tr>\n",
       "    <tr>\n",
       "      <th>2017-07-02</th>\n",
       "      <td>7/2/17</td>\n",
       "      <td>Sunday</td>\n",
       "      <td>93.4</td>\n",
       "      <td>0.51</td>\n",
       "      <td>68</td>\n",
       "      <td>0.5</td>\n",
       "      <td>158</td>\n",
       "      <td>July</td>\n",
       "      <td>-1.153647</td>\n",
       "      <td>2.023429</td>\n",
       "    </tr>\n",
       "    <tr>\n",
       "      <th>2017-07-03</th>\n",
       "      <td>7/3/17</td>\n",
       "      <td>Monday</td>\n",
       "      <td>81.5</td>\n",
       "      <td>0.54</td>\n",
       "      <td>68</td>\n",
       "      <td>0.5</td>\n",
       "      <td>235</td>\n",
       "      <td>July</td>\n",
       "      <td>-1.044114</td>\n",
       "      <td>2.023429</td>\n",
       "    </tr>\n",
       "    <tr>\n",
       "      <th>...</th>\n",
       "      <td>...</td>\n",
       "      <td>...</td>\n",
       "      <td>...</td>\n",
       "      <td>...</td>\n",
       "      <td>...</td>\n",
       "      <td>...</td>\n",
       "      <td>...</td>\n",
       "      <td>...</td>\n",
       "      <td>...</td>\n",
       "      <td>...</td>\n",
       "    </tr>\n",
       "    <tr>\n",
       "      <th>2017-07-24</th>\n",
       "      <td>7/24/17</td>\n",
       "      <td>Monday</td>\n",
       "      <td>83.5</td>\n",
       "      <td>0.57</td>\n",
       "      <td>69</td>\n",
       "      <td>0.5</td>\n",
       "      <td>35</td>\n",
       "      <td>July</td>\n",
       "      <td>-0.934581</td>\n",
       "      <td>2.095964</td>\n",
       "    </tr>\n",
       "    <tr>\n",
       "      <th>2017-07-27</th>\n",
       "      <td>7/27/17</td>\n",
       "      <td>Thursday</td>\n",
       "      <td>97.9</td>\n",
       "      <td>0.47</td>\n",
       "      <td>74</td>\n",
       "      <td>0.5</td>\n",
       "      <td>43</td>\n",
       "      <td>July</td>\n",
       "      <td>-1.299691</td>\n",
       "      <td>2.458639</td>\n",
       "    </tr>\n",
       "    <tr>\n",
       "      <th>2017-11-21</th>\n",
       "      <td>11/21/17</td>\n",
       "      <td>Tuesday</td>\n",
       "      <td>47.0</td>\n",
       "      <td>0.95</td>\n",
       "      <td>-38</td>\n",
       "      <td>0.5</td>\n",
       "      <td>20</td>\n",
       "      <td>November</td>\n",
       "      <td>0.452836</td>\n",
       "      <td>-5.665283</td>\n",
       "    </tr>\n",
       "    <tr>\n",
       "      <th>2017-12-05</th>\n",
       "      <td>12/5/17</td>\n",
       "      <td>Tuesday</td>\n",
       "      <td>22.0</td>\n",
       "      <td>1.82</td>\n",
       "      <td>11</td>\n",
       "      <td>0.5</td>\n",
       "      <td>10</td>\n",
       "      <td>December</td>\n",
       "      <td>3.629291</td>\n",
       "      <td>-2.111067</td>\n",
       "    </tr>\n",
       "    <tr>\n",
       "      <th>2017-12-31</th>\n",
       "      <td>12/31/17</td>\n",
       "      <td>Sunday</td>\n",
       "      <td>15.1</td>\n",
       "      <td>2.50</td>\n",
       "      <td>9</td>\n",
       "      <td>0.5</td>\n",
       "      <td>7</td>\n",
       "      <td>December</td>\n",
       "      <td>6.112037</td>\n",
       "      <td>-2.256137</td>\n",
       "    </tr>\n",
       "  </tbody>\n",
       "</table></div>"
      ],
      "text/plain": [
       "                date        day  temperature  rainfall  flyers  price  sales  \\\n",
       "date                                                                           \n",
       "2017-06-16   6/16/17     Friday         99.3      0.47      77    0.5     41   \n",
       "2017-06-20   6/20/17    Tuesday         85.1      0.54      70    0.5     37   \n",
       "2017-06-21   6/21/17  Wednesday         94.3      0.47      76    0.5     41   \n",
       "2017-07-02    7/2/17     Sunday         93.4      0.51      68    0.5    158   \n",
       "2017-07-03    7/3/17     Monday         81.5      0.54      68    0.5    235   \n",
       "2017-07-14   7/14/17     Friday         92.0      0.50      80    0.5     40   \n",
       "2017-07-18   7/18/17    Tuesday         99.3      0.47      76    0.5     41   \n",
       "2017-07-23   7/23/17     Sunday         89.1      0.51      72    0.5     37   \n",
       "2017-07-24   7/24/17     Monday         83.5      0.57      69    0.5     35   \n",
       "2017-07-27   7/27/17   Thursday         97.9      0.47      74    0.5     43   \n",
       "2017-11-21  11/21/17    Tuesday         47.0      0.95     -38    0.5     20   \n",
       "2017-12-05   12/5/17    Tuesday         22.0      1.82      11    0.5     10   \n",
       "2017-12-31  12/31/17     Sunday         15.1      2.50       9    0.5      7   \n",
       "\n",
       "               month  z_score_rainfall  z_score_flyers  \n",
       "date                                                    \n",
       "2017-06-16      June         -1.299691        2.676244  \n",
       "2017-06-20      June         -1.044114        2.168499  \n",
       "2017-06-21      June         -1.299691        2.603709  \n",
       "2017-07-02      July         -1.153647        2.023429  \n",
       "2017-07-03      July         -1.044114        2.023429  \n",
       "2017-07-14      July         -1.190158        2.893849  \n",
       "2017-07-18      July         -1.299691        2.603709  \n",
       "2017-07-23      July         -1.153647        2.313569  \n",
       "2017-07-24      July         -0.934581        2.095964  \n",
       "2017-07-27      July         -1.299691        2.458639  \n",
       "2017-11-21  November          0.452836       -5.665283  \n",
       "2017-12-05  December          3.629291       -2.111067  \n",
       "2017-12-31  December          6.112037       -2.256137  "
      ]
     },
     "execution_count": 31,
     "metadata": {},
     "output_type": "execute_result"
    }
   ],
   "source": [
    "# Finds all of the observations two standard deviations or more.\n",
    "df[df.z_score_flyers.abs() > 2]"
   ]
  },
  {
   "cell_type": "markdown",
   "id": "40b3e471",
   "metadata": {
    "pycharm": {
     "name": "#%% md\n"
    }
   },
   "source": [
    "#### (3). Now use a 3 sigma decision rule to isolate the outliers in the normally distributed columns from lemonade.csv"
   ]
  },
  {
   "cell_type": "markdown",
   "id": "6223d950",
   "metadata": {},
   "source": [
    "### Rainfall"
   ]
  },
  {
   "cell_type": "code",
   "execution_count": 34,
   "id": "ed6d8fe3",
   "metadata": {
    "pycharm": {
     "name": "#%%\n"
    }
   },
   "outputs": [
    {
     "data": {
      "text/html": [
       "<div><div id=08d62f37-ea4e-415e-b448-5a882a0b6296 style=\"display:none; background-color:#9D6CFF; color:white; width:200px; height:30px; padding-left:5px; border-radius:4px; flex-direction:row; justify-content:space-around; align-items:center;\" onmouseover=\"this.style.backgroundColor='#BA9BF8'\" onmouseout=\"this.style.backgroundColor='#9D6CFF'\" onclick=\"window.commands?.execute('create-mitosheet-from-dataframe-output');\">See Full Dataframe in Mito</div> <script> if (window.commands.hasCommand('create-mitosheet-from-dataframe-output')) document.getElementById('08d62f37-ea4e-415e-b448-5a882a0b6296').style.display = 'flex' </script> <table border=\"1\" class=\"dataframe\">\n",
       "  <thead>\n",
       "    <tr style=\"text-align: right;\">\n",
       "      <th></th>\n",
       "      <th>date</th>\n",
       "      <th>day</th>\n",
       "      <th>temperature</th>\n",
       "      <th>rainfall</th>\n",
       "      <th>flyers</th>\n",
       "      <th>price</th>\n",
       "      <th>sales</th>\n",
       "      <th>month</th>\n",
       "      <th>z_score_rainfall</th>\n",
       "      <th>z_score_flyers</th>\n",
       "    </tr>\n",
       "    <tr>\n",
       "      <th>date</th>\n",
       "      <th></th>\n",
       "      <th></th>\n",
       "      <th></th>\n",
       "      <th></th>\n",
       "      <th></th>\n",
       "      <th></th>\n",
       "      <th></th>\n",
       "      <th></th>\n",
       "      <th></th>\n",
       "      <th></th>\n",
       "    </tr>\n",
       "  </thead>\n",
       "  <tbody>\n",
       "    <tr>\n",
       "      <th>2017-01-01</th>\n",
       "      <td>1/1/17</td>\n",
       "      <td>Sunday</td>\n",
       "      <td>27.0</td>\n",
       "      <td>2.00</td>\n",
       "      <td>15</td>\n",
       "      <td>0.5</td>\n",
       "      <td>10</td>\n",
       "      <td>January</td>\n",
       "      <td>4.286488</td>\n",
       "      <td>-1.820927</td>\n",
       "    </tr>\n",
       "    <tr>\n",
       "      <th>2017-01-16</th>\n",
       "      <td>1/16/17</td>\n",
       "      <td>Monday</td>\n",
       "      <td>30.6</td>\n",
       "      <td>1.67</td>\n",
       "      <td>24</td>\n",
       "      <td>0.5</td>\n",
       "      <td>12</td>\n",
       "      <td>January</td>\n",
       "      <td>3.081626</td>\n",
       "      <td>-1.168112</td>\n",
       "    </tr>\n",
       "    <tr>\n",
       "      <th>2017-12-05</th>\n",
       "      <td>12/5/17</td>\n",
       "      <td>Tuesday</td>\n",
       "      <td>22.0</td>\n",
       "      <td>1.82</td>\n",
       "      <td>11</td>\n",
       "      <td>0.5</td>\n",
       "      <td>10</td>\n",
       "      <td>December</td>\n",
       "      <td>3.629291</td>\n",
       "      <td>-2.111067</td>\n",
       "    </tr>\n",
       "    <tr>\n",
       "      <th>2017-12-10</th>\n",
       "      <td>12/10/17</td>\n",
       "      <td>Sunday</td>\n",
       "      <td>31.3</td>\n",
       "      <td>1.82</td>\n",
       "      <td>15</td>\n",
       "      <td>0.5</td>\n",
       "      <td>11</td>\n",
       "      <td>December</td>\n",
       "      <td>3.629291</td>\n",
       "      <td>-1.820927</td>\n",
       "    </tr>\n",
       "    <tr>\n",
       "      <th>2017-12-31</th>\n",
       "      <td>12/31/17</td>\n",
       "      <td>Sunday</td>\n",
       "      <td>15.1</td>\n",
       "      <td>2.50</td>\n",
       "      <td>9</td>\n",
       "      <td>0.5</td>\n",
       "      <td>7</td>\n",
       "      <td>December</td>\n",
       "      <td>6.112037</td>\n",
       "      <td>-2.256137</td>\n",
       "    </tr>\n",
       "  </tbody>\n",
       "</table></div>"
      ],
      "text/plain": [
       "                date      day  temperature  rainfall  flyers  price  sales  \\\n",
       "date                                                                         \n",
       "2017-01-01    1/1/17   Sunday         27.0      2.00      15    0.5     10   \n",
       "2017-01-16   1/16/17   Monday         30.6      1.67      24    0.5     12   \n",
       "2017-12-05   12/5/17  Tuesday         22.0      1.82      11    0.5     10   \n",
       "2017-12-10  12/10/17   Sunday         31.3      1.82      15    0.5     11   \n",
       "2017-12-31  12/31/17   Sunday         15.1      2.50       9    0.5      7   \n",
       "\n",
       "               month  z_score_rainfall  z_score_flyers  \n",
       "date                                                    \n",
       "2017-01-01   January          4.286488       -1.820927  \n",
       "2017-01-16   January          3.081626       -1.168112  \n",
       "2017-12-05  December          3.629291       -2.111067  \n",
       "2017-12-10  December          3.629291       -1.820927  \n",
       "2017-12-31  December          6.112037       -2.256137  "
      ]
     },
     "execution_count": 34,
     "metadata": {},
     "output_type": "execute_result"
    }
   ],
   "source": [
    "# Finds all of the observations three standard deviations or more\n",
    "df[df.z_score_rainfall.abs() > 3]"
   ]
  },
  {
   "cell_type": "markdown",
   "id": "3b4d05b8",
   "metadata": {},
   "source": [
    "### Flyers"
   ]
  },
  {
   "cell_type": "code",
   "execution_count": 33,
   "id": "b8e88123",
   "metadata": {},
   "outputs": [
    {
     "data": {
      "text/html": [
       "<div><div id=843b9109-2372-4c79-b047-85ab257bc39e style=\"display:none; background-color:#9D6CFF; color:white; width:200px; height:30px; padding-left:5px; border-radius:4px; flex-direction:row; justify-content:space-around; align-items:center;\" onmouseover=\"this.style.backgroundColor='#BA9BF8'\" onmouseout=\"this.style.backgroundColor='#9D6CFF'\" onclick=\"window.commands?.execute('create-mitosheet-from-dataframe-output');\">See Full Dataframe in Mito</div> <script> if (window.commands.hasCommand('create-mitosheet-from-dataframe-output')) document.getElementById('843b9109-2372-4c79-b047-85ab257bc39e').style.display = 'flex' </script> <table border=\"1\" class=\"dataframe\">\n",
       "  <thead>\n",
       "    <tr style=\"text-align: right;\">\n",
       "      <th></th>\n",
       "      <th>date</th>\n",
       "      <th>day</th>\n",
       "      <th>temperature</th>\n",
       "      <th>rainfall</th>\n",
       "      <th>flyers</th>\n",
       "      <th>price</th>\n",
       "      <th>sales</th>\n",
       "      <th>month</th>\n",
       "      <th>z_score_rainfall</th>\n",
       "      <th>z_score_flyers</th>\n",
       "    </tr>\n",
       "    <tr>\n",
       "      <th>date</th>\n",
       "      <th></th>\n",
       "      <th></th>\n",
       "      <th></th>\n",
       "      <th></th>\n",
       "      <th></th>\n",
       "      <th></th>\n",
       "      <th></th>\n",
       "      <th></th>\n",
       "      <th></th>\n",
       "      <th></th>\n",
       "    </tr>\n",
       "  </thead>\n",
       "  <tbody>\n",
       "    <tr>\n",
       "      <th>2017-11-21</th>\n",
       "      <td>11/21/17</td>\n",
       "      <td>Tuesday</td>\n",
       "      <td>47.0</td>\n",
       "      <td>0.95</td>\n",
       "      <td>-38</td>\n",
       "      <td>0.5</td>\n",
       "      <td>20</td>\n",
       "      <td>November</td>\n",
       "      <td>0.452836</td>\n",
       "      <td>-5.665283</td>\n",
       "    </tr>\n",
       "  </tbody>\n",
       "</table></div>"
      ],
      "text/plain": [
       "                date      day  temperature  rainfall  flyers  price  sales  \\\n",
       "date                                                                         \n",
       "2017-11-21  11/21/17  Tuesday         47.0      0.95     -38    0.5     20   \n",
       "\n",
       "               month  z_score_rainfall  z_score_flyers  \n",
       "date                                                    \n",
       "2017-11-21  November          0.452836       -5.665283  "
      ]
     },
     "execution_count": 33,
     "metadata": {},
     "output_type": "execute_result"
    }
   ],
   "source": [
    "# Finds all of the observations three standard deviations or more\n",
    "df[df.z_score_flyers.abs() > 3]"
   ]
  },
  {
   "cell_type": "code",
   "execution_count": null,
   "id": "83bb8203",
   "metadata": {},
   "outputs": [],
   "source": []
  }
 ],
 "metadata": {
  "kernelspec": {
   "display_name": "Python 3 (ipykernel)",
   "language": "python",
   "name": "python3"
  },
  "language_info": {
   "codemirror_mode": {
    "name": "ipython",
    "version": 3
   },
   "file_extension": ".py",
   "mimetype": "text/x-python",
   "name": "python",
   "nbconvert_exporter": "python",
   "pygments_lexer": "ipython3",
   "version": "3.9.7"
  }
 },
 "nbformat": 4,
 "nbformat_minor": 5
}
