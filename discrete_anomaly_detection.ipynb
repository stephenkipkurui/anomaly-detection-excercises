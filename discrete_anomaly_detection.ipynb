{
 "cells": [
  {
   "cell_type": "markdown",
   "metadata": {
    "pycharm": {
     "name": "#%% md\n"
    }
   },
   "source": [
    "# Discrete Anomally Detection\n",
    "\n",
    "## Exercises\n",
    "\n",
    "\n",
    "#### Use basic probability to identify anomalous requests. Using the methods covered in this lesson, examine the rest of the features in the api access logs data set."
   ]
  },
  {
   "cell_type": "code",
   "execution_count": 56,
   "metadata": {
    "pycharm": {
     "name": "#%%\n"
    }
   },
   "outputs": [],
   "source": [
    "import  pandas as pd\n",
    "import numpy as np\n",
    "import seaborn as sns\n",
    "import matplotlib.pyplot as plt\n",
    "from sklearn import  metrics\n",
    "import  env\n",
    "from acquire import get_api_logs_data\n",
    "\n",
    "from wrangle import parse_api_logs_data, value_count_and_proba"
   ]
  },
  {
   "cell_type": "code",
   "execution_count": 57,
   "metadata": {
    "pycharm": {
     "name": "#%%\n"
    }
   },
   "outputs": [
    {
     "name": "stdout",
     "output_type": "stream",
     "text": [
      "Getting data from local machine..\n"
     ]
    },
    {
     "data": {
      "text/html": [
       "<div><div id=22a6faf6-3e93-48c7-a333-9e112c129cd2 style=\"display:none; background-color:#9D6CFF; color:white; width:200px; height:30px; padding-left:5px; border-radius:4px; flex-direction:row; justify-content:space-around; align-items:center;\" onmouseover=\"this.style.backgroundColor='#BA9BF8'\" onmouseout=\"this.style.backgroundColor='#9D6CFF'\" onclick=\"window.commands?.execute('create-mitosheet-from-dataframe-output');\">See Full Dataframe in Mito</div> <script> if (window.commands.hasCommand('create-mitosheet-from-dataframe-output')) document.getElementById('22a6faf6-3e93-48c7-a333-9e112c129cd2').style.display = 'flex' </script> <table border=\"1\" class=\"dataframe\">\n",
       "  <thead>\n",
       "    <tr style=\"text-align: right;\">\n",
       "      <th></th>\n",
       "      <th>entry</th>\n",
       "    </tr>\n",
       "  </thead>\n",
       "  <tbody>\n",
       "    <tr>\n",
       "      <th>0</th>\n",
       "      <td>97.105.19.58 - - [16/Apr/2019:19:34:42 +0000] \"GET /api/v1/sales?page=81 HTTP/1.1\" 200 512495 \"-\" \"python-requests/2.21.0\"</td>\n",
       "    </tr>\n",
       "    <tr>\n",
       "      <th>1</th>\n",
       "      <td>97.105.19.58 - - [16/Apr/2019:19:34:42 +0000] \"GET /api/v1/items HTTP/1.1\" 200 3561 \"-\" \"python-requests/2.21.0\"</td>\n",
       "    </tr>\n",
       "    <tr>\n",
       "      <th>2</th>\n",
       "      <td>97.105.19.58 - - [16/Apr/2019:19:34:44 +0000] \"GET /api/v1/sales?page=82 HTTP/1.1\" 200 510103 \"-\" \"python-requests/2.21.0\"</td>\n",
       "    </tr>\n",
       "    <tr>\n",
       "      <th>3</th>\n",
       "      <td>97.105.19.58 - - [16/Apr/2019:19:34:46 +0000] \"GET /api/v1/sales?page=83 HTTP/1.1\" 200 510003 \"-\" \"python-requests/2.21.0\"</td>\n",
       "    </tr>\n",
       "    <tr>\n",
       "      <th>4</th>\n",
       "      <td>97.105.19.58 - - [16/Apr/2019:19:34:48 +0000] \"GET /api/v1/sales?page=84 HTTP/1.1\" 200 511963 \"-\" \"python-requests/2.21.0\"</td>\n",
       "    </tr>\n",
       "  </tbody>\n",
       "</table></div>"
      ],
      "text/plain": [
       "                                               entry\n",
       "0  97.105.19.58 - - [16/Apr/2019:19:34:42 +0000] ...\n",
       "1  97.105.19.58 - - [16/Apr/2019:19:34:42 +0000] ...\n",
       "2  97.105.19.58 - - [16/Apr/2019:19:34:44 +0000] ...\n",
       "3  97.105.19.58 - - [16/Apr/2019:19:34:46 +0000] ...\n",
       "4  97.105.19.58 - - [16/Apr/2019:19:34:48 +0000] ..."
      ]
     },
     "execution_count": 57,
     "metadata": {},
     "output_type": "execute_result"
    }
   ],
   "source": [
    "df = get_api_logs_data()\n",
    "df.head()"
   ]
  },
  {
   "cell_type": "code",
   "execution_count": 58,
   "metadata": {
    "pycharm": {
     "name": "#%%\n"
    }
   },
   "outputs": [
    {
     "data": {
      "text/html": [
       "<div><div id=d736780c-f622-4dd1-8728-f72d64b0c915 style=\"display:none; background-color:#9D6CFF; color:white; width:200px; height:30px; padding-left:5px; border-radius:4px; flex-direction:row; justify-content:space-around; align-items:center;\" onmouseover=\"this.style.backgroundColor='#BA9BF8'\" onmouseout=\"this.style.backgroundColor='#9D6CFF'\" onclick=\"window.commands?.execute('create-mitosheet-from-dataframe-output');\">See Full Dataframe in Mito</div> <script> if (window.commands.hasCommand('create-mitosheet-from-dataframe-output')) document.getElementById('d736780c-f622-4dd1-8728-f72d64b0c915').style.display = 'flex' </script> <table border=\"1\" class=\"dataframe\">\n",
       "  <thead>\n",
       "    <tr style=\"text-align: right;\">\n",
       "      <th></th>\n",
       "      <th>ip</th>\n",
       "      <th>timestamp</th>\n",
       "      <th>request_method</th>\n",
       "      <th>request_path</th>\n",
       "      <th>http_version</th>\n",
       "      <th>status_code</th>\n",
       "      <th>size</th>\n",
       "      <th>user_agent</th>\n",
       "    </tr>\n",
       "  </thead>\n",
       "  <tbody>\n",
       "    <tr>\n",
       "      <th>0</th>\n",
       "      <td>97.105.19.58</td>\n",
       "      <td>16/Apr/2019 19:34:42</td>\n",
       "      <td>GET</td>\n",
       "      <td>/api/v1/sales?page=81</td>\n",
       "      <td>HTTP/1.1</td>\n",
       "      <td>200</td>\n",
       "      <td>512495</td>\n",
       "      <td>python-requests/2.21.0</td>\n",
       "    </tr>\n",
       "    <tr>\n",
       "      <th>1</th>\n",
       "      <td>97.105.19.58</td>\n",
       "      <td>16/Apr/2019 19:34:42</td>\n",
       "      <td>GET</td>\n",
       "      <td>/api/v1/items</td>\n",
       "      <td>HTTP/1.1</td>\n",
       "      <td>200</td>\n",
       "      <td>3561</td>\n",
       "      <td>python-requests/2.21.0</td>\n",
       "    </tr>\n",
       "    <tr>\n",
       "      <th>2</th>\n",
       "      <td>97.105.19.58</td>\n",
       "      <td>16/Apr/2019 19:34:44</td>\n",
       "      <td>GET</td>\n",
       "      <td>/api/v1/sales?page=82</td>\n",
       "      <td>HTTP/1.1</td>\n",
       "      <td>200</td>\n",
       "      <td>510103</td>\n",
       "      <td>python-requests/2.21.0</td>\n",
       "    </tr>\n",
       "    <tr>\n",
       "      <th>3</th>\n",
       "      <td>97.105.19.58</td>\n",
       "      <td>16/Apr/2019 19:34:46</td>\n",
       "      <td>GET</td>\n",
       "      <td>/api/v1/sales?page=83</td>\n",
       "      <td>HTTP/1.1</td>\n",
       "      <td>200</td>\n",
       "      <td>510003</td>\n",
       "      <td>python-requests/2.21.0</td>\n",
       "    </tr>\n",
       "    <tr>\n",
       "      <th>4</th>\n",
       "      <td>97.105.19.58</td>\n",
       "      <td>16/Apr/2019 19:34:48</td>\n",
       "      <td>GET</td>\n",
       "      <td>/api/v1/sales?page=84</td>\n",
       "      <td>HTTP/1.1</td>\n",
       "      <td>200</td>\n",
       "      <td>511963</td>\n",
       "      <td>python-requests/2.21.0</td>\n",
       "    </tr>\n",
       "    <tr>\n",
       "      <th>...</th>\n",
       "      <td>...</td>\n",
       "      <td>...</td>\n",
       "      <td>...</td>\n",
       "      <td>...</td>\n",
       "      <td>...</td>\n",
       "      <td>...</td>\n",
       "      <td>...</td>\n",
       "      <td>...</td>\n",
       "    </tr>\n",
       "    <tr>\n",
       "      <th>13969</th>\n",
       "      <td>97.105.19.58</td>\n",
       "      <td>17/Apr/2019 12:55:12</td>\n",
       "      <td>GET</td>\n",
       "      <td>/api/v1/sales?page=62</td>\n",
       "      <td>HTTP/1.1</td>\n",
       "      <td>200</td>\n",
       "      <td>511544</td>\n",
       "      <td>python-requests/2.21.0</td>\n",
       "    </tr>\n",
       "    <tr>\n",
       "      <th>13970</th>\n",
       "      <td>97.105.19.58</td>\n",
       "      <td>17/Apr/2019 12:55:12</td>\n",
       "      <td>GET</td>\n",
       "      <td>/api/v1/sales?page=65</td>\n",
       "      <td>HTTP/1.1</td>\n",
       "      <td>200</td>\n",
       "      <td>511201</td>\n",
       "      <td>python-requests/2.21.0</td>\n",
       "    </tr>\n",
       "    <tr>\n",
       "      <th>13971</th>\n",
       "      <td>97.105.19.58</td>\n",
       "      <td>17/Apr/2019 12:55:13</td>\n",
       "      <td>GET</td>\n",
       "      <td>/api/v1/sales?page=73</td>\n",
       "      <td>HTTP/1.1</td>\n",
       "      <td>200</td>\n",
       "      <td>511781</td>\n",
       "      <td>python-requests/2.21.0</td>\n",
       "    </tr>\n",
       "    <tr>\n",
       "      <th>13972</th>\n",
       "      <td>97.105.19.58</td>\n",
       "      <td>17/Apr/2019 12:55:13</td>\n",
       "      <td>GET</td>\n",
       "      <td>/api/v1/sales?page=69</td>\n",
       "      <td>HTTP/1.1</td>\n",
       "      <td>200</td>\n",
       "      <td>510136</td>\n",
       "      <td>python-requests/2.21.0</td>\n",
       "    </tr>\n",
       "    <tr>\n",
       "      <th>13973</th>\n",
       "      <td>97.105.19.58</td>\n",
       "      <td>17/Apr/2019 12:55:14</td>\n",
       "      <td>GET</td>\n",
       "      <td>/api/v1/sales?page=71</td>\n",
       "      <td>HTTP/1.1</td>\n",
       "      <td>200</td>\n",
       "      <td>510166</td>\n",
       "      <td>python-requests/2.21.0</td>\n",
       "    </tr>\n",
       "  </tbody>\n",
       "</table></div>"
      ],
      "text/plain": [
       "                 ip             timestamp request_method  \\\n",
       "0      97.105.19.58  16/Apr/2019 19:34:42            GET   \n",
       "1      97.105.19.58  16/Apr/2019 19:34:42            GET   \n",
       "2      97.105.19.58  16/Apr/2019 19:34:44            GET   \n",
       "3      97.105.19.58  16/Apr/2019 19:34:46            GET   \n",
       "4      97.105.19.58  16/Apr/2019 19:34:48            GET   \n",
       "...             ...                   ...            ...   \n",
       "13969  97.105.19.58  17/Apr/2019 12:55:12            GET   \n",
       "13970  97.105.19.58  17/Apr/2019 12:55:12            GET   \n",
       "13971  97.105.19.58  17/Apr/2019 12:55:13            GET   \n",
       "13972  97.105.19.58  17/Apr/2019 12:55:13            GET   \n",
       "13973  97.105.19.58  17/Apr/2019 12:55:14            GET   \n",
       "\n",
       "                request_path http_version status_code    size  \\\n",
       "0      /api/v1/sales?page=81     HTTP/1.1         200  512495   \n",
       "1              /api/v1/items     HTTP/1.1         200    3561   \n",
       "2      /api/v1/sales?page=82     HTTP/1.1         200  510103   \n",
       "3      /api/v1/sales?page=83     HTTP/1.1         200  510003   \n",
       "4      /api/v1/sales?page=84     HTTP/1.1         200  511963   \n",
       "...                      ...          ...         ...     ...   \n",
       "13969  /api/v1/sales?page=62     HTTP/1.1         200  511544   \n",
       "13970  /api/v1/sales?page=65     HTTP/1.1         200  511201   \n",
       "13971  /api/v1/sales?page=73     HTTP/1.1         200  511781   \n",
       "13972  /api/v1/sales?page=69     HTTP/1.1         200  510136   \n",
       "13973  /api/v1/sales?page=71     HTTP/1.1         200  510166   \n",
       "\n",
       "                   user_agent  \n",
       "0      python-requests/2.21.0  \n",
       "1      python-requests/2.21.0  \n",
       "2      python-requests/2.21.0  \n",
       "3      python-requests/2.21.0  \n",
       "4      python-requests/2.21.0  \n",
       "...                       ...  \n",
       "13969  python-requests/2.21.0  \n",
       "13970  python-requests/2.21.0  \n",
       "13971  python-requests/2.21.0  \n",
       "13972  python-requests/2.21.0  \n",
       "13973  python-requests/2.21.0  \n",
       "\n",
       "[13974 rows x 8 columns]"
      ]
     },
     "execution_count": 58,
     "metadata": {},
     "output_type": "execute_result"
    }
   ],
   "source": [
    "# Parse the df into user-friendly dataframe\n",
    "\n",
    "df = df.entry.apply(parse_api_logs_data)\n",
    "df"
   ]
  },
  {
   "cell_type": "code",
   "execution_count": 59,
   "metadata": {
    "pycharm": {
     "name": "#%%\n"
    }
   },
   "outputs": [
    {
     "data": {
      "text/html": [
       "<div><div id=e3f32ed3-7e78-4aa1-9374-678f5cb9dfdc style=\"display:none; background-color:#9D6CFF; color:white; width:200px; height:30px; padding-left:5px; border-radius:4px; flex-direction:row; justify-content:space-around; align-items:center;\" onmouseover=\"this.style.backgroundColor='#BA9BF8'\" onmouseout=\"this.style.backgroundColor='#9D6CFF'\" onclick=\"window.commands?.execute('create-mitosheet-from-dataframe-output');\">See Full Dataframe in Mito</div> <script> if (window.commands.hasCommand('create-mitosheet-from-dataframe-output')) document.getElementById('e3f32ed3-7e78-4aa1-9374-678f5cb9dfdc').style.display = 'flex' </script> <table border=\"1\" class=\"dataframe\">\n",
       "  <thead>\n",
       "    <tr style=\"text-align: right;\">\n",
       "      <th></th>\n",
       "      <th>ip</th>\n",
       "      <th>request_method</th>\n",
       "      <th>request_path</th>\n",
       "      <th>http_version</th>\n",
       "      <th>status_code</th>\n",
       "      <th>size</th>\n",
       "      <th>user_agent</th>\n",
       "      <th>size_mb</th>\n",
       "    </tr>\n",
       "    <tr>\n",
       "      <th>timestamp</th>\n",
       "      <th></th>\n",
       "      <th></th>\n",
       "      <th></th>\n",
       "      <th></th>\n",
       "      <th></th>\n",
       "      <th></th>\n",
       "      <th></th>\n",
       "      <th></th>\n",
       "    </tr>\n",
       "  </thead>\n",
       "  <tbody>\n",
       "    <tr>\n",
       "      <th>2019-04-16 19:34:42</th>\n",
       "      <td>97.105.19.58</td>\n",
       "      <td>GET</td>\n",
       "      <td>/api/v1/sales?page=81</td>\n",
       "      <td>HTTP/1.1</td>\n",
       "      <td>200</td>\n",
       "      <td>512495</td>\n",
       "      <td>python-requests/2.21.0</td>\n",
       "      <td>0.488753</td>\n",
       "    </tr>\n",
       "    <tr>\n",
       "      <th>2019-04-16 19:34:42</th>\n",
       "      <td>97.105.19.58</td>\n",
       "      <td>GET</td>\n",
       "      <td>/api/v1/items</td>\n",
       "      <td>HTTP/1.1</td>\n",
       "      <td>200</td>\n",
       "      <td>3561</td>\n",
       "      <td>python-requests/2.21.0</td>\n",
       "      <td>0.003396</td>\n",
       "    </tr>\n",
       "    <tr>\n",
       "      <th>2019-04-16 19:34:44</th>\n",
       "      <td>97.105.19.58</td>\n",
       "      <td>GET</td>\n",
       "      <td>/api/v1/sales?page=82</td>\n",
       "      <td>HTTP/1.1</td>\n",
       "      <td>200</td>\n",
       "      <td>510103</td>\n",
       "      <td>python-requests/2.21.0</td>\n",
       "      <td>0.486472</td>\n",
       "    </tr>\n",
       "  </tbody>\n",
       "</table></div>"
      ],
      "text/plain": [
       "                               ip request_method           request_path  \\\n",
       "timestamp                                                                 \n",
       "2019-04-16 19:34:42  97.105.19.58            GET  /api/v1/sales?page=81   \n",
       "2019-04-16 19:34:42  97.105.19.58            GET          /api/v1/items   \n",
       "2019-04-16 19:34:44  97.105.19.58            GET  /api/v1/sales?page=82   \n",
       "\n",
       "                    http_version status_code    size              user_agent  \\\n",
       "timestamp                                                                      \n",
       "2019-04-16 19:34:42     HTTP/1.1         200  512495  python-requests/2.21.0   \n",
       "2019-04-16 19:34:42     HTTP/1.1         200    3561  python-requests/2.21.0   \n",
       "2019-04-16 19:34:44     HTTP/1.1         200  510103  python-requests/2.21.0   \n",
       "\n",
       "                      size_mb  \n",
       "timestamp                      \n",
       "2019-04-16 19:34:42  0.488753  \n",
       "2019-04-16 19:34:42  0.003396  \n",
       "2019-04-16 19:34:44  0.486472  "
      ]
     },
     "execution_count": 59,
     "metadata": {},
     "output_type": "execute_result"
    }
   ],
   "source": [
    "# Create new field of calculated mega bytes and index timestamp\n",
    "\n",
    "df['size_mb'] = df['size'] / 1024 / 1024\n",
    "\n",
    "df.timestamp = pd.to_datetime(df.timestamp)\n",
    "\n",
    "df = df.set_index('timestamp')\n",
    "df.head(3)"
   ]
  },
  {
   "cell_type": "markdown",
   "metadata": {
    "pycharm": {
     "name": "#%% md\n"
    }
   },
   "source": [
    "## Detecting Anomalies in Discrete Variables --> ip address example\n",
    "- Methods:\n",
    "    - Count (# times unique value appears)\n",
    "    - Frequencies (# times each unique value appears in df as % of total)"
   ]
  },
  {
   "cell_type": "code",
   "execution_count": 60,
   "metadata": {
    "pycharm": {
     "name": "#%%\n"
    }
   },
   "outputs": [
    {
     "data": {
      "text/plain": [
       "97.105.19.58      11998\n",
       "173.173.113.51     1059\n",
       "72.181.113.170      613\n",
       "72.181.105.81       246\n",
       "24.26.242.9          21\n",
       "Name: ip, dtype: int64"
      ]
     },
     "execution_count": 60,
     "metadata": {},
     "output_type": "execute_result"
    }
   ],
   "source": [
    "# Ip value counts (Most frequent)\n",
    "\n",
    "df.ip.value_counts().head()"
   ]
  },
  {
   "cell_type": "code",
   "execution_count": 61,
   "metadata": {
    "pycharm": {
     "name": "#%%\n"
    }
   },
   "outputs": [
    {
     "data": {
      "text/plain": [
       "97.105.19.58      0.858595\n",
       "173.173.113.51    0.075784\n",
       "72.181.113.170    0.043867\n",
       "72.181.105.81     0.017604\n",
       "24.26.242.9       0.001503\n",
       "68.201.219.223    0.001503\n",
       "70.121.214.34     0.000143\n",
       "52.87.230.102     0.000143\n",
       "35.175.171.137    0.000143\n",
       "54.145.52.184     0.000072\n",
       "3.92.201.136      0.000072\n",
       "35.174.209.2      0.000072\n",
       "34.229.70.250     0.000072\n",
       "54.172.14.223     0.000072\n",
       "34.207.64.242     0.000072\n",
       "3.88.129.158      0.000072\n",
       "52.91.30.150      0.000072\n",
       "52.90.165.200     0.000072\n",
       "45.23.250.16      0.000072\n",
       "Name: ip, dtype: float64"
      ]
     },
     "execution_count": 61,
     "metadata": {},
     "output_type": "execute_result"
    }
   ],
   "source": [
    "# Normalized ip count \n",
    "\n",
    "df.ip.value_counts(normalize = True)"
   ]
  },
  {
   "cell_type": "code",
   "execution_count": 62,
   "metadata": {
    "pycharm": {
     "name": "#%%\n"
    }
   },
   "outputs": [
    {
     "data": {
      "text/plain": [
       "54.145.52.184    1\n",
       "3.92.201.136     1\n",
       "35.174.209.2     1\n",
       "34.229.70.250    1\n",
       "54.172.14.223    1\n",
       "34.207.64.242    1\n",
       "3.88.129.158     1\n",
       "52.91.30.150     1\n",
       "52.90.165.200    1\n",
       "45.23.250.16     1\n",
       "Name: ip, dtype: int64"
      ]
     },
     "execution_count": 62,
     "metadata": {},
     "output_type": "execute_result"
    }
   ],
   "source": [
    "# IP counts (least frequent)\n",
    "\n",
    "df.ip.value_counts().tail(10)"
   ]
  },
  {
   "cell_type": "code",
   "execution_count": 63,
   "metadata": {
    "pycharm": {
     "name": "#%%\n"
    }
   },
   "outputs": [
    {
     "data": {
      "text/plain": [
       "python-requests/2.21.0                                                                                           12001\n",
       "python-requests/2.20.1                                                                                            1911\n",
       "Mozilla/5.0(Macintosh;IntelMacOSX10_14_4)AppleWebKit/537.36(KHTML,likeGecko)Chrome/73.0.3683.103Safari/537.36       34\n",
       "Mozilla/5.0(Macintosh;IntelMacOSX10.14;rv:66.0)Gecko/20100101Firefox/66.0                                            8\n",
       "Slackbot-LinkExpanding1.0(+https://api.slack.com/robots)                                                             7\n",
       "Name: user_agent, dtype: int64"
      ]
     },
     "execution_count": 63,
     "metadata": {},
     "output_type": "execute_result"
    }
   ],
   "source": [
    "# User agents (most frequent)\n",
    "\n",
    "df.user_agent.value_counts().head()"
   ]
  },
  {
   "cell_type": "code",
   "execution_count": 64,
   "metadata": {
    "pycharm": {
     "name": "#%%\n"
    }
   },
   "outputs": [
    {
     "data": {
      "text/html": [
       "<div><div id=552e9a6e-c42a-480b-ace9-2272d8c0fc43 style=\"display:none; background-color:#9D6CFF; color:white; width:200px; height:30px; padding-left:5px; border-radius:4px; flex-direction:row; justify-content:space-around; align-items:center;\" onmouseover=\"this.style.backgroundColor='#BA9BF8'\" onmouseout=\"this.style.backgroundColor='#9D6CFF'\" onclick=\"window.commands?.execute('create-mitosheet-from-dataframe-output');\">See Full Dataframe in Mito</div> <script> if (window.commands.hasCommand('create-mitosheet-from-dataframe-output')) document.getElementById('552e9a6e-c42a-480b-ace9-2272d8c0fc43').style.display = 'flex' </script> <table border=\"1\" class=\"dataframe\">\n",
       "  <thead>\n",
       "    <tr style=\"text-align: right;\">\n",
       "      <th></th>\n",
       "      <th>count</th>\n",
       "      <th>proba</th>\n",
       "    </tr>\n",
       "  </thead>\n",
       "  <tbody>\n",
       "    <tr>\n",
       "      <th>97.105.19.58</th>\n",
       "      <td>11998</td>\n",
       "      <td>0.858595</td>\n",
       "    </tr>\n",
       "    <tr>\n",
       "      <th>173.173.113.51</th>\n",
       "      <td>1059</td>\n",
       "      <td>0.075784</td>\n",
       "    </tr>\n",
       "    <tr>\n",
       "      <th>72.181.113.170</th>\n",
       "      <td>613</td>\n",
       "      <td>0.043867</td>\n",
       "    </tr>\n",
       "    <tr>\n",
       "      <th>72.181.105.81</th>\n",
       "      <td>246</td>\n",
       "      <td>0.017604</td>\n",
       "    </tr>\n",
       "    <tr>\n",
       "      <th>24.26.242.9</th>\n",
       "      <td>21</td>\n",
       "      <td>0.001503</td>\n",
       "    </tr>\n",
       "  </tbody>\n",
       "</table></div>"
      ],
      "text/plain": [
       "                count     proba\n",
       "97.105.19.58    11998  0.858595\n",
       "173.173.113.51   1059  0.075784\n",
       "72.181.113.170    613  0.043867\n",
       "72.181.105.81     246  0.017604\n",
       "24.26.242.9        21  0.001503"
      ]
     },
     "execution_count": 64,
     "metadata": {},
     "output_type": "execute_result"
    }
   ],
   "source": [
    "# Call the function to calculate the value counts and probability for each ip address\n",
    "\n",
    "ip_df = value_count_and_proba(df.ip)\n",
    "ip_df.head()"
   ]
  },
  {
   "cell_type": "code",
   "execution_count": 65,
   "metadata": {
    "pycharm": {
     "name": "#%%\n"
    }
   },
   "outputs": [
    {
     "data": {
      "text/html": [
       "<div><div id=acdc4b7d-da7f-4707-95c4-c35e737b1134 style=\"display:none; background-color:#9D6CFF; color:white; width:200px; height:30px; padding-left:5px; border-radius:4px; flex-direction:row; justify-content:space-around; align-items:center;\" onmouseover=\"this.style.backgroundColor='#BA9BF8'\" onmouseout=\"this.style.backgroundColor='#9D6CFF'\" onclick=\"window.commands?.execute('create-mitosheet-from-dataframe-output');\">See Full Dataframe in Mito</div> <script> if (window.commands.hasCommand('create-mitosheet-from-dataframe-output')) document.getElementById('acdc4b7d-da7f-4707-95c4-c35e737b1134').style.display = 'flex' </script> <table border=\"1\" class=\"dataframe\">\n",
       "  <thead>\n",
       "    <tr style=\"text-align: right;\">\n",
       "      <th></th>\n",
       "      <th>count</th>\n",
       "      <th>proba</th>\n",
       "    </tr>\n",
       "  </thead>\n",
       "  <tbody>\n",
       "    <tr>\n",
       "      <th>97.105.19.58</th>\n",
       "      <td>11998</td>\n",
       "      <td>0.858595</td>\n",
       "    </tr>\n",
       "    <tr>\n",
       "      <th>173.173.113.51</th>\n",
       "      <td>1059</td>\n",
       "      <td>0.075784</td>\n",
       "    </tr>\n",
       "    <tr>\n",
       "      <th>72.181.113.170</th>\n",
       "      <td>613</td>\n",
       "      <td>0.043867</td>\n",
       "    </tr>\n",
       "    <tr>\n",
       "      <th>72.181.105.81</th>\n",
       "      <td>246</td>\n",
       "      <td>0.017604</td>\n",
       "    </tr>\n",
       "    <tr>\n",
       "      <th>24.26.242.9</th>\n",
       "      <td>21</td>\n",
       "      <td>0.001503</td>\n",
       "    </tr>\n",
       "    <tr>\n",
       "      <th>...</th>\n",
       "      <td>...</td>\n",
       "      <td>...</td>\n",
       "    </tr>\n",
       "    <tr>\n",
       "      <th>34.207.64.242</th>\n",
       "      <td>1</td>\n",
       "      <td>0.000072</td>\n",
       "    </tr>\n",
       "    <tr>\n",
       "      <th>3.88.129.158</th>\n",
       "      <td>1</td>\n",
       "      <td>0.000072</td>\n",
       "    </tr>\n",
       "    <tr>\n",
       "      <th>52.91.30.150</th>\n",
       "      <td>1</td>\n",
       "      <td>0.000072</td>\n",
       "    </tr>\n",
       "    <tr>\n",
       "      <th>52.90.165.200</th>\n",
       "      <td>1</td>\n",
       "      <td>0.000072</td>\n",
       "    </tr>\n",
       "    <tr>\n",
       "      <th>45.23.250.16</th>\n",
       "      <td>1</td>\n",
       "      <td>0.000072</td>\n",
       "    </tr>\n",
       "  </tbody>\n",
       "</table></div>"
      ],
      "text/plain": [
       "                count     proba\n",
       "97.105.19.58    11998  0.858595\n",
       "173.173.113.51   1059  0.075784\n",
       "72.181.113.170    613  0.043867\n",
       "72.181.105.81     246  0.017604\n",
       "24.26.242.9        21  0.001503\n",
       "68.201.219.223     21  0.001503\n",
       "70.121.214.34       2  0.000143\n",
       "52.87.230.102       2  0.000143\n",
       "35.175.171.137      2  0.000143\n",
       "54.145.52.184       1  0.000072\n",
       "3.92.201.136        1  0.000072\n",
       "35.174.209.2        1  0.000072\n",
       "34.229.70.250       1  0.000072\n",
       "54.172.14.223       1  0.000072\n",
       "34.207.64.242       1  0.000072\n",
       "3.88.129.158        1  0.000072\n",
       "52.91.30.150        1  0.000072\n",
       "52.90.165.200       1  0.000072\n",
       "45.23.250.16        1  0.000072"
      ]
     },
     "execution_count": 65,
     "metadata": {},
     "output_type": "execute_result"
    }
   ],
   "source": [
    "ip_df"
   ]
  },
  {
   "cell_type": "code",
   "execution_count": 66,
   "metadata": {
    "pycharm": {
     "name": "#%%\n"
    }
   },
   "outputs": [
    {
     "data": {
      "image/png": "[encoded data removed]",
      "text/plain": [
       "<Figure size 936x432 with 1 Axes>"
      ]
     },
     "metadata": {
      "needs_background": "light"
     },
     "output_type": "display_data"
    }
   ],
   "source": [
    "ip_df['count'].sort_values().tail(5).plot.barh(figsize=(13, 6))\n",
    "plt.title('Least Probability of ip address (tail)')\n",
    "None"
   ]
  },
  {
   "cell_type": "markdown",
   "metadata": {
    "pycharm": {
     "name": "#%% md\n"
    }
   },
   "source": [
    "## Conditional Probalities"
   ]
  },
  {
   "cell_type": "code",
   "execution_count": 67,
   "metadata": {
    "pycharm": {
     "name": "#%%\n"
    }
   },
   "outputs": [
    {
     "data": {
      "text/html": [
       "<div><div id=8c6d11d2-a06b-4833-9e3b-98982ace026f style=\"display:none; background-color:#9D6CFF; color:white; width:200px; height:30px; padding-left:5px; border-radius:4px; flex-direction:row; justify-content:space-around; align-items:center;\" onmouseover=\"this.style.backgroundColor='#BA9BF8'\" onmouseout=\"this.style.backgroundColor='#9D6CFF'\" onclick=\"window.commands?.execute('create-mitosheet-from-dataframe-output');\">See Full Dataframe in Mito</div> <script> if (window.commands.hasCommand('create-mitosheet-from-dataframe-output')) document.getElementById('8c6d11d2-a06b-4833-9e3b-98982ace026f').style.display = 'flex' </script> <table border=\"1\" class=\"dataframe\">\n",
       "  <thead>\n",
       "    <tr style=\"text-align: right;\">\n",
       "      <th></th>\n",
       "      <th>ip</th>\n",
       "      <th>status_code</th>\n",
       "      <th>proba_status_given_ip</th>\n",
       "    </tr>\n",
       "  </thead>\n",
       "  <tbody>\n",
       "    <tr>\n",
       "      <th>0</th>\n",
       "      <td>173.173.113.51</td>\n",
       "      <td>200</td>\n",
       "      <td>1.0</td>\n",
       "    </tr>\n",
       "    <tr>\n",
       "      <th>1</th>\n",
       "      <td>24.26.242.9</td>\n",
       "      <td>200</td>\n",
       "      <td>1.0</td>\n",
       "    </tr>\n",
       "    <tr>\n",
       "      <th>2</th>\n",
       "      <td>3.88.129.158</td>\n",
       "      <td>200</td>\n",
       "      <td>1.0</td>\n",
       "    </tr>\n",
       "    <tr>\n",
       "      <th>3</th>\n",
       "      <td>3.92.201.136</td>\n",
       "      <td>200</td>\n",
       "      <td>1.0</td>\n",
       "    </tr>\n",
       "    <tr>\n",
       "      <th>4</th>\n",
       "      <td>34.207.64.242</td>\n",
       "      <td>200</td>\n",
       "      <td>1.0</td>\n",
       "    </tr>\n",
       "  </tbody>\n",
       "</table></div>"
      ],
      "text/plain": [
       "               ip status_code  proba_status_given_ip\n",
       "0  173.173.113.51         200                    1.0\n",
       "1     24.26.242.9         200                    1.0\n",
       "2    3.88.129.158         200                    1.0\n",
       "3    3.92.201.136         200                    1.0\n",
       "4   34.207.64.242         200                    1.0"
      ]
     },
     "execution_count": 67,
     "metadata": {},
     "output_type": "execute_result"
    }
   ],
   "source": [
    "# Search for unexpected status code from unknown ip address (proba of 1 == only status code for that ip)\n",
    "\n",
    "status_given_ip = (\n",
    "    df.groupby('ip')\n",
    "    .status_code.value_counts(normalize = True)\n",
    "    .rename('proba_status_given_ip')\n",
    "    .reset_index()\n",
    ")\n",
    "status_given_ip.head()\n"
   ]
  },
  {
   "cell_type": "code",
   "execution_count": 68,
   "metadata": {
    "pycharm": {
     "name": "#%%\n"
    }
   },
   "outputs": [
    {
     "data": {
      "text/html": [
       "<div><div id=863183f7-711a-4210-ae5f-963f49d5f0a4 style=\"display:none; background-color:#9D6CFF; color:white; width:200px; height:30px; padding-left:5px; border-radius:4px; flex-direction:row; justify-content:space-around; align-items:center;\" onmouseover=\"this.style.backgroundColor='#BA9BF8'\" onmouseout=\"this.style.backgroundColor='#9D6CFF'\" onclick=\"window.commands?.execute('create-mitosheet-from-dataframe-output');\">See Full Dataframe in Mito</div> <script> if (window.commands.hasCommand('create-mitosheet-from-dataframe-output')) document.getElementById('863183f7-711a-4210-ae5f-963f49d5f0a4').style.display = 'flex' </script> <table border=\"1\" class=\"dataframe\">\n",
       "  <thead>\n",
       "    <tr style=\"text-align: right;\">\n",
       "      <th></th>\n",
       "      <th>ip</th>\n",
       "      <th>status_code</th>\n",
       "      <th>proba_status_given_ip</th>\n",
       "    </tr>\n",
       "  </thead>\n",
       "  <tbody>\n",
       "    <tr>\n",
       "      <th>18</th>\n",
       "      <td>72.181.113.170</td>\n",
       "      <td>499</td>\n",
       "      <td>0.003263</td>\n",
       "    </tr>\n",
       "    <tr>\n",
       "      <th>20</th>\n",
       "      <td>97.105.19.58</td>\n",
       "      <td>499</td>\n",
       "      <td>0.001167</td>\n",
       "    </tr>\n",
       "  </tbody>\n",
       "</table></div>"
      ],
      "text/plain": [
       "                ip status_code  proba_status_given_ip\n",
       "18  72.181.113.170         499               0.003263\n",
       "20    97.105.19.58         499               0.001167"
      ]
     },
     "execution_count": 68,
     "metadata": {},
     "output_type": "execute_result"
    }
   ],
   "source": [
    "# Get other than 200/OK status code (multiple status code per ip address)\n",
    "\n",
    "status_given_ip[status_given_ip.status_code != '200']"
   ]
  },
  {
   "cell_type": "code",
   "execution_count": 69,
   "metadata": {
    "pycharm": {
     "name": "#%%\n"
    }
   },
   "outputs": [
    {
     "data": {
      "text/html": [
       "<div><div id=43b81005-3b59-4370-a68d-669238e48e33 style=\"display:none; background-color:#9D6CFF; color:white; width:200px; height:30px; padding-left:5px; border-radius:4px; flex-direction:row; justify-content:space-around; align-items:center;\" onmouseover=\"this.style.backgroundColor='#BA9BF8'\" onmouseout=\"this.style.backgroundColor='#9D6CFF'\" onclick=\"window.commands?.execute('create-mitosheet-from-dataframe-output');\">See Full Dataframe in Mito</div> <script> if (window.commands.hasCommand('create-mitosheet-from-dataframe-output')) document.getElementById('43b81005-3b59-4370-a68d-669238e48e33').style.display = 'flex' </script> <table border=\"1\" class=\"dataframe\">\n",
       "  <thead>\n",
       "    <tr style=\"text-align: right;\">\n",
       "      <th></th>\n",
       "      <th>ip</th>\n",
       "      <th>status_code</th>\n",
       "      <th>proba_status_given_ip</th>\n",
       "    </tr>\n",
       "  </thead>\n",
       "  <tbody>\n",
       "    <tr>\n",
       "      <th>17</th>\n",
       "      <td>72.181.113.170</td>\n",
       "      <td>200</td>\n",
       "      <td>0.996737</td>\n",
       "    </tr>\n",
       "    <tr>\n",
       "      <th>18</th>\n",
       "      <td>72.181.113.170</td>\n",
       "      <td>499</td>\n",
       "      <td>0.003263</td>\n",
       "    </tr>\n",
       "    <tr>\n",
       "      <th>19</th>\n",
       "      <td>97.105.19.58</td>\n",
       "      <td>200</td>\n",
       "      <td>0.998833</td>\n",
       "    </tr>\n",
       "    <tr>\n",
       "      <th>20</th>\n",
       "      <td>97.105.19.58</td>\n",
       "      <td>499</td>\n",
       "      <td>0.001167</td>\n",
       "    </tr>\n",
       "  </tbody>\n",
       "</table></div>"
      ],
      "text/plain": [
       "                ip status_code  proba_status_given_ip\n",
       "17  72.181.113.170         200               0.996737\n",
       "18  72.181.113.170         499               0.003263\n",
       "19    97.105.19.58         200               0.998833\n",
       "20    97.105.19.58         499               0.001167"
      ]
     },
     "execution_count": 69,
     "metadata": {},
     "output_type": "execute_result"
    }
   ],
   "source": [
    "# With proba status given find less than 1\n",
    "\n",
    "status_given_ip[status_given_ip.proba_status_given_ip < 1]"
   ]
  },
  {
   "cell_type": "markdown",
   "metadata": {
    "pycharm": {
     "name": "#%% md\n"
    }
   },
   "source": [
    "## Exploring  Other Features in this Dataset --> Request path Example"
   ]
  },
  {
   "cell_type": "code",
   "execution_count": 70,
   "metadata": {
    "pycharm": {
     "name": "#%%\n"
    },
    "scrolled": false
   },
   "outputs": [
    {
     "data": {
      "text/plain": [
       "array(['/api/v1/sales?page=81', '/api/v1/items', '/api/v1/sales?page=82',\n",
       "       '/api/v1/sales?page=83', '/api/v1/sales?page=84', '/api/v1/stores',\n",
       "       '/api/v1/sales?page=85', '/api/v1/sales?page=86', '/',\n",
       "       '/api/v1/items?page=2', '/api/v1/items?page=3', '/api/v1/sales',\n",
       "       '/api/v1/sales?page=87', '/api/v1/sales?page=88',\n",
       "       '/api/v1/sales?page=89', '/api/v1/sales?page=90',\n",
       "       '/api/v1/sales?page=91', '/api/v1/sales?page=92',\n",
       "       '/api/v1/sales?page=93', '/api/v1/sales?page=94',\n",
       "       '/api/v1/sales?page=95', '/api/v1/sales?page=96',\n",
       "       '/api/v1/sales?page=97', '/api/v1/sales?page=98',\n",
       "       '/api/v1/sales?page=99', '/api/v1/sales?page=100',\n",
       "       '/api/v1/sales?page=101', '/api/v1/sales?page=102',\n",
       "       '/api/v1/sales?page=103', '/api/v1/sales?page=104',\n",
       "       '/api/v1/sales?page=105', '/api/v1/sales?page=106',\n",
       "       '/api/v1/sales?page=107', '/documentation',\n",
       "       '/api/v1/sales?page=108', '/api/v1/sales?page=109',\n",
       "       '/api/v1/sales?page=110', '/api/v1/sales?page=111',\n",
       "       '/api/v1/sales?page=112', '/api/v1/sales?page=113',\n",
       "       '/api/v1/sales?page=114', '/api/v1/sales?page=115',\n",
       "       '/api/v1/sales?page=116', '/api/v1/sales?page=117',\n",
       "       '/api/v1/sales?page=118', '/api/v1/sales?page=119',\n",
       "       '/api/v1/sales?page=120', '/api/v1/sales?page=2',\n",
       "       '/api/v1/sales?page=121', '/api/v1/sales?page=3',\n",
       "       '/api/v1/sales?page=122', '/api/v1/sales?page=123',\n",
       "       '/api/v1/sales?page=124', '/api/v1/sales?page=125',\n",
       "       '/api/v1/sales?page=126', '/api/v1/sales?page=127',\n",
       "       '/api/v1/sales?page=128', '/api/v1/sales?page=129',\n",
       "       '/api/v1/sales?page=130', '/api/v1/sales?page=131',\n",
       "       '/api/v1/sales?page=132', '/api/v1/sales?page=133',\n",
       "       '/api/v1/sales?page=134', '/api/v1/sales?page=135',\n",
       "       '/api/v1/sales?page=136', '/api/v1/sales?page=137',\n",
       "       '/api/v1/sales?page=138', '/api/v1/sales?page=139',\n",
       "       '/api/v1/sales?page=140', '/api/v1/sales?page=141',\n",
       "       '/api/v1/sales?page=142', '/api/v1/sales?page=143',\n",
       "       '/api/v1/sales?page=144', '/api/v1/sales?page=145',\n",
       "       '/api/v1/sales?page=146', '/api/v1/sales?page=147',\n",
       "       '/api/v1/sales?page=148', '/api/v1/sales?page=149',\n",
       "       '/api/v1/sales?page=150', '/api/v1/sales?page=151',\n",
       "       '/api/v1/sales?page=152', '/api/v1/sales?page=153',\n",
       "       '/api/v1/sales?page=154', '/api/v1/sales?page=155',\n",
       "       '/api/v1/sales?page=156', '/api/v1/sales?page=4',\n",
       "       '/api/v1/sales?page=157', '/api/v1/sales?page=5',\n",
       "       '/api/v1/sales?page=158', '/api/v1/sales?page=6',\n",
       "       '/api/v1/sales?page=159', '/api/v1/sales?page=7',\n",
       "       '/api/v1/sales?page=160',\n",
       "       '/api/v1/items?page=99999999999999999998', '/api/v1/sales?page=8',\n",
       "       '/api/v1/sales?page=161', '/api/v1/sales?page=9',\n",
       "       '/api/v1/sales?page=10', '/api/v1/sales?page=162',\n",
       "       '/api/v1/sales?page=11', '/api/v1/sales?page=163',\n",
       "       '/api/v1/sales?page=12', '/api/v1/sales?page=164',\n",
       "       '/api/v1/sales?page=13', '/api/v1/sales?page=14',\n",
       "       '/api/v1/sales?page=165', '/api/v1/sales?page=15',\n",
       "       '/api/v1/sales?page=166', '/api/v1/sales?page=16',\n",
       "       '/api/v1/sales?page=167', '/api/v1/sales?page=17',\n",
       "       '/api/v1/sales?page=168', '/api/v1/sales?page=18',\n",
       "       '/api/v1/sales?page=19', '/api/v1/sales?page=169',\n",
       "       '/api/v1/sales?page=20', '/api/v1/sales?page=170',\n",
       "       '/api/v1/sales?page=21', '/api/v1/sales?page=171',\n",
       "       '/api/v1/sales?page=22', '/api/v1/sales?page=172',\n",
       "       '/api/v1/sales?page=23', '/api/v1/sales?page=173',\n",
       "       '/api/v1/sales?page=24', '/api/v1/sales?page=174',\n",
       "       '/api/v1/sales?page=25', '/api/v1/sales?page=175',\n",
       "       '/api/v1/sales?page=26', '/api/v1/sales?page=176',\n",
       "       '/api/v1/sales?page=27', '/api/v1/sales?page=177',\n",
       "       '/api/v1/sales?page=28', '/api/v1/sales?page=178',\n",
       "       '/api/v1/sales?page=29', '/api/v1/sales?page=179',\n",
       "       '/api/v1/sales?page=30', '/api/v1/sales?page=180',\n",
       "       '/api/v1/sales?page=31', '/api/v1/sales?page=181',\n",
       "       '/api/v1/sales?page=32', '/api/V1/HiZach!', '/favicon.ico',\n",
       "       '/api/v1/sales?page=182', '/api/v1/sales?page=33',\n",
       "       '/api/v1/sales?page=183', '/api/v1/sales?page=34',\n",
       "       '/api/v1/sales?page=35', '/api/v1/sales?page=36',\n",
       "       '/api/v1/sales?page=37', '/api/v1/sales?page=38',\n",
       "       '/api/v1/sales?page=39', '/api/v1/sales?page=40',\n",
       "       '/api/v1/sales?page=41', '/api/v1/sales?page=42',\n",
       "       '/api/v1/sales?page=43', '/api/v1/sales?page=44',\n",
       "       '/api/v1/sales?page=45', '/api/v1/sales?page=46',\n",
       "       '/api/v1/sales?page=47', '/api/v1/sales?page=48',\n",
       "       '/api/v1/sales?page=49', '/api/v1/sales?page=50',\n",
       "       '/api/v1/sales?page=51', '/api/v1/sales?page=52',\n",
       "       '/api/v1/sales?page=53', '/api/v1/sales?page=54',\n",
       "       '/api/v1/items/next_page', '/api/v1/sales?page=55',\n",
       "       '/api/v1/sales?page=56', '/api/v1/sales?page=57',\n",
       "       '/api/v1/sales?page=58', '/api/v1/sales?page=59',\n",
       "       '/api/v1/sales?page=60', '/api/v1/sales?page=61',\n",
       "       '/api/v1/sales?page=62', '/api/v1/stores?page=666',\n",
       "       '/api/v1/sales?page=63', '/api/v1/sales?page=64',\n",
       "       '/api/v1/sales?page=65', '/api/v1/sales?page=66',\n",
       "       '/api/v1/sales?page=67', '/api/v1/sales?page=68',\n",
       "       '/api/v1/sales?page=69', '/api/v1/sales?page=70',\n",
       "       '/api/v1/sales?page=71', '/api/v1/sales?page=72',\n",
       "       '/api/v1/sales?page=73', '/api/v1/sales?page=74',\n",
       "       '/api/v1/sales?page=75', '/api/v1/sales?page=76',\n",
       "       '/api/v1/sales?page=77', '/api/v1/sales?page=78',\n",
       "       '/api/v1/sales?page=79', '/api/v1/sales?page=80', '/api/v1/',\n",
       "       '/api/v1//api/v1/items?page=2', '/api/v1/stores?page=0',\n",
       "       '/api/v1/stores?page=1', '/api/v1/stores?page=2',\n",
       "       '/api/v1/stores?page=999', '/api/v1/items?page=0',\n",
       "       '/api/v1//api/v1/items', '/api/v1//api/v1/items/next_page',\n",
       "       '/api/v1items', '/api/v1', '/api/v1/items/api/v1/items?page=2',\n",
       "       '/api/v1/helloclass!', '/api/v1/I_DIDNT_DO_IT!!!!',\n",
       "       '/api/v1/itemsitems', '/api/v1/items?page=1',\n",
       "       '/api/v1/stores?page=3', '/api/v1/sales?page=1',\n",
       "       '/api/v1/stores?page=183', '/api/v1/items&page=0',\n",
       "       '/api/v1/sales/?page=2', '/api/v1/store', '/api/v1/items?page=4',\n",
       "       '/api/v1/items/api/v1/items?page=3'], dtype=object)"
      ]
     },
     "execution_count": 70,
     "metadata": {},
     "output_type": "execute_result"
    }
   ],
   "source": [
    "df.request_path.unique()"
   ]
  },
  {
   "cell_type": "code",
   "execution_count": 71,
   "metadata": {
    "pycharm": {
     "name": "#%%\n"
    }
   },
   "outputs": [
    {
     "data": {
      "text/html": [
       "<div><div id=ee853acc-e670-4139-a706-97ffc157bc73 style=\"display:none; background-color:#9D6CFF; color:white; width:200px; height:30px; padding-left:5px; border-radius:4px; flex-direction:row; justify-content:space-around; align-items:center;\" onmouseover=\"this.style.backgroundColor='#BA9BF8'\" onmouseout=\"this.style.backgroundColor='#9D6CFF'\" onclick=\"window.commands?.execute('create-mitosheet-from-dataframe-output');\">See Full Dataframe in Mito</div> <script> if (window.commands.hasCommand('create-mitosheet-from-dataframe-output')) document.getElementById('ee853acc-e670-4139-a706-97ffc157bc73').style.display = 'flex' </script> <table border=\"1\" class=\"dataframe\">\n",
       "  <thead>\n",
       "    <tr style=\"text-align: right;\">\n",
       "      <th></th>\n",
       "      <th>count</th>\n",
       "      <th>proba</th>\n",
       "    </tr>\n",
       "  </thead>\n",
       "  <tbody>\n",
       "    <tr>\n",
       "      <th>/api/v1/sales?page=2</th>\n",
       "      <td>709</td>\n",
       "      <td>0.050737</td>\n",
       "    </tr>\n",
       "    <tr>\n",
       "      <th>/api/v1/items</th>\n",
       "      <td>464</td>\n",
       "      <td>0.033205</td>\n",
       "    </tr>\n",
       "    <tr>\n",
       "      <th>/api/v1/items?page=2</th>\n",
       "      <td>291</td>\n",
       "      <td>0.020824</td>\n",
       "    </tr>\n",
       "    <tr>\n",
       "      <th>/api/v1/items?page=3</th>\n",
       "      <td>219</td>\n",
       "      <td>0.015672</td>\n",
       "    </tr>\n",
       "    <tr>\n",
       "      <th>/api/v1/stores</th>\n",
       "      <td>162</td>\n",
       "      <td>0.011593</td>\n",
       "    </tr>\n",
       "    <tr>\n",
       "      <th>...</th>\n",
       "      <td>...</td>\n",
       "      <td>...</td>\n",
       "    </tr>\n",
       "    <tr>\n",
       "      <th>/api/v1/items?page=0</th>\n",
       "      <td>1</td>\n",
       "      <td>0.000072</td>\n",
       "    </tr>\n",
       "    <tr>\n",
       "      <th>/api/v1/stores?page=999</th>\n",
       "      <td>1</td>\n",
       "      <td>0.000072</td>\n",
       "    </tr>\n",
       "    <tr>\n",
       "      <th>/api/v1/stores?page=2</th>\n",
       "      <td>1</td>\n",
       "      <td>0.000072</td>\n",
       "    </tr>\n",
       "    <tr>\n",
       "      <th>/api/v1/stores?page=666</th>\n",
       "      <td>1</td>\n",
       "      <td>0.000072</td>\n",
       "    </tr>\n",
       "    <tr>\n",
       "      <th>/api/v1/items/api/v1/items?page=3</th>\n",
       "      <td>1</td>\n",
       "      <td>0.000072</td>\n",
       "    </tr>\n",
       "  </tbody>\n",
       "</table></div>"
      ],
      "text/plain": [
       "                                   count     proba\n",
       "/api/v1/sales?page=2                 709  0.050737\n",
       "/api/v1/items                        464  0.033205\n",
       "/api/v1/items?page=2                 291  0.020824\n",
       "/api/v1/items?page=3                 219  0.015672\n",
       "/api/v1/stores                       162  0.011593\n",
       "...                                  ...       ...\n",
       "/api/v1/items?page=0                   1  0.000072\n",
       "/api/v1/stores?page=999                1  0.000072\n",
       "/api/v1/stores?page=2                  1  0.000072\n",
       "/api/v1/stores?page=666                1  0.000072\n",
       "/api/v1/items/api/v1/items?page=3      1  0.000072\n",
       "\n",
       "[218 rows x 2 columns]"
      ]
     },
     "execution_count": 71,
     "metadata": {},
     "output_type": "execute_result"
    }
   ],
   "source": [
    "# Call the function to calculate the value counts and probability for each ip address\n",
    "\n",
    "path_df = value_count_and_proba(df.request_path)\n",
    "path_df"
   ]
  },
  {
   "cell_type": "code",
   "execution_count": 72,
   "metadata": {
    "pycharm": {
     "name": "#%%\n"
    }
   },
   "outputs": [
    {
     "data": {
      "image/png": "[encoded data removed]",
      "text/plain": [
       "<Figure size 936x432 with 1 Axes>"
      ]
     },
     "metadata": {
      "needs_background": "light"
     },
     "output_type": "display_data"
    }
   ],
   "source": [
    "path_df['count'].sort_values().tail(5).plot.barh(figsize=(13, 6))\n",
    "plt.title('Least Probability of ip address (tail)')\n",
    "None"
   ]
  },
  {
   "cell_type": "code",
   "execution_count": 73,
   "metadata": {},
   "outputs": [
    {
     "data": {
      "text/html": [
       "<div><div id=d5c629c4-154c-4592-bdaa-92474825db2a style=\"display:none; background-color:#9D6CFF; color:white; width:200px; height:30px; padding-left:5px; border-radius:4px; flex-direction:row; justify-content:space-around; align-items:center;\" onmouseover=\"this.style.backgroundColor='#BA9BF8'\" onmouseout=\"this.style.backgroundColor='#9D6CFF'\" onclick=\"window.commands?.execute('create-mitosheet-from-dataframe-output');\">See Full Dataframe in Mito</div> <script> if (window.commands.hasCommand('create-mitosheet-from-dataframe-output')) document.getElementById('d5c629c4-154c-4592-bdaa-92474825db2a').style.display = 'flex' </script> <table border=\"1\" class=\"dataframe\">\n",
       "  <thead>\n",
       "    <tr style=\"text-align: right;\">\n",
       "      <th></th>\n",
       "      <th>request_method</th>\n",
       "      <th>status_code</th>\n",
       "      <th>proba_status_given_ip</th>\n",
       "    </tr>\n",
       "  </thead>\n",
       "  <tbody>\n",
       "    <tr>\n",
       "      <th>0</th>\n",
       "      <td>GET</td>\n",
       "      <td>200</td>\n",
       "      <td>0.998855</td>\n",
       "    </tr>\n",
       "    <tr>\n",
       "      <th>1</th>\n",
       "      <td>GET</td>\n",
       "      <td>499</td>\n",
       "      <td>0.001145</td>\n",
       "    </tr>\n",
       "  </tbody>\n",
       "</table></div>"
      ],
      "text/plain": [
       "  request_method status_code  proba_status_given_ip\n",
       "0            GET         200               0.998855\n",
       "1            GET         499               0.001145"
      ]
     },
     "execution_count": 73,
     "metadata": {},
     "output_type": "execute_result"
    }
   ],
   "source": [
    "# Request method by status code ( 200| 499)\n",
    "method_given_status_code = (df.groupby('request_method')\n",
    "                            .status_code.value_counts(normalize = True)\n",
    "                            .rename('proba_status_given_ip')\n",
    "                            .reset_index())\n",
    "method_given_status_code.head()"
   ]
  },
  {
   "cell_type": "code",
   "execution_count": 74,
   "metadata": {},
   "outputs": [],
   "source": [
    "# Merge original df to status code by request method\n",
    "df = df.reset_index().merge(method_given_status_code, on = ['request_method'], how = 'left').fillna(value = 0).set_index('timestamp')"
   ]
  },
  {
   "cell_type": "code",
   "execution_count": 75,
   "metadata": {},
   "outputs": [
    {
     "data": {
      "text/html": [
       "<div><div id=4275c16d-256b-4737-a5e8-8c885b80c985 style=\"display:none; background-color:#9D6CFF; color:white; width:200px; height:30px; padding-left:5px; border-radius:4px; flex-direction:row; justify-content:space-around; align-items:center;\" onmouseover=\"this.style.backgroundColor='#BA9BF8'\" onmouseout=\"this.style.backgroundColor='#9D6CFF'\" onclick=\"window.commands?.execute('create-mitosheet-from-dataframe-output');\">See Full Dataframe in Mito</div> <script> if (window.commands.hasCommand('create-mitosheet-from-dataframe-output')) document.getElementById('4275c16d-256b-4737-a5e8-8c885b80c985').style.display = 'flex' </script> <table border=\"1\" class=\"dataframe\">\n",
       "  <thead>\n",
       "    <tr style=\"text-align: right;\">\n",
       "      <th></th>\n",
       "      <th>ip</th>\n",
       "      <th>request_method</th>\n",
       "      <th>request_path</th>\n",
       "      <th>http_version</th>\n",
       "      <th>status_code_x</th>\n",
       "      <th>size</th>\n",
       "      <th>user_agent</th>\n",
       "      <th>size_mb</th>\n",
       "      <th>status_code_y</th>\n",
       "      <th>proba_status_given_ip</th>\n",
       "    </tr>\n",
       "    <tr>\n",
       "      <th>timestamp</th>\n",
       "      <th></th>\n",
       "      <th></th>\n",
       "      <th></th>\n",
       "      <th></th>\n",
       "      <th></th>\n",
       "      <th></th>\n",
       "      <th></th>\n",
       "      <th></th>\n",
       "      <th></th>\n",
       "      <th></th>\n",
       "    </tr>\n",
       "  </thead>\n",
       "  <tbody>\n",
       "    <tr>\n",
       "      <th>2019-04-16 19:34:42</th>\n",
       "      <td>97.105.19.58</td>\n",
       "      <td>GET</td>\n",
       "      <td>/api/v1/sales?page=81</td>\n",
       "      <td>HTTP/1.1</td>\n",
       "      <td>200</td>\n",
       "      <td>512495</td>\n",
       "      <td>python-requests/2.21.0</td>\n",
       "      <td>0.488753</td>\n",
       "      <td>200</td>\n",
       "      <td>0.998855</td>\n",
       "    </tr>\n",
       "    <tr>\n",
       "      <th>2019-04-16 19:34:42</th>\n",
       "      <td>97.105.19.58</td>\n",
       "      <td>GET</td>\n",
       "      <td>/api/v1/sales?page=81</td>\n",
       "      <td>HTTP/1.1</td>\n",
       "      <td>200</td>\n",
       "      <td>512495</td>\n",
       "      <td>python-requests/2.21.0</td>\n",
       "      <td>0.488753</td>\n",
       "      <td>499</td>\n",
       "      <td>0.001145</td>\n",
       "    </tr>\n",
       "    <tr>\n",
       "      <th>2019-04-16 19:34:42</th>\n",
       "      <td>97.105.19.58</td>\n",
       "      <td>GET</td>\n",
       "      <td>/api/v1/items</td>\n",
       "      <td>HTTP/1.1</td>\n",
       "      <td>200</td>\n",
       "      <td>3561</td>\n",
       "      <td>python-requests/2.21.0</td>\n",
       "      <td>0.003396</td>\n",
       "      <td>200</td>\n",
       "      <td>0.998855</td>\n",
       "    </tr>\n",
       "    <tr>\n",
       "      <th>2019-04-16 19:34:42</th>\n",
       "      <td>97.105.19.58</td>\n",
       "      <td>GET</td>\n",
       "      <td>/api/v1/items</td>\n",
       "      <td>HTTP/1.1</td>\n",
       "      <td>200</td>\n",
       "      <td>3561</td>\n",
       "      <td>python-requests/2.21.0</td>\n",
       "      <td>0.003396</td>\n",
       "      <td>499</td>\n",
       "      <td>0.001145</td>\n",
       "    </tr>\n",
       "    <tr>\n",
       "      <th>2019-04-16 19:34:44</th>\n",
       "      <td>97.105.19.58</td>\n",
       "      <td>GET</td>\n",
       "      <td>/api/v1/sales?page=82</td>\n",
       "      <td>HTTP/1.1</td>\n",
       "      <td>200</td>\n",
       "      <td>510103</td>\n",
       "      <td>python-requests/2.21.0</td>\n",
       "      <td>0.486472</td>\n",
       "      <td>200</td>\n",
       "      <td>0.998855</td>\n",
       "    </tr>\n",
       "  </tbody>\n",
       "</table></div>"
      ],
      "text/plain": [
       "                               ip request_method           request_path  \\\n",
       "timestamp                                                                 \n",
       "2019-04-16 19:34:42  97.105.19.58            GET  /api/v1/sales?page=81   \n",
       "2019-04-16 19:34:42  97.105.19.58            GET  /api/v1/sales?page=81   \n",
       "2019-04-16 19:34:42  97.105.19.58            GET          /api/v1/items   \n",
       "2019-04-16 19:34:42  97.105.19.58            GET          /api/v1/items   \n",
       "2019-04-16 19:34:44  97.105.19.58            GET  /api/v1/sales?page=82   \n",
       "\n",
       "                    http_version status_code_x    size  \\\n",
       "timestamp                                                \n",
       "2019-04-16 19:34:42     HTTP/1.1           200  512495   \n",
       "2019-04-16 19:34:42     HTTP/1.1           200  512495   \n",
       "2019-04-16 19:34:42     HTTP/1.1           200    3561   \n",
       "2019-04-16 19:34:42     HTTP/1.1           200    3561   \n",
       "2019-04-16 19:34:44     HTTP/1.1           200  510103   \n",
       "\n",
       "                                 user_agent   size_mb status_code_y  \\\n",
       "timestamp                                                             \n",
       "2019-04-16 19:34:42  python-requests/2.21.0  0.488753           200   \n",
       "2019-04-16 19:34:42  python-requests/2.21.0  0.488753           499   \n",
       "2019-04-16 19:34:42  python-requests/2.21.0  0.003396           200   \n",
       "2019-04-16 19:34:42  python-requests/2.21.0  0.003396           499   \n",
       "2019-04-16 19:34:44  python-requests/2.21.0  0.486472           200   \n",
       "\n",
       "                     proba_status_given_ip  \n",
       "timestamp                                   \n",
       "2019-04-16 19:34:42               0.998855  \n",
       "2019-04-16 19:34:42               0.001145  \n",
       "2019-04-16 19:34:42               0.998855  \n",
       "2019-04-16 19:34:42               0.001145  \n",
       "2019-04-16 19:34:44               0.998855  "
      ]
     },
     "execution_count": 75,
     "metadata": {},
     "output_type": "execute_result"
    }
   ],
   "source": [
    "df.head()"
   ]
  }
 ],
 "metadata": {
  "kernelspec": {
   "display_name": "Python 3 (ipykernel)",
   "language": "python",
   "name": "python3"
  },
  "language_info": {
   "codemirror_mode": {
    "name": "ipython",
    "version": 3
   },
   "file_extension": ".py",
   "mimetype": "text/x-python",
   "name": "python",
   "nbconvert_exporter": "python",
   "pygments_lexer": "ipython3",
   "version": "3.9.7"
  }
 },
 "nbformat": 4,
 "nbformat_minor": 1
}
