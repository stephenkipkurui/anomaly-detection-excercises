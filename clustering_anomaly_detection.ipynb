{
 "cells": [
  {
   "cell_type": "markdown",
   "id": "af413652",
   "metadata": {},
   "source": [
    "# Detect Anomalies Using Density Based Clustering  (DBSCAN)\n",
    "\n",
    "## Exercises\n",
    "\n",
    "Reference: https://scikit-learn.org/stable/modules/generated/sklearn.cluster.DBSCAN.html?highlight=dbscan"
   ]
  },
  {
   "cell_type": "code",
   "execution_count": 1,
   "id": "1d9408c6",
   "metadata": {},
   "outputs": [],
   "source": [
    "# Import libraries\n",
    "import  pandas as pd\n",
    "import numpy as np\n",
    "import seaborn as sns\n",
    "import matplotlib.pyplot as plt\n",
    "from sklearn import  metrics\n",
    "import  env\n",
    "from matplotlib import style\n",
    "from sklearn.preprocessing import MinMaxScaler, StandardScaler\n",
    "\n",
    "from wrangle import parse_curriculum_access_data, parse_grocery_data\n",
    "# DBSCAN import\n",
    "from sklearn.cluster import DBSCAN\n",
    "\n",
    "# Ignore warnings\n",
    "import warnings\n",
    "warnings.filterwarnings('ignore')\n",
    "\n",
    "sns.set(rc={'figure.figsize':(13,6)})\n"
   ]
  },
  {
   "cell_type": "markdown",
   "id": "bbd5f46a",
   "metadata": {},
   "source": [
    "### NOTES:\n",
    "\n",
    "- #### Using density based clustering, like DBSCAN, we can design the model such that the data points that do not fall into a cluster are the anomalies.\n",
    "- #### Assumption: Data points that are similar tend to belong to similar groups or clusters, as determined by their distance from local centroids. Normal data points occur around a dense neighborhood and abnormalities are far away.\n",
    "\n",
    "\n",
    "### Steps: \n",
    "\n",
    "1. Select variables you want to cluster: \n",
    "        df = df[[\"col1\", \"col2\"]]\n",
    "2. Convert to array & dtype float: \n",
    "        np_array = df.values.astype(\"float32\", copy = False)\n",
    "3. Scale to standard normal:\n",
    "        scaler = StandardScaler().fit(np_array) np_array = scaler.transform(np_array)\n",
    "4. Create DBSCAN object and fit: \n",
    "        dbsc = DBSCAN(eps = .75, min_samples = 15).fit(np_array)\n",
    "5. Extract labels: \n",
    "        labels = dbsc.labels_\n",
    "6. Add labels back to original dataframe:\n",
    "        df['labels'] = labels\n",
    "7. Explore:\n",
    "        df.labels.value_counts() sns.scatterplot(df.col1, df.col2, hue=df.labels)"
   ]
  },
  {
   "cell_type": "markdown",
   "id": "c37954f6",
   "metadata": {},
   "source": [
    "### A. Grocery Data Clustering Anomalies Detection\n",
    "\n",
    "Use DBSCAN to detect anomalies in other products from the customers dataset. The database name is grocery_db."
   ]
  },
  {
   "cell_type": "code",
   "execution_count": 2,
   "id": "97be36a9",
   "metadata": {},
   "outputs": [
    {
     "name": "stdout",
     "output_type": "stream",
     "text": [
      "Getting grocery data from local machine..\n"
     ]
    },
    {
     "data": {
      "text/html": [
       "<div><div id=ebb84a13-4581-4d06-b1f7-b2e4f57d58dd style=\"display:none; background-color:#9D6CFF; color:white; width:200px; height:30px; padding-left:5px; border-radius:4px; flex-direction:row; justify-content:space-around; align-items:center;\" onmouseover=\"this.style.backgroundColor='#BA9BF8'\" onmouseout=\"this.style.backgroundColor='#9D6CFF'\" onclick=\"window.commands?.execute('create-mitosheet-from-dataframe-output');\">See Full Dataframe in Mito</div> <script> if (window.commands.hasCommand('create-mitosheet-from-dataframe-output')) document.getElementById('ebb84a13-4581-4d06-b1f7-b2e4f57d58dd').style.display = 'flex' </script> <table border=\"1\" class=\"dataframe\">\n",
       "  <thead>\n",
       "    <tr style=\"text-align: right;\">\n",
       "      <th></th>\n",
       "      <th>channel</th>\n",
       "      <th>region</th>\n",
       "      <th>fresh</th>\n",
       "      <th>milk</th>\n",
       "      <th>grocery</th>\n",
       "      <th>frozen</th>\n",
       "      <th>detergents_paper</th>\n",
       "      <th>delicassen</th>\n",
       "    </tr>\n",
       "    <tr>\n",
       "      <th>customer_id</th>\n",
       "      <th></th>\n",
       "      <th></th>\n",
       "      <th></th>\n",
       "      <th></th>\n",
       "      <th></th>\n",
       "      <th></th>\n",
       "      <th></th>\n",
       "      <th></th>\n",
       "    </tr>\n",
       "  </thead>\n",
       "  <tbody>\n",
       "    <tr>\n",
       "      <th>0</th>\n",
       "      <td>2</td>\n",
       "      <td>3</td>\n",
       "      <td>12669</td>\n",
       "      <td>9656</td>\n",
       "      <td>7561</td>\n",
       "      <td>214</td>\n",
       "      <td>2674</td>\n",
       "      <td>1338</td>\n",
       "    </tr>\n",
       "    <tr>\n",
       "      <th>1</th>\n",
       "      <td>2</td>\n",
       "      <td>3</td>\n",
       "      <td>7057</td>\n",
       "      <td>9810</td>\n",
       "      <td>9568</td>\n",
       "      <td>1762</td>\n",
       "      <td>3293</td>\n",
       "      <td>1776</td>\n",
       "    </tr>\n",
       "    <tr>\n",
       "      <th>2</th>\n",
       "      <td>2</td>\n",
       "      <td>3</td>\n",
       "      <td>6353</td>\n",
       "      <td>8808</td>\n",
       "      <td>7684</td>\n",
       "      <td>2405</td>\n",
       "      <td>3516</td>\n",
       "      <td>7844</td>\n",
       "    </tr>\n",
       "    <tr>\n",
       "      <th>3</th>\n",
       "      <td>1</td>\n",
       "      <td>3</td>\n",
       "      <td>13265</td>\n",
       "      <td>1196</td>\n",
       "      <td>4221</td>\n",
       "      <td>6404</td>\n",
       "      <td>507</td>\n",
       "      <td>1788</td>\n",
       "    </tr>\n",
       "    <tr>\n",
       "      <th>4</th>\n",
       "      <td>2</td>\n",
       "      <td>3</td>\n",
       "      <td>22615</td>\n",
       "      <td>5410</td>\n",
       "      <td>7198</td>\n",
       "      <td>3915</td>\n",
       "      <td>1777</td>\n",
       "      <td>5185</td>\n",
       "    </tr>\n",
       "  </tbody>\n",
       "</table></div>"
      ],
      "text/plain": [
       "             channel  region  fresh  milk  grocery  frozen  detergents_paper  \\\n",
       "customer_id                                                                    \n",
       "0                  2       3  12669  9656     7561     214              2674   \n",
       "1                  2       3   7057  9810     9568    1762              3293   \n",
       "2                  2       3   6353  8808     7684    2405              3516   \n",
       "3                  1       3  13265  1196     4221    6404               507   \n",
       "4                  2       3  22615  5410     7198    3915              1777   \n",
       "\n",
       "             delicassen  \n",
       "customer_id              \n",
       "0                  1338  \n",
       "1                  1776  \n",
       "2                  7844  \n",
       "3                  1788  \n",
       "4                  5185  "
      ]
     },
     "execution_count": 2,
     "metadata": {},
     "output_type": "execute_result"
    }
   ],
   "source": [
    "# Acquire the data\n",
    "df = parse_grocery_data()\n",
    "df.head()"
   ]
  },
  {
   "cell_type": "markdown",
   "id": "eaff6172",
   "metadata": {},
   "source": [
    "#### Variables to cluster"
   ]
  },
  {
   "cell_type": "code",
   "execution_count": 3,
   "id": "4a36a19c",
   "metadata": {},
   "outputs": [
    {
     "data": {
      "text/html": [
       "<div><div id=599366dc-d86c-41c2-8ec2-351b2ac79190 style=\"display:none; background-color:#9D6CFF; color:white; width:200px; height:30px; padding-left:5px; border-radius:4px; flex-direction:row; justify-content:space-around; align-items:center;\" onmouseover=\"this.style.backgroundColor='#BA9BF8'\" onmouseout=\"this.style.backgroundColor='#9D6CFF'\" onclick=\"window.commands?.execute('create-mitosheet-from-dataframe-output');\">See Full Dataframe in Mito</div> <script> if (window.commands.hasCommand('create-mitosheet-from-dataframe-output')) document.getElementById('599366dc-d86c-41c2-8ec2-351b2ac79190').style.display = 'flex' </script> <table border=\"1\" class=\"dataframe\">\n",
       "  <thead>\n",
       "    <tr style=\"text-align: right;\">\n",
       "      <th></th>\n",
       "      <th>frozen</th>\n",
       "      <th>grocery</th>\n",
       "      <th>detergents_paper</th>\n",
       "      <th>delicassen</th>\n",
       "    </tr>\n",
       "    <tr>\n",
       "      <th>customer_id</th>\n",
       "      <th></th>\n",
       "      <th></th>\n",
       "      <th></th>\n",
       "      <th></th>\n",
       "    </tr>\n",
       "  </thead>\n",
       "  <tbody>\n",
       "    <tr>\n",
       "      <th>0</th>\n",
       "      <td>214</td>\n",
       "      <td>7561</td>\n",
       "      <td>2674</td>\n",
       "      <td>1338</td>\n",
       "    </tr>\n",
       "    <tr>\n",
       "      <th>1</th>\n",
       "      <td>1762</td>\n",
       "      <td>9568</td>\n",
       "      <td>3293</td>\n",
       "      <td>1776</td>\n",
       "    </tr>\n",
       "    <tr>\n",
       "      <th>2</th>\n",
       "      <td>2405</td>\n",
       "      <td>7684</td>\n",
       "      <td>3516</td>\n",
       "      <td>7844</td>\n",
       "    </tr>\n",
       "    <tr>\n",
       "      <th>3</th>\n",
       "      <td>6404</td>\n",
       "      <td>4221</td>\n",
       "      <td>507</td>\n",
       "      <td>1788</td>\n",
       "    </tr>\n",
       "    <tr>\n",
       "      <th>4</th>\n",
       "      <td>3915</td>\n",
       "      <td>7198</td>\n",
       "      <td>1777</td>\n",
       "      <td>5185</td>\n",
       "    </tr>\n",
       "  </tbody>\n",
       "</table></div>"
      ],
      "text/plain": [
       "             frozen  grocery  detergents_paper  delicassen\n",
       "customer_id                                               \n",
       "0               214     7561              2674        1338\n",
       "1              1762     9568              3293        1776\n",
       "2              2405     7684              3516        7844\n",
       "3              6404     4221               507        1788\n",
       "4              3915     7198              1777        5185"
      ]
     },
     "execution_count": 3,
     "metadata": {},
     "output_type": "execute_result"
    }
   ],
   "source": [
    "frozen_grocery_detergent_delicassen = df[['frozen','grocery','detergents_paper','delicassen']]\n",
    "frozen_grocery_detergent_delicassen.head()"
   ]
  },
  {
   "cell_type": "markdown",
   "id": "a555b227",
   "metadata": {},
   "source": [
    "##### Normalize each attribute by scaling it to 0 mean and unit variance. \n",
    "    - This helps to keep the inter-relationships between the features intact so that a small change in one feature would reflect in the other."
   ]
  },
  {
   "cell_type": "code",
   "execution_count": 4,
   "id": "ac245c08",
   "metadata": {},
   "outputs": [
    {
     "data": {
      "text/plain": [
       "array([[0.0031063 , 0.08146416, 0.0654272 , 0.02784731],\n",
       "       [0.02854842, 0.10309667, 0.08058985, 0.03698373],\n",
       "       [0.03911643, 0.08278992, 0.08605232, 0.16355861],\n",
       "       ...,\n",
       "       [0.00677142, 0.32594285, 0.36346267, 0.03888194],\n",
       "       [0.01664914, 0.02402535, 0.00404174, 0.04426366],\n",
       "       [0.00065742, 0.02702178, 0.01161082, 0.00102211]])"
      ]
     },
     "execution_count": 4,
     "metadata": {},
     "output_type": "execute_result"
    }
   ],
   "source": [
    "# Call the scaler\n",
    "scaler = MinMaxScaler()\n",
    "\n",
    "# Fit the scaler\n",
    "scaler.fit(frozen_grocery_detergent_delicassen)\n",
    "\n",
    "# # Use scaler\n",
    "frozen_grocery_detergent_delicassen = scaler.transform(frozen_grocery_detergent_delicassen)\n",
    "frozen_grocery_detergent_delicassen"
   ]
  },
  {
   "cell_type": "markdown",
   "id": "b6a7150c",
   "metadata": {},
   "source": [
    "#### NOTE: Construct a DBSCAN object that requires a minimum of 20 data points in a neighborhood of radius 0.1 to be considered a core point.\n",
    "\n",
    "> ##### Eps --> The maximum distance between two samples for one to be considered as in the neighborhood of the other"
   ]
  },
  {
   "cell_type": "code",
   "execution_count": 5,
   "id": "a7369e61",
   "metadata": {},
   "outputs": [
    {
     "data": {
      "text/plain": [
       "DBSCAN(eps=0.1, min_samples=20)"
      ]
     },
     "execution_count": 5,
     "metadata": {},
     "output_type": "execute_result"
    }
   ],
   "source": [
    "# Create DBSCAN object\n",
    "dbsc = DBSCAN(eps = 0.1, min_samples = 20)\n",
    "# Fit dbscan object\n",
    "dbsc.fit(frozen_grocery_detergent_delicassen)"
   ]
  },
  {
   "cell_type": "markdown",
   "id": "de90b74a",
   "metadata": {},
   "source": [
    "#### Concat to main df scaled db"
   ]
  },
  {
   "cell_type": "code",
   "execution_count": 6,
   "id": "940b0484",
   "metadata": {},
   "outputs": [
    {
     "data": {
      "text/html": [
       "<div><div id=ea786a2f-f31e-4355-ac31-140f22f6ac7b style=\"display:none; background-color:#9D6CFF; color:white; width:200px; height:30px; padding-left:5px; border-radius:4px; flex-direction:row; justify-content:space-around; align-items:center;\" onmouseover=\"this.style.backgroundColor='#BA9BF8'\" onmouseout=\"this.style.backgroundColor='#9D6CFF'\" onclick=\"window.commands?.execute('create-mitosheet-from-dataframe-output');\">See Full Dataframe in Mito</div> <script> if (window.commands.hasCommand('create-mitosheet-from-dataframe-output')) document.getElementById('ea786a2f-f31e-4355-ac31-140f22f6ac7b').style.display = 'flex' </script> <table border=\"1\" class=\"dataframe\">\n",
       "  <thead>\n",
       "    <tr style=\"text-align: right;\">\n",
       "      <th></th>\n",
       "      <th>channel</th>\n",
       "      <th>region</th>\n",
       "      <th>fresh</th>\n",
       "      <th>milk</th>\n",
       "      <th>grocery</th>\n",
       "      <th>frozen</th>\n",
       "      <th>detergents_paper</th>\n",
       "      <th>delicassen</th>\n",
       "      <th>scaled_frozen</th>\n",
       "      <th>scaled_grocery</th>\n",
       "      <th>scaled_detergents_paper</th>\n",
       "      <th>scaled_delicassen</th>\n",
       "    </tr>\n",
       "  </thead>\n",
       "  <tbody>\n",
       "    <tr>\n",
       "      <th>0</th>\n",
       "      <td>2</td>\n",
       "      <td>3</td>\n",
       "      <td>12669</td>\n",
       "      <td>9656</td>\n",
       "      <td>7561</td>\n",
       "      <td>214</td>\n",
       "      <td>2674</td>\n",
       "      <td>1338</td>\n",
       "      <td>0.003106</td>\n",
       "      <td>0.081464</td>\n",
       "      <td>0.065427</td>\n",
       "      <td>0.027847</td>\n",
       "    </tr>\n",
       "    <tr>\n",
       "      <th>1</th>\n",
       "      <td>2</td>\n",
       "      <td>3</td>\n",
       "      <td>7057</td>\n",
       "      <td>9810</td>\n",
       "      <td>9568</td>\n",
       "      <td>1762</td>\n",
       "      <td>3293</td>\n",
       "      <td>1776</td>\n",
       "      <td>0.028548</td>\n",
       "      <td>0.103097</td>\n",
       "      <td>0.080590</td>\n",
       "      <td>0.036984</td>\n",
       "    </tr>\n",
       "    <tr>\n",
       "      <th>2</th>\n",
       "      <td>2</td>\n",
       "      <td>3</td>\n",
       "      <td>6353</td>\n",
       "      <td>8808</td>\n",
       "      <td>7684</td>\n",
       "      <td>2405</td>\n",
       "      <td>3516</td>\n",
       "      <td>7844</td>\n",
       "      <td>0.039116</td>\n",
       "      <td>0.082790</td>\n",
       "      <td>0.086052</td>\n",
       "      <td>0.163559</td>\n",
       "    </tr>\n",
       "    <tr>\n",
       "      <th>3</th>\n",
       "      <td>1</td>\n",
       "      <td>3</td>\n",
       "      <td>13265</td>\n",
       "      <td>1196</td>\n",
       "      <td>4221</td>\n",
       "      <td>6404</td>\n",
       "      <td>507</td>\n",
       "      <td>1788</td>\n",
       "      <td>0.104842</td>\n",
       "      <td>0.045464</td>\n",
       "      <td>0.012346</td>\n",
       "      <td>0.037234</td>\n",
       "    </tr>\n",
       "    <tr>\n",
       "      <th>4</th>\n",
       "      <td>2</td>\n",
       "      <td>3</td>\n",
       "      <td>22615</td>\n",
       "      <td>5410</td>\n",
       "      <td>7198</td>\n",
       "      <td>3915</td>\n",
       "      <td>1777</td>\n",
       "      <td>5185</td>\n",
       "      <td>0.063934</td>\n",
       "      <td>0.077552</td>\n",
       "      <td>0.043455</td>\n",
       "      <td>0.108093</td>\n",
       "    </tr>\n",
       "  </tbody>\n",
       "</table></div>"
      ],
      "text/plain": [
       "   channel  region  fresh  milk  grocery  frozen  detergents_paper  \\\n",
       "0        2       3  12669  9656     7561     214              2674   \n",
       "1        2       3   7057  9810     9568    1762              3293   \n",
       "2        2       3   6353  8808     7684    2405              3516   \n",
       "3        1       3  13265  1196     4221    6404               507   \n",
       "4        2       3  22615  5410     7198    3915              1777   \n",
       "\n",
       "   delicassen  scaled_frozen  scaled_grocery  scaled_detergents_paper  \\\n",
       "0        1338       0.003106        0.081464                 0.065427   \n",
       "1        1776       0.028548        0.103097                 0.080590   \n",
       "2        7844       0.039116        0.082790                 0.086052   \n",
       "3        1788       0.104842        0.045464                 0.012346   \n",
       "4        5185       0.063934        0.077552                 0.043455   \n",
       "\n",
       "   scaled_delicassen  \n",
       "0           0.027847  \n",
       "1           0.036984  \n",
       "2           0.163559  \n",
       "3           0.037234  \n",
       "4           0.108093  "
      ]
     },
     "execution_count": 6,
     "metadata": {},
     "output_type": "execute_result"
    }
   ],
   "source": [
    "cols = ['frozen','grocery','detergents_paper','delicassen']\n",
    "scaled_cols = ['scaled_'+ col for col in cols]\n",
    "\n",
    "# Save copy of main df\n",
    "save_original_df = df.copy()\n",
    "\n",
    "scaled_df = pd.DataFrame(frozen_grocery_detergent_delicassen, columns = scaled_cols)\n",
    "\n",
    "# Merge scaled and non-scaled cols\n",
    "df = df.merge(scaled_df, on = df.index)\n",
    "df = df.drop(columns = ['key_0'])\n",
    "df.head()"
   ]
  },
  {
   "cell_type": "markdown",
   "id": "7a87b730",
   "metadata": {},
   "source": [
    "#### Next, extract our cluster labels and outliers to plot our results.\n",
    "- DBSCAN makes a cluster called -1 that contains the \"noise\" or outliers\n",
    "- Cluster labels do not have inherent meaning\n",
    "\n",
    "> ### 0 --> 'Inliers'\n",
    "> ### -1 --> 'Outliers'\n"
   ]
  },
  {
   "cell_type": "code",
   "execution_count": 7,
   "id": "4c62268e",
   "metadata": {},
   "outputs": [
    {
     "data": {
      "text/plain": [
       " 0    413\n",
       "-1     27\n",
       "Name: labels, dtype: int64"
      ]
     },
     "execution_count": 7,
     "metadata": {},
     "output_type": "execute_result"
    }
   ],
   "source": [
    "# Get labels from cluster model\n",
    "\n",
    "df['labels'] = dbsc.labels_\n",
    "# Count\n",
    "df.labels.value_counts()"
   ]
  },
  {
   "cell_type": "markdown",
   "id": "85fda27c",
   "metadata": {},
   "source": [
    "#### Plots"
   ]
  },
  {
   "cell_type": "code",
   "execution_count": 8,
   "id": "3eb36d19",
   "metadata": {},
   "outputs": [
    {
     "data": {
      "image/png": "[encoded data removed]",
      "text/plain": [
       "<Figure size 936x432 with 1 Axes>"
      ]
     },
     "metadata": {},
     "output_type": "display_data"
    },
    {
     "data": {
      "image/png": "[encoded data removed]",
      "text/plain": [
       "<Figure size 936x432 with 1 Axes>"
      ]
     },
     "metadata": {},
     "output_type": "display_data"
    }
   ],
   "source": [
    "sns.scatterplot(df.delicassen, df.detergents_paper, hue = df.labels)\n",
    "plt.show()\n",
    "\n",
    "sns.scatterplot(df.delicassen, df.frozen, hue = df.labels)\n",
    "plt.show()"
   ]
  },
  {
   "cell_type": "code",
   "execution_count": 9,
   "id": "4e300198",
   "metadata": {},
   "outputs": [
    {
     "data": {
      "image/png": "[encoded data removed]",
      "text/plain": [
       "<Figure size 576x576 with 1 Axes>"
      ]
     },
     "metadata": {},
     "output_type": "display_data"
    }
   ],
   "source": [
    "from mpl_toolkits.mplot3d import Axes3D\n",
    "\n",
    "fig = plt.figure(1, figsize=(8, 8))\n",
    "ax = Axes3D(fig, rect=[0, 0, .95, 1], elev=30, azim=134)\n",
    "\n",
    "# plot the points\n",
    "ax.scatter(df.delicassen, df.detergents_paper, df.grocery,\n",
    "           c=df.labels, edgecolor='k')\n",
    "\n",
    "ax.w_xaxis.set_ticklabels([])\n",
    "ax.w_yaxis.set_ticklabels([])\n",
    "ax.w_zaxis.set_ticklabels([])\n",
    "\n",
    "ax.set_xlabel('Delicassen')\n",
    "ax.set_ylabel('Detergents Paper')\n",
    "ax.set_zlabel('Grocery')\n",
    "None"
   ]
  },
  {
   "cell_type": "markdown",
   "id": "1f722dc2",
   "metadata": {},
   "source": [
    "### Inlier, populationa and outliers"
   ]
  },
  {
   "cell_type": "code",
   "execution_count": 10,
   "id": "f73205b0",
   "metadata": {
    "scrolled": false
   },
   "outputs": [
    {
     "name": "stdout",
     "output_type": "stream",
     "text": [
      "Population\n",
      "          channel      region          fresh          milk       grocery  \\\n",
      "count  440.000000  440.000000     440.000000    440.000000    440.000000   \n",
      "mean     1.322727    2.543182   12000.297727   5796.265909   7951.277273   \n",
      "std      0.468052    0.774272   12647.328865   7380.377175   9503.162829   \n",
      "min      1.000000    1.000000       3.000000     55.000000      3.000000   \n",
      "25%      1.000000    2.000000    3127.750000   1533.000000   2153.000000   \n",
      "50%      1.000000    3.000000    8504.000000   3627.000000   4755.500000   \n",
      "75%      2.000000    3.000000   16933.750000   7190.250000  10655.750000   \n",
      "max      2.000000    3.000000  112151.000000  73498.000000  92780.000000   \n",
      "\n",
      "             frozen  detergents_paper    delicassen  scaled_frozen  \\\n",
      "count    440.000000        440.000000    440.000000     440.000000   \n",
      "mean    3071.931818       2881.493182   1524.870455       0.050078   \n",
      "std     4854.673333       4767.854448   2820.105937       0.079789   \n",
      "min       25.000000          3.000000      3.000000       0.000000   \n",
      "25%      742.250000        256.750000    408.250000       0.011788   \n",
      "50%     1526.000000        816.500000    965.500000       0.024670   \n",
      "75%     3554.250000       3922.000000   1820.250000       0.058005   \n",
      "max    60869.000000      40827.000000  47943.000000       1.000000   \n",
      "\n",
      "       scaled_grocery  scaled_detergents_paper  scaled_delicassen      labels  \n",
      "count      440.000000               440.000000         440.000000  440.000000  \n",
      "mean         0.085671                 0.070510           0.031745   -0.061364  \n",
      "std          0.102430                 0.116790           0.058826    0.240269  \n",
      "min          0.000000                 0.000000           0.000000   -1.000000  \n",
      "25%          0.023174                 0.006216           0.008453    0.000000  \n",
      "50%          0.051225                 0.019927           0.020077    0.000000  \n",
      "75%          0.114821                 0.095997           0.037907    0.000000  \n",
      "max          1.000000                 1.000000           1.000000    0.000000  \n",
      "-------------\n",
      "Inliers\n",
      "          channel      region         fresh          milk       grocery  \\\n",
      "count  413.000000  413.000000    413.000000    413.000000    413.000000   \n",
      "mean     1.295400    2.539952  11502.433414   4686.726392   6381.326877   \n",
      "std      0.456775    0.776773  11535.207739   4345.663728   5742.017352   \n",
      "min      1.000000    1.000000      3.000000     55.000000      3.000000   \n",
      "25%      1.000000    2.000000   3097.000000   1461.000000   2109.000000   \n",
      "50%      1.000000    3.000000   8257.000000   3373.000000   4438.000000   \n",
      "75%      2.000000    3.000000  16448.000000   6551.000000   9345.000000   \n",
      "max      2.000000    3.000000  76237.000000  25862.000000  28540.000000   \n",
      "\n",
      "             frozen  detergents_paper   delicassen  scaled_frozen  \\\n",
      "count    413.000000        413.000000   413.000000     413.000000   \n",
      "mean    2736.556901       2146.719128  1255.985472       0.044566   \n",
      "std     3270.842342       2786.846742  1216.734939       0.053758   \n",
      "min       25.000000          3.000000     3.000000       0.000000   \n",
      "25%      737.000000        252.000000   404.000000       0.011702   \n",
      "50%     1483.000000        759.000000   911.000000       0.023963   \n",
      "75%     3383.000000       3468.000000  1721.000000       0.055190   \n",
      "max    18711.000000      12638.000000  7844.000000       0.307113   \n",
      "\n",
      "       scaled_grocery  scaled_detergents_paper  scaled_delicassen  labels  \n",
      "count      413.000000               413.000000         413.000000   413.0  \n",
      "mean         0.068749                 0.052511           0.026137     0.0  \n",
      "std          0.061891                 0.068265           0.025380     0.0  \n",
      "min          0.000000                 0.000000           0.000000     0.0  \n",
      "25%          0.022700                 0.006099           0.008365     0.0  \n",
      "50%          0.047803                 0.018519           0.018940     0.0  \n",
      "75%          0.100693                 0.084877           0.035836     0.0  \n",
      "max          0.307587                 0.309499           0.163559     0.0  \n",
      "-------------\n",
      "Outliers\n",
      "         channel     region          fresh          milk       grocery  \\\n",
      "count  27.000000  27.000000      27.000000     27.000000     27.000000   \n",
      "mean    1.740741   2.592593   19615.777778  22768.111111  31965.703704   \n",
      "std     0.446576   0.747265   22980.614376  17371.694834  19088.397031   \n",
      "min     1.000000   1.000000      85.000000   1266.000000   2062.000000   \n",
      "25%     1.500000   2.500000    4725.500000  10217.500000  20606.000000   \n",
      "50%     2.000000   3.000000   12119.000000  16784.000000  28921.000000   \n",
      "75%     2.000000   3.000000   28038.000000  29759.500000  35639.000000   \n",
      "max     2.000000   3.000000  112151.000000  73498.000000  92780.000000   \n",
      "\n",
      "             frozen  detergents_paper    delicassen  scaled_frozen  \\\n",
      "count     27.000000         27.000000     27.000000      27.000000   \n",
      "mean    8201.925926      14120.814815   5637.814815       0.134392   \n",
      "std    14117.004721      11000.098070   9597.321465       0.232020   \n",
      "min       36.000000         71.000000      3.000000       0.000181   \n",
      "25%     1006.500000       4255.000000   1189.000000       0.016131   \n",
      "50%     3232.000000      14235.000000   2204.000000       0.052709   \n",
      "75%     6529.000000      19158.000000   5369.500000       0.106896   \n",
      "max    60869.000000      40827.000000  47943.000000       1.000000   \n",
      "\n",
      "       scaled_grocery  scaled_detergents_paper  scaled_delicassen  labels  \n",
      "count       27.000000                27.000000          27.000000    27.0  \n",
      "mean         0.344511                 0.345821           0.117539    -1.0  \n",
      "std          0.205745                 0.269452           0.200194     0.0  \n",
      "min          0.022193                 0.001666           0.000000    -1.0  \n",
      "25%          0.222070                 0.104154           0.024739    -1.0  \n",
      "50%          0.311694                 0.348618           0.045912    -1.0  \n",
      "75%          0.384104                 0.469209           0.111942    -1.0  \n",
      "max          1.000000                 1.000000           1.000000    -1.0  \n"
     ]
    }
   ],
   "source": [
    "# Let's look at the descriptive stats for the entire population, the inliers, then the outliers/anomalies\n",
    "\n",
    "print(\"Population\")\n",
    "print(df.describe())\n",
    "print(\"-------------\")\n",
    "print(\"Inliers\")\n",
    "print(df[df.labels==0].describe())\n",
    "print(\"-------------\")\n",
    "print(\"Outliers\")\n",
    "print(df[df.labels==-1].describe())"
   ]
  },
  {
   "cell_type": "code",
   "execution_count": null,
   "id": "da93b878",
   "metadata": {},
   "outputs": [],
   "source": []
  },
  {
   "cell_type": "markdown",
   "id": "8474b221",
   "metadata": {},
   "source": [
    "### B. Curriculum Logs Clustering Anomalies Detection \n",
    "\n",
    "Use DBSCAN to detect anomalies in requests from the curriculum access logs in the curriculum_logs database."
   ]
  },
  {
   "cell_type": "code",
   "execution_count": 2,
   "id": "7c42456c",
   "metadata": {},
   "outputs": [
    {
     "data": {
      "text/html": [
       "<div><div id=61c52f18-3ea9-4711-a426-248202b12723 style=\"display:none; background-color:#9D6CFF; color:white; width:200px; height:30px; padding-left:5px; border-radius:4px; flex-direction:row; justify-content:space-around; align-items:center;\" onmouseover=\"this.style.backgroundColor='#BA9BF8'\" onmouseout=\"this.style.backgroundColor='#9D6CFF'\" onclick=\"window.commands?.execute('create-mitosheet-from-dataframe-output');\">See Full Dataframe in Mito</div> <script> if (window.commands.hasCommand('create-mitosheet-from-dataframe-output')) document.getElementById('61c52f18-3ea9-4711-a426-248202b12723').style.display = 'flex' </script> <table border=\"1\" class=\"dataframe\">\n",
       "  <thead>\n",
       "    <tr style=\"text-align: right;\">\n",
       "      <th></th>\n",
       "      <th>time</th>\n",
       "      <th>page</th>\n",
       "      <th>id</th>\n",
       "      <th>cohort</th>\n",
       "      <th>ip</th>\n",
       "    </tr>\n",
       "    <tr>\n",
       "      <th>date</th>\n",
       "      <th></th>\n",
       "      <th></th>\n",
       "      <th></th>\n",
       "      <th></th>\n",
       "      <th></th>\n",
       "    </tr>\n",
       "  </thead>\n",
       "  <tbody>\n",
       "    <tr>\n",
       "      <th>2018-01-26</th>\n",
       "      <td>09:55:03</td>\n",
       "      <td>/</td>\n",
       "      <td>1</td>\n",
       "      <td>8.0</td>\n",
       "      <td>97.105.19.61</td>\n",
       "    </tr>\n",
       "    <tr>\n",
       "      <th>2018-01-26</th>\n",
       "      <td>09:56:02</td>\n",
       "      <td>java-ii</td>\n",
       "      <td>1</td>\n",
       "      <td>8.0</td>\n",
       "      <td>97.105.19.61</td>\n",
       "    </tr>\n",
       "    <tr>\n",
       "      <th>2018-01-26</th>\n",
       "      <td>09:56:05</td>\n",
       "      <td>java-ii/object-oriented-programming</td>\n",
       "      <td>1</td>\n",
       "      <td>8.0</td>\n",
       "      <td>97.105.19.61</td>\n",
       "    </tr>\n",
       "    <tr>\n",
       "      <th>2018-01-26</th>\n",
       "      <td>09:56:06</td>\n",
       "      <td>slides/object_oriented_programming</td>\n",
       "      <td>1</td>\n",
       "      <td>8.0</td>\n",
       "      <td>97.105.19.61</td>\n",
       "    </tr>\n",
       "    <tr>\n",
       "      <th>2018-01-26</th>\n",
       "      <td>09:56:24</td>\n",
       "      <td>javascript-i/conditionals</td>\n",
       "      <td>2</td>\n",
       "      <td>22.0</td>\n",
       "      <td>97.105.19.61</td>\n",
       "    </tr>\n",
       "  </tbody>\n",
       "</table></div>"
      ],
      "text/plain": [
       "                time                                 page  id  cohort  \\\n",
       "date                                                                    \n",
       "2018-01-26  09:55:03                                    /   1     8.0   \n",
       "2018-01-26  09:56:02                              java-ii   1     8.0   \n",
       "2018-01-26  09:56:05  java-ii/object-oriented-programming   1     8.0   \n",
       "2018-01-26  09:56:06   slides/object_oriented_programming   1     8.0   \n",
       "2018-01-26  09:56:24            javascript-i/conditionals   2    22.0   \n",
       "\n",
       "                      ip  \n",
       "date                      \n",
       "2018-01-26  97.105.19.61  \n",
       "2018-01-26  97.105.19.61  \n",
       "2018-01-26  97.105.19.61  \n",
       "2018-01-26  97.105.19.61  \n",
       "2018-01-26  97.105.19.61  "
      ]
     },
     "execution_count": 2,
     "metadata": {},
     "output_type": "execute_result"
    }
   ],
   "source": [
    "df = parse_curriculum_access_data()\n",
    "df.head()"
   ]
  },
  {
   "cell_type": "code",
   "execution_count": 3,
   "id": "8e4f9f54",
   "metadata": {},
   "outputs": [
    {
     "data": {
      "text/plain": [
       "(1018810, 5)"
      ]
     },
     "execution_count": 3,
     "metadata": {},
     "output_type": "execute_result"
    }
   ],
   "source": [
    "# Shape to determin min data points\n",
    "df.shape"
   ]
  },
  {
   "cell_type": "markdown",
   "id": "04dd3b01",
   "metadata": {},
   "source": [
    "#### Cols to cluster"
   ]
  },
  {
   "cell_type": "code",
   "execution_count": 4,
   "id": "e65a4f0f",
   "metadata": {},
   "outputs": [
    {
     "data": {
      "text/html": [
       "<div><div id=69335e3e-ed66-4e51-9631-1e443e14dc7e style=\"display:none; background-color:#9D6CFF; color:white; width:200px; height:30px; padding-left:5px; border-radius:4px; flex-direction:row; justify-content:space-around; align-items:center;\" onmouseover=\"this.style.backgroundColor='#BA9BF8'\" onmouseout=\"this.style.backgroundColor='#9D6CFF'\" onclick=\"window.commands?.execute('create-mitosheet-from-dataframe-output');\">See Full Dataframe in Mito</div> <script> if (window.commands.hasCommand('create-mitosheet-from-dataframe-output')) document.getElementById('69335e3e-ed66-4e51-9631-1e443e14dc7e').style.display = 'flex' </script> <table border=\"1\" class=\"dataframe\">\n",
       "  <thead>\n",
       "    <tr style=\"text-align: right;\">\n",
       "      <th></th>\n",
       "      <th>cohort</th>\n",
       "      <th>id</th>\n",
       "    </tr>\n",
       "    <tr>\n",
       "      <th>date</th>\n",
       "      <th></th>\n",
       "      <th></th>\n",
       "    </tr>\n",
       "  </thead>\n",
       "  <tbody>\n",
       "    <tr>\n",
       "      <th>2018-01-26</th>\n",
       "      <td>8.0</td>\n",
       "      <td>1</td>\n",
       "    </tr>\n",
       "    <tr>\n",
       "      <th>2018-01-26</th>\n",
       "      <td>8.0</td>\n",
       "      <td>1</td>\n",
       "    </tr>\n",
       "    <tr>\n",
       "      <th>2018-01-26</th>\n",
       "      <td>8.0</td>\n",
       "      <td>1</td>\n",
       "    </tr>\n",
       "    <tr>\n",
       "      <th>2018-01-26</th>\n",
       "      <td>8.0</td>\n",
       "      <td>1</td>\n",
       "    </tr>\n",
       "    <tr>\n",
       "      <th>2018-01-26</th>\n",
       "      <td>22.0</td>\n",
       "      <td>2</td>\n",
       "    </tr>\n",
       "  </tbody>\n",
       "</table></div>"
      ],
      "text/plain": [
       "            cohort  id\n",
       "date                  \n",
       "2018-01-26     8.0   1\n",
       "2018-01-26     8.0   1\n",
       "2018-01-26     8.0   1\n",
       "2018-01-26     8.0   1\n",
       "2018-01-26    22.0   2"
      ]
     },
     "execution_count": 4,
     "metadata": {},
     "output_type": "execute_result"
    }
   ],
   "source": [
    "cohort_id = df[['cohort', 'id']]\n",
    "cohort_id.head()"
   ]
  },
  {
   "cell_type": "code",
   "execution_count": 5,
   "id": "24145f80",
   "metadata": {},
   "outputs": [
    {
     "data": {
      "text/plain": [
       "cohort  id   \n",
       "False   False    1018810\n",
       "dtype: int64"
      ]
     },
     "execution_count": 5,
     "metadata": {},
     "output_type": "execute_result"
    }
   ],
   "source": [
    "# Null values\n",
    "\n",
    "cohort_id.isna().value_counts()"
   ]
  },
  {
   "cell_type": "markdown",
   "id": "326405e1",
   "metadata": {},
   "source": [
    "#### Scale the data (..to keep relation btwn var small)"
   ]
  },
  {
   "cell_type": "code",
   "execution_count": 6,
   "id": "276fbbe1",
   "metadata": {},
   "outputs": [
    {
     "data": {
      "text/plain": [
       "array([[0.04819277, 0.        ],\n",
       "       [0.04819277, 0.        ],\n",
       "       [0.04819277, 0.        ],\n",
       "       ...,\n",
       "       [0.8313253 , 0.86216466],\n",
       "       [0.8313253 , 0.86216466],\n",
       "       [0.8373494 , 0.89269195]])"
      ]
     },
     "execution_count": 6,
     "metadata": {},
     "output_type": "execute_result"
    }
   ],
   "source": [
    "scaler = MinMaxScaler()\n",
    "\n",
    "scaler.fit(cohort_id)\n",
    "\n",
    "cohort_id = scaler.transform(cohort_id)\n",
    "cohort_id"
   ]
  },
  {
   "cell_type": "code",
   "execution_count": null,
   "id": "1f3122e9",
   "metadata": {},
   "outputs": [],
   "source": [
    "# Make the object\n",
    "dbsc = DBSCAN(eps = .10, min_samples = 20)\n",
    "\n",
    "# Fit the object\n",
    "dbsc.fit(cohort_id)\n"
   ]
  },
  {
   "cell_type": "code",
   "execution_count": null,
   "id": "da5aafd2",
   "metadata": {},
   "outputs": [],
   "source": []
  },
  {
   "cell_type": "code",
   "execution_count": null,
   "id": "00ff71df",
   "metadata": {},
   "outputs": [],
   "source": []
  },
  {
   "cell_type": "code",
   "execution_count": null,
   "id": "cf80c294",
   "metadata": {},
   "outputs": [],
   "source": []
  },
  {
   "cell_type": "markdown",
   "id": "a2b09033",
   "metadata": {},
   "source": [
    "### C. Zillow Data Set Anomalies\n",
    "\n",
    "Use DBSCAN to detect anomalies in number of bedrooms and finished square feet of property for the filtered dataset you used in the clustering project (single unit properties with a logerror)."
   ]
  },
  {
   "cell_type": "code",
   "execution_count": null,
   "id": "7698364e",
   "metadata": {},
   "outputs": [],
   "source": []
  }
 ],
 "metadata": {
  "kernelspec": {
   "display_name": "Python 3 (ipykernel)",
   "language": "python",
   "name": "python3"
  },
  "language_info": {
   "codemirror_mode": {
    "name": "ipython",
    "version": 3
   },
   "file_extension": ".py",
   "mimetype": "text/x-python",
   "name": "python",
   "nbconvert_exporter": "python",
   "pygments_lexer": "ipython3",
   "version": "3.9.7"
  }
 },
 "nbformat": 4,
 "nbformat_minor": 5
}
