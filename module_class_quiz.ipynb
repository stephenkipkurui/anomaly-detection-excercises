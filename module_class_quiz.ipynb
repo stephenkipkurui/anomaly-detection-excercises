{
 "cells": [
  {
   "cell_type": "code",
   "execution_count": 120,
   "id": "b5bb410a",
   "metadata": {
    "pycharm": {
     "name": "#%%\n"
    }
   },
   "outputs": [],
   "source": [
    "import pandas as pd\n",
    "import numpy as np\n",
    "import matplotlib.pyplot as plt\n",
    "import seaborn as sns"
   ]
  },
  {
   "cell_type": "code",
   "execution_count": 2,
   "id": "aea43a62",
   "metadata": {
    "pycharm": {
     "name": "#%%\n"
    }
   },
   "outputs": [],
   "source": [
    "df = pd.read_csv('https://gist.githubusercontent.com/zgulde/b1cc93bf8bb4140ace71e0a3e44b8dcb/raw/17b5ac23c86baed88baf2c01b49d4913963f7cf2/data.csv')"
   ]
  },
  {
   "cell_type": "code",
   "execution_count": 3,
   "id": "47608772",
   "metadata": {
    "pycharm": {
     "name": "#%%\n"
    }
   },
   "outputs": [
    {
     "data": {
      "text/html": [
       "<div><div id=e0af5ec1-a744-416a-b19b-bfc5a9a27063 style=\"display:none; background-color:#9D6CFF; color:white; width:200px; height:30px; padding-left:5px; border-radius:4px; flex-direction:row; justify-content:space-around; align-items:center;\" onmouseover=\"this.style.backgroundColor='#BA9BF8'\" onmouseout=\"this.style.backgroundColor='#9D6CFF'\" onclick=\"window.commands?.execute('create-mitosheet-from-dataframe-output');\">See Full Dataframe in Mito</div> <script> if (window.commands.hasCommand('create-mitosheet-from-dataframe-output')) document.getElementById('e0af5ec1-a744-416a-b19b-bfc5a9a27063').style.display = 'flex' </script> <table border=\"1\" class=\"dataframe\">\n",
       "  <thead>\n",
       "    <tr style=\"text-align: right;\">\n",
       "      <th></th>\n",
       "      <th>web_browser</th>\n",
       "      <th>water_ml</th>\n",
       "      <th>coffee_ml</th>\n",
       "      <th>pet</th>\n",
       "      <th>favorite_color</th>\n",
       "    </tr>\n",
       "  </thead>\n",
       "  <tbody>\n",
       "    <tr>\n",
       "      <th>0</th>\n",
       "      <td>Edge</td>\n",
       "      <td>1460.908387</td>\n",
       "      <td>1215.178520</td>\n",
       "      <td>dog</td>\n",
       "      <td>beige</td>\n",
       "    </tr>\n",
       "    <tr>\n",
       "      <th>1</th>\n",
       "      <td>Firefox</td>\n",
       "      <td>1518.863237</td>\n",
       "      <td>1401.531823</td>\n",
       "      <td>cat</td>\n",
       "      <td>navy</td>\n",
       "    </tr>\n",
       "    <tr>\n",
       "      <th>2</th>\n",
       "      <td>Edge</td>\n",
       "      <td>1219.323161</td>\n",
       "      <td>1726.410266</td>\n",
       "      <td>hamster</td>\n",
       "      <td>bisque</td>\n",
       "    </tr>\n",
       "    <tr>\n",
       "      <th>3</th>\n",
       "      <td>Opera</td>\n",
       "      <td>1068.023818</td>\n",
       "      <td>2860.242041</td>\n",
       "      <td>hamster</td>\n",
       "      <td>midnightblue</td>\n",
       "    </tr>\n",
       "    <tr>\n",
       "      <th>4</th>\n",
       "      <td>Safari</td>\n",
       "      <td>890.031813</td>\n",
       "      <td>933.430086</td>\n",
       "      <td>hamster</td>\n",
       "      <td>gainsboro</td>\n",
       "    </tr>\n",
       "  </tbody>\n",
       "</table></div>"
      ],
      "text/plain": [
       "  web_browser     water_ml    coffee_ml      pet favorite_color\n",
       "0        Edge  1460.908387  1215.178520      dog          beige\n",
       "1     Firefox  1518.863237  1401.531823      cat           navy\n",
       "2        Edge  1219.323161  1726.410266  hamster         bisque\n",
       "3       Opera  1068.023818  2860.242041  hamster   midnightblue\n",
       "4      Safari   890.031813   933.430086  hamster      gainsboro"
      ]
     },
     "execution_count": 3,
     "metadata": {},
     "output_type": "execute_result"
    }
   ],
   "source": [
    "df.head()"
   ]
  },
  {
   "cell_type": "code",
   "execution_count": 16,
   "id": "581bb97f",
   "metadata": {
    "pycharm": {
     "name": "#%%\n"
    }
   },
   "outputs": [
    {
     "data": {
      "text/plain": [
       "1499.024"
      ]
     },
     "execution_count": 16,
     "metadata": {},
     "output_type": "execute_result"
    }
   ],
   "source": [
    "round(df['water_ml'].mean(), 3)"
   ]
  },
  {
   "cell_type": "markdown",
   "id": "f2f3adbd",
   "metadata": {
    "pycharm": {
     "name": "#%% md\n"
    }
   },
   "source": [
    "Is average water or coffee consumption higher for Chrome users?\n"
   ]
  },
  {
   "cell_type": "code",
   "execution_count": 8,
   "id": "1857bf3e",
   "metadata": {
    "pycharm": {
     "name": "#%%\n"
    }
   },
   "outputs": [
    {
     "data": {
      "text/html": [
       "<div><div id=629c78a3-5da5-470d-a0a1-742e3db21f63 style=\"display:none; background-color:#9D6CFF; color:white; width:200px; height:30px; padding-left:5px; border-radius:4px; flex-direction:row; justify-content:space-around; align-items:center;\" onmouseover=\"this.style.backgroundColor='#BA9BF8'\" onmouseout=\"this.style.backgroundColor='#9D6CFF'\" onclick=\"window.commands?.execute('create-mitosheet-from-dataframe-output');\">See Full Dataframe in Mito</div> <script> if (window.commands.hasCommand('create-mitosheet-from-dataframe-output')) document.getElementById('629c78a3-5da5-470d-a0a1-742e3db21f63').style.display = 'flex' </script> <table border=\"1\" class=\"dataframe\">\n",
       "  <thead>\n",
       "    <tr style=\"text-align: right;\">\n",
       "      <th></th>\n",
       "      <th>web_browser</th>\n",
       "      <th>water_ml</th>\n",
       "      <th>coffee_ml</th>\n",
       "      <th>pet</th>\n",
       "      <th>favorite_color</th>\n",
       "    </tr>\n",
       "  </thead>\n",
       "  <tbody>\n",
       "    <tr>\n",
       "      <th>9</th>\n",
       "      <td>Chrome</td>\n",
       "      <td>1502.497325</td>\n",
       "      <td>0.000000</td>\n",
       "      <td>dog</td>\n",
       "      <td>indigo</td>\n",
       "    </tr>\n",
       "    <tr>\n",
       "      <th>12</th>\n",
       "      <td>Chrome</td>\n",
       "      <td>1414.014089</td>\n",
       "      <td>0.000000</td>\n",
       "      <td>dog</td>\n",
       "      <td>antiquewhite</td>\n",
       "    </tr>\n",
       "    <tr>\n",
       "      <th>13</th>\n",
       "      <td>Chrome</td>\n",
       "      <td>1777.643236</td>\n",
       "      <td>2145.870396</td>\n",
       "      <td>cat</td>\n",
       "      <td>mediumorchid</td>\n",
       "    </tr>\n",
       "    <tr>\n",
       "      <th>17</th>\n",
       "      <td>Chrome</td>\n",
       "      <td>1312.431939</td>\n",
       "      <td>2080.193718</td>\n",
       "      <td>hamster</td>\n",
       "      <td>pink</td>\n",
       "    </tr>\n",
       "    <tr>\n",
       "      <th>18</th>\n",
       "      <td>Chrome</td>\n",
       "      <td>1583.171690</td>\n",
       "      <td>2054.713880</td>\n",
       "      <td>hamster</td>\n",
       "      <td>darkslategray</td>\n",
       "    </tr>\n",
       "  </tbody>\n",
       "</table></div>"
      ],
      "text/plain": [
       "   web_browser     water_ml    coffee_ml      pet favorite_color\n",
       "9       Chrome  1502.497325     0.000000      dog         indigo\n",
       "12      Chrome  1414.014089     0.000000      dog   antiquewhite\n",
       "13      Chrome  1777.643236  2145.870396      cat   mediumorchid\n",
       "17      Chrome  1312.431939  2080.193718  hamster           pink\n",
       "18      Chrome  1583.171690  2054.713880  hamster  darkslategray"
      ]
     },
     "execution_count": 8,
     "metadata": {},
     "output_type": "execute_result"
    }
   ],
   "source": [
    "chrome_usrs = df[df.web_browser == 'Chrome']\n",
    "chrome_usrs.head()"
   ]
  },
  {
   "cell_type": "code",
   "execution_count": 9,
   "id": "36c0c956",
   "metadata": {
    "pycharm": {
     "name": "#%%\n"
    }
   },
   "outputs": [
    {
     "data": {
      "text/plain": [
       "1500.7287591975637"
      ]
     },
     "execution_count": 9,
     "metadata": {},
     "output_type": "execute_result"
    }
   ],
   "source": [
    "# Chrome users water mean\n",
    "chrome_usrs.water_ml.mean()"
   ]
  },
  {
   "cell_type": "code",
   "execution_count": 17,
   "id": "82081c13",
   "metadata": {
    "pycharm": {
     "name": "#%%\n"
    }
   },
   "outputs": [
    {
     "data": {
      "text/plain": [
       "1609.3810638355658"
      ]
     },
     "execution_count": 17,
     "metadata": {},
     "output_type": "execute_result"
    }
   ],
   "source": [
    "# Chrome users coffee mean\n",
    "chrome_usrs.coffee_ml.mean()"
   ]
  },
  {
   "cell_type": "markdown",
   "id": "475e4536",
   "metadata": {
    "pycharm": {
     "name": "#%% md\n"
    }
   },
   "source": [
    "Based on this dataset, which web browser has the least number of users?\n"
   ]
  },
  {
   "cell_type": "code",
   "execution_count": 14,
   "id": "b14bfc66",
   "metadata": {
    "pycharm": {
     "name": "#%%\n"
    }
   },
   "outputs": [
    {
     "data": {
      "text/plain": [
       "Chrome     12973\n",
       "Firefox    12988\n",
       "Opera      13098\n",
       "Safari     13237\n",
       "Edge       13429\n",
       "Name: web_browser, dtype: int64"
      ]
     },
     "execution_count": 14,
     "metadata": {},
     "output_type": "execute_result"
    }
   ],
   "source": [
    "# Least users counts\n",
    "df.web_browser.value_counts().sort_values()"
   ]
  },
  {
   "cell_type": "code",
   "execution_count": 15,
   "id": "c62c7fb2",
   "metadata": {
    "pycharm": {
     "name": "#%%\n"
    }
   },
   "outputs": [
    {
     "data": {
      "text/plain": [
       "'Chrome'"
      ]
     },
     "execution_count": 15,
     "metadata": {},
     "output_type": "execute_result"
    }
   ],
   "source": [
    "df.web_browser.min()"
   ]
  },
  {
   "cell_type": "markdown",
   "id": "673462f4",
   "metadata": {
    "pycharm": {
     "name": "#%% md\n"
    }
   },
   "source": [
    "Which web browser has the largest proportion of people with no coffee consumption?"
   ]
  },
  {
   "cell_type": "code",
   "execution_count": 23,
   "id": "377af782",
   "metadata": {
    "pycharm": {
     "name": "#%%\n"
    }
   },
   "outputs": [
    {
     "data": {
      "text/html": [
       "<div><div id=7653c895-ec3b-4761-bc41-60642f1dd18d style=\"display:none; background-color:#9D6CFF; color:white; width:200px; height:30px; padding-left:5px; border-radius:4px; flex-direction:row; justify-content:space-around; align-items:center;\" onmouseover=\"this.style.backgroundColor='#BA9BF8'\" onmouseout=\"this.style.backgroundColor='#9D6CFF'\" onclick=\"window.commands?.execute('create-mitosheet-from-dataframe-output');\">See Full Dataframe in Mito</div> <script> if (window.commands.hasCommand('create-mitosheet-from-dataframe-output')) document.getElementById('7653c895-ec3b-4761-bc41-60642f1dd18d').style.display = 'flex' </script> <table border=\"1\" class=\"dataframe\">\n",
       "  <thead>\n",
       "    <tr style=\"text-align: right;\">\n",
       "      <th></th>\n",
       "      <th>web_browser</th>\n",
       "      <th>water_ml</th>\n",
       "      <th>coffee_ml</th>\n",
       "      <th>pet</th>\n",
       "      <th>favorite_color</th>\n",
       "    </tr>\n",
       "  </thead>\n",
       "  <tbody>\n",
       "    <tr>\n",
       "      <th>5</th>\n",
       "      <td>Edge</td>\n",
       "      <td>1956.553906</td>\n",
       "      <td>0.0</td>\n",
       "      <td>NaN</td>\n",
       "      <td>magenta</td>\n",
       "    </tr>\n",
       "    <tr>\n",
       "      <th>7</th>\n",
       "      <td>Opera</td>\n",
       "      <td>1388.887964</td>\n",
       "      <td>0.0</td>\n",
       "      <td>dog</td>\n",
       "      <td>seashell</td>\n",
       "    </tr>\n",
       "    <tr>\n",
       "      <th>9</th>\n",
       "      <td>Chrome</td>\n",
       "      <td>1502.497325</td>\n",
       "      <td>0.0</td>\n",
       "      <td>dog</td>\n",
       "      <td>indigo</td>\n",
       "    </tr>\n",
       "    <tr>\n",
       "      <th>12</th>\n",
       "      <td>Chrome</td>\n",
       "      <td>1414.014089</td>\n",
       "      <td>0.0</td>\n",
       "      <td>dog</td>\n",
       "      <td>antiquewhite</td>\n",
       "    </tr>\n",
       "    <tr>\n",
       "      <th>16</th>\n",
       "      <td>Firefox</td>\n",
       "      <td>1504.984810</td>\n",
       "      <td>0.0</td>\n",
       "      <td>dog</td>\n",
       "      <td>darkseagreen</td>\n",
       "    </tr>\n",
       "    <tr>\n",
       "      <th>...</th>\n",
       "      <td>...</td>\n",
       "      <td>...</td>\n",
       "      <td>...</td>\n",
       "      <td>...</td>\n",
       "      <td>...</td>\n",
       "    </tr>\n",
       "    <tr>\n",
       "      <th>65717</th>\n",
       "      <td>Safari</td>\n",
       "      <td>1712.945313</td>\n",
       "      <td>0.0</td>\n",
       "      <td>NaN</td>\n",
       "      <td>tan</td>\n",
       "    </tr>\n",
       "    <tr>\n",
       "      <th>65718</th>\n",
       "      <td>Opera</td>\n",
       "      <td>1955.096516</td>\n",
       "      <td>0.0</td>\n",
       "      <td>dog</td>\n",
       "      <td>indigo</td>\n",
       "    </tr>\n",
       "    <tr>\n",
       "      <th>65719</th>\n",
       "      <td>Safari</td>\n",
       "      <td>1313.608584</td>\n",
       "      <td>0.0</td>\n",
       "      <td>dog</td>\n",
       "      <td>oldlace</td>\n",
       "    </tr>\n",
       "    <tr>\n",
       "      <th>65720</th>\n",
       "      <td>Chrome</td>\n",
       "      <td>1697.715200</td>\n",
       "      <td>0.0</td>\n",
       "      <td>dog</td>\n",
       "      <td>green</td>\n",
       "    </tr>\n",
       "    <tr>\n",
       "      <th>65724</th>\n",
       "      <td>Chrome</td>\n",
       "      <td>1018.906621</td>\n",
       "      <td>0.0</td>\n",
       "      <td>dog</td>\n",
       "      <td>palevioletred</td>\n",
       "    </tr>\n",
       "  </tbody>\n",
       "</table></div>"
      ],
      "text/plain": [
       "      web_browser     water_ml  coffee_ml  pet favorite_color\n",
       "5            Edge  1956.553906        0.0  NaN        magenta\n",
       "7           Opera  1388.887964        0.0  dog       seashell\n",
       "9          Chrome  1502.497325        0.0  dog         indigo\n",
       "12         Chrome  1414.014089        0.0  dog   antiquewhite\n",
       "16        Firefox  1504.984810        0.0  dog   darkseagreen\n",
       "...           ...          ...        ...  ...            ...\n",
       "65717      Safari  1712.945313        0.0  NaN            tan\n",
       "65718       Opera  1955.096516        0.0  dog         indigo\n",
       "65719      Safari  1313.608584        0.0  dog        oldlace\n",
       "65720      Chrome  1697.715200        0.0  dog          green\n",
       "65724      Chrome  1018.906621        0.0  dog  palevioletred\n",
       "\n",
       "[12982 rows x 5 columns]"
      ]
     },
     "execution_count": 23,
     "metadata": {},
     "output_type": "execute_result"
    }
   ],
   "source": [
    "non_coffee_drinkers_df = df[df.coffee_ml == 0.00]\n",
    "non_coffee_drinkers_df"
   ]
  },
  {
   "cell_type": "code",
   "execution_count": 33,
   "id": "216ac840",
   "metadata": {
    "pycharm": {
     "name": "#%%\n"
    }
   },
   "outputs": [
    {
     "data": {
      "text/plain": [
       "web_browser\n",
       "Chrome     2536\n",
       "Opera      2571\n",
       "Safari     2616\n",
       "Edge       2629\n",
       "Firefox    2630\n",
       "Name: coffee_ml, dtype: int64"
      ]
     },
     "execution_count": 33,
     "metadata": {},
     "output_type": "execute_result"
    }
   ],
   "source": [
    "non_coffee_drinkers_df.groupby('web_browser').coffee_ml.count().sort_values()"
   ]
  },
  {
   "cell_type": "code",
   "execution_count": 34,
   "id": "65a9ac2d",
   "metadata": {
    "pycharm": {
     "name": "#%%\n"
    }
   },
   "outputs": [
    {
     "data": {
      "text/plain": [
       "2630"
      ]
     },
     "execution_count": 34,
     "metadata": {},
     "output_type": "execute_result"
    }
   ],
   "source": [
    "non_coffee_drinkers_df.groupby('web_browser').coffee_ml.count().max()"
   ]
  },
  {
   "cell_type": "markdown",
   "id": "fe7148fb",
   "metadata": {
    "pycharm": {
     "name": "#%% md\n"
    }
   },
   "source": [
    "How many people have a coffee consumption less than 1000 and do not have a pet?"
   ]
  },
  {
   "cell_type": "code",
   "execution_count": 46,
   "id": "f1b32e35",
   "metadata": {
    "pycharm": {
     "name": "#%%\n"
    }
   },
   "outputs": [
    {
     "data": {
      "text/html": [
       "<div><div id=89fb46e1-aa79-46b8-a503-f7f06569f9a1 style=\"display:none; background-color:#9D6CFF; color:white; width:200px; height:30px; padding-left:5px; border-radius:4px; flex-direction:row; justify-content:space-around; align-items:center;\" onmouseover=\"this.style.backgroundColor='#BA9BF8'\" onmouseout=\"this.style.backgroundColor='#9D6CFF'\" onclick=\"window.commands?.execute('create-mitosheet-from-dataframe-output');\">See Full Dataframe in Mito</div> <script> if (window.commands.hasCommand('create-mitosheet-from-dataframe-output')) document.getElementById('89fb46e1-aa79-46b8-a503-f7f06569f9a1').style.display = 'flex' </script> <table border=\"1\" class=\"dataframe\">\n",
       "  <thead>\n",
       "    <tr style=\"text-align: right;\">\n",
       "      <th></th>\n",
       "      <th>web_browser</th>\n",
       "      <th>water_ml</th>\n",
       "      <th>coffee_ml</th>\n",
       "      <th>pet</th>\n",
       "      <th>favorite_color</th>\n",
       "    </tr>\n",
       "  </thead>\n",
       "  <tbody>\n",
       "  </tbody>\n",
       "</table></div>"
      ],
      "text/plain": [
       "Empty DataFrame\n",
       "Columns: [web_browser, water_ml, coffee_ml, pet, favorite_color]\n",
       "Index: []"
      ]
     },
     "execution_count": 46,
     "metadata": {},
     "output_type": "execute_result"
    }
   ],
   "source": [
    "df[(df.coffee_ml < 1000) & ((df.pet == 'NaN') | (df.pet == 'nan'))]"
   ]
  },
  {
   "cell_type": "code",
   "execution_count": 42,
   "id": "ed53509d",
   "metadata": {
    "pycharm": {
     "name": "#%%\n"
    }
   },
   "outputs": [
    {
     "data": {
      "text/plain": [
       "array([1215.17852049, 1401.53182315, 1726.41026551, ...,  827.05807525,\n",
       "       1946.12859041, 2073.72618779])"
      ]
     },
     "execution_count": 42,
     "metadata": {},
     "output_type": "execute_result"
    }
   ],
   "source": [
    "df.coffee_ml.unique()"
   ]
  },
  {
   "cell_type": "code",
   "execution_count": 44,
   "id": "2f99275e",
   "metadata": {
    "pycharm": {
     "name": "#%%\n"
    }
   },
   "outputs": [
    {
     "data": {
      "text/plain": [
       "array(['dog', 'cat', 'hamster', nan], dtype=object)"
      ]
     },
     "execution_count": 44,
     "metadata": {},
     "output_type": "execute_result"
    }
   ],
   "source": [
    "df.pet.unique()"
   ]
  },
  {
   "cell_type": "markdown",
   "id": "569f5ba7",
   "metadata": {
    "pycharm": {
     "name": "#%% md\n"
    }
   },
   "source": [
    "What is the most common favorite color for people that have a hamster as a pet?"
   ]
  },
  {
   "cell_type": "code",
   "execution_count": 49,
   "id": "76f1cdb4",
   "metadata": {
    "pycharm": {
     "name": "#%%\n"
    }
   },
   "outputs": [
    {
     "data": {
      "text/plain": [
       "indianred        67\n",
       "antiquewhite     69\n",
       "peachpuff        69\n",
       "goldenrod        73\n",
       "darkcyan         74\n",
       "               ... \n",
       "bisque          106\n",
       "gainsboro       107\n",
       "violet          109\n",
       "green           110\n",
       "orchid          111\n",
       "Name: favorite_color, Length: 148, dtype: int64"
      ]
     },
     "execution_count": 49,
     "metadata": {},
     "output_type": "execute_result"
    }
   ],
   "source": [
    "df[df.pet == 'hamster'].favorite_color.value_counts().sort_values()"
   ]
  },
  {
   "cell_type": "markdown",
   "id": "49d8fdbc",
   "metadata": {
    "pycharm": {
     "name": "#%% md\n"
    }
   },
   "source": [
    "Is the median coffee consumption higher for people who's favorite color is crimson, pink, or lavender?`"
   ]
  },
  {
   "cell_type": "code",
   "execution_count": 50,
   "id": "15874045",
   "metadata": {
    "pycharm": {
     "name": "#%%\n"
    }
   },
   "outputs": [
    {
     "data": {
      "text/plain": [
       "array(['beige', 'navy', 'bisque', 'midnightblue', 'gainsboro', 'magenta',\n",
       "       'steelblue', 'seashell', 'lightseagreen', 'indigo', 'aqua',\n",
       "       'oldlace', 'antiquewhite', 'mediumorchid', 'cornflowerblue',\n",
       "       'lime', 'darkseagreen', 'pink', 'darkslategray', 'mediumblue',\n",
       "       'orchid', 'floralwhite', 'forestgreen', 'orange', 'darkkhaki',\n",
       "       'honeydew', 'mediumturquoise', 'darkviolet', 'wheat', 'rosybrown',\n",
       "       'yellowgreen', 'ivory', 'slategrey', 'dimgrey', 'indianred',\n",
       "       'mintcream', 'firebrick', 'coral', 'azure', 'lightgray',\n",
       "       'cadetblue', 'lightcoral', 'mediumvioletred', 'yellow', 'teal',\n",
       "       'darkgrey', 'whitesmoke', 'brown', 'mediumspringgreen',\n",
       "       'greenyellow', 'lightblue', 'darkslategrey', 'darkgoldenrod',\n",
       "       'limegreen', 'plum', 'blanchedalmond', 'darkolivegreen',\n",
       "       'chocolate', 'turquoise', 'thistle', 'lightyellow', 'silver',\n",
       "       'darkgray', 'ghostwhite', 'dodgerblue', 'darksalmon', 'white',\n",
       "       'violet', 'darkturquoise', 'moccasin', 'lawngreen', 'cyan',\n",
       "       'goldenrod', 'lightskyblue', 'deeppink', 'lightgreen',\n",
       "       'mediumpurple', 'mistyrose', 'lavenderblush', 'palegreen', 'green',\n",
       "       'peru', 'darkblue', 'lightsalmon', 'sienna', 'darkorchid', 'khaki',\n",
       "       'blue', 'lightcyan', 'seagreen', 'lightgrey', 'darkmagenta',\n",
       "       'darkorange', 'crimson', 'royalblue', 'skyblue', 'gold', 'snow',\n",
       "       'linen', 'aliceblue', 'paleturquoise', 'palevioletred',\n",
       "       'navajowhite', 'darkcyan', 'papayawhip', 'sandybrown',\n",
       "       'mediumseagreen', 'red', 'lightpink', 'mediumslateblue',\n",
       "       'lightsteelblue', 'lightslategray', 'black', 'darkred', 'cornsilk',\n",
       "       'lavender', 'palegoldenrod', 'lemonchiffon', 'springgreen', 'gray',\n",
       "       'burlywood', 'saddlebrown', 'olive', 'deepskyblue', 'darkgreen',\n",
       "       'rebeccapurple', 'darkslateblue', 'dimgray', 'grey', 'slategray',\n",
       "       'blueviolet', 'lightslategrey', 'lightgoldenrodyellow', 'tomato',\n",
       "       'aquamarine', 'orangered', 'slateblue', 'maroon', 'salmon',\n",
       "       'olivedrab', 'peachpuff', 'fuchsia', 'tan', 'powderblue',\n",
       "       'hotpink', 'chartreuse', 'purple', 'mediumaquamarine'],\n",
       "      dtype=object)"
      ]
     },
     "execution_count": 50,
     "metadata": {},
     "output_type": "execute_result"
    }
   ],
   "source": [
    "df.favorite_color.unique()"
   ]
  },
  {
   "cell_type": "code",
   "execution_count": 51,
   "id": "b7dd1a55",
   "metadata": {
    "pycharm": {
     "name": "#%%\n"
    }
   },
   "outputs": [],
   "source": [
    "fav_color_crimson = df[df.favorite_color == 'crimson']\n",
    "fav_color_pink = df[df.favorite_color == 'pink']\n",
    "fav_color_lavender = df[df.favorite_color == 'lavender']"
   ]
  },
  {
   "cell_type": "code",
   "execution_count": 52,
   "id": "697fa4f8",
   "metadata": {
    "pycharm": {
     "name": "#%%\n"
    }
   },
   "outputs": [
    {
     "data": {
      "text/plain": [
       "1438.9847194920067"
      ]
     },
     "execution_count": 52,
     "metadata": {},
     "output_type": "execute_result"
    }
   ],
   "source": [
    "# Crimson mean coffee consumption\n",
    "fav_color_crimson.coffee_ml.median()\n",
    "\n"
   ]
  },
  {
   "cell_type": "code",
   "execution_count": 55,
   "id": "a16a56c6",
   "metadata": {
    "pycharm": {
     "name": "#%%\n"
    }
   },
   "outputs": [
    {
     "data": {
      "text/plain": [
       "1494.2606149535568"
      ]
     },
     "execution_count": 55,
     "metadata": {},
     "output_type": "execute_result"
    }
   ],
   "source": [
    "# Pink mean coffee consumption\n",
    "\n",
    "fav_color_pink.coffee_ml.median()\n"
   ]
  },
  {
   "cell_type": "code",
   "execution_count": 54,
   "id": "63990492",
   "metadata": {
    "pycharm": {
     "name": "#%%\n"
    }
   },
   "outputs": [
    {
     "data": {
      "text/plain": [
       "1468.7936182905446"
      ]
     },
     "execution_count": 54,
     "metadata": {},
     "output_type": "execute_result"
    }
   ],
   "source": [
    "# Lavender mean coffee consumption\n",
    "fav_color_lavender.coffee_ml.median()\n"
   ]
  },
  {
   "cell_type": "markdown",
   "id": "3c95d77e",
   "metadata": {
    "pycharm": {
     "name": "#%% md\n"
    }
   },
   "source": [
    "Using the IQR method with a k of 1.5 to detect outliers, how many outliers are present in coffee consumption?\n"
   ]
  },
  {
   "cell_type": "code",
   "execution_count": 99,
   "id": "20115a70",
   "metadata": {
    "pycharm": {
     "name": "#%%\n"
    }
   },
   "outputs": [
    {
     "data": {
      "text/plain": [
       "<AxesSubplot:>"
      ]
     },
     "execution_count": 99,
     "metadata": {},
     "output_type": "execute_result"
    },
    {
     "data": {
      "image/png": "[encoded data removed]",
      "text/plain": [
       "<Figure size 432x288 with 1 Axes>"
      ]
     },
     "metadata": {
      "needs_background": "light"
     },
     "output_type": "display_data"
    }
   ],
   "source": [
    "df.coffee_ml.hist()"
   ]
  },
  {
   "cell_type": "code",
   "execution_count": 104,
   "id": "f73992f6",
   "metadata": {
    "pycharm": {
     "name": "#%%\n"
    }
   },
   "outputs": [
    {
     "data": {
      "text/html": [
       "<div><div id=17ff206d-0e74-471f-b61e-9a5c494d29da style=\"display:none; background-color:#9D6CFF; color:white; width:200px; height:30px; padding-left:5px; border-radius:4px; flex-direction:row; justify-content:space-around; align-items:center;\" onmouseover=\"this.style.backgroundColor='#BA9BF8'\" onmouseout=\"this.style.backgroundColor='#9D6CFF'\" onclick=\"window.commands?.execute('create-mitosheet-from-dataframe-output');\">See Full Dataframe in Mito</div> <script> if (window.commands.hasCommand('create-mitosheet-from-dataframe-output')) document.getElementById('17ff206d-0e74-471f-b61e-9a5c494d29da').style.display = 'flex' </script> <table border=\"1\" class=\"dataframe\">\n",
       "  <thead>\n",
       "    <tr style=\"text-align: right;\">\n",
       "      <th></th>\n",
       "      <th>web_browser</th>\n",
       "      <th>water_ml</th>\n",
       "      <th>coffee_ml</th>\n",
       "      <th>pet</th>\n",
       "      <th>favorite_color</th>\n",
       "      <th>water_ml_outliers</th>\n",
       "      <th>coffee_ml_outliers</th>\n",
       "      <th>water_ml_outliers_outliers</th>\n",
       "      <th>coffee_ml_outliers_outliers</th>\n",
       "    </tr>\n",
       "  </thead>\n",
       "  <tbody>\n",
       "    <tr>\n",
       "      <th>0</th>\n",
       "      <td>Edge</td>\n",
       "      <td>1460.908387</td>\n",
       "      <td>1215.178520</td>\n",
       "      <td>dog</td>\n",
       "      <td>beige</td>\n",
       "      <td>0.0</td>\n",
       "      <td>0.0</td>\n",
       "      <td>0.0</td>\n",
       "      <td>0.0</td>\n",
       "    </tr>\n",
       "    <tr>\n",
       "      <th>1</th>\n",
       "      <td>Firefox</td>\n",
       "      <td>1518.863237</td>\n",
       "      <td>1401.531823</td>\n",
       "      <td>cat</td>\n",
       "      <td>navy</td>\n",
       "      <td>0.0</td>\n",
       "      <td>0.0</td>\n",
       "      <td>0.0</td>\n",
       "      <td>0.0</td>\n",
       "    </tr>\n",
       "    <tr>\n",
       "      <th>2</th>\n",
       "      <td>Edge</td>\n",
       "      <td>1219.323161</td>\n",
       "      <td>1726.410266</td>\n",
       "      <td>hamster</td>\n",
       "      <td>bisque</td>\n",
       "      <td>0.0</td>\n",
       "      <td>0.0</td>\n",
       "      <td>0.0</td>\n",
       "      <td>0.0</td>\n",
       "    </tr>\n",
       "    <tr>\n",
       "      <th>3</th>\n",
       "      <td>Opera</td>\n",
       "      <td>1068.023818</td>\n",
       "      <td>2860.242041</td>\n",
       "      <td>hamster</td>\n",
       "      <td>midnightblue</td>\n",
       "      <td>0.0</td>\n",
       "      <td>0.0</td>\n",
       "      <td>0.0</td>\n",
       "      <td>0.0</td>\n",
       "    </tr>\n",
       "    <tr>\n",
       "      <th>4</th>\n",
       "      <td>Safari</td>\n",
       "      <td>890.031813</td>\n",
       "      <td>933.430086</td>\n",
       "      <td>hamster</td>\n",
       "      <td>gainsboro</td>\n",
       "      <td>0.0</td>\n",
       "      <td>0.0</td>\n",
       "      <td>0.0</td>\n",
       "      <td>0.0</td>\n",
       "    </tr>\n",
       "  </tbody>\n",
       "</table></div>"
      ],
      "text/plain": [
       "  web_browser     water_ml    coffee_ml      pet favorite_color  \\\n",
       "0        Edge  1460.908387  1215.178520      dog          beige   \n",
       "1     Firefox  1518.863237  1401.531823      cat           navy   \n",
       "2        Edge  1219.323161  1726.410266  hamster         bisque   \n",
       "3       Opera  1068.023818  2860.242041  hamster   midnightblue   \n",
       "4      Safari   890.031813   933.430086  hamster      gainsboro   \n",
       "\n",
       "   water_ml_outliers  coffee_ml_outliers  water_ml_outliers_outliers  \\\n",
       "0                0.0                 0.0                         0.0   \n",
       "1                0.0                 0.0                         0.0   \n",
       "2                0.0                 0.0                         0.0   \n",
       "3                0.0                 0.0                         0.0   \n",
       "4                0.0                 0.0                         0.0   \n",
       "\n",
       "   coffee_ml_outliers_outliers  \n",
       "0                          0.0  \n",
       "1                          0.0  \n",
       "2                          0.0  \n",
       "3                          0.0  \n",
       "4                          0.0  "
      ]
     },
     "execution_count": 104,
     "metadata": {},
     "output_type": "execute_result"
    }
   ],
   "source": [
    "def get_upper_outliers(s, k):\n",
    "    '''\n",
    "    Given a series and a cutoff value, k, returns the upper outliers for the\n",
    "    series.\n",
    "\n",
    "    The values returned will be either 0 (if the point is not an outlier), or a\n",
    "    number that indicates how far away from the upper bound the observation is.\n",
    "    '''\n",
    "    q1, q3 = s.quantile([.25, .75])\n",
    "    iqr = q3 - q1\n",
    "    upper_bound = q3 + k * iqr\n",
    "    return s.apply(lambda x: max([x - upper_bound, 0]))\n",
    "\n",
    "def add_upper_outlier_columns(df, k):\n",
    "    '''\n",
    "    Add a column with the suffix _outliers for all the numeric columns\n",
    "    in the given dataframe.\n",
    "    '''\n",
    "    # outlier_cols = {col + '_outliers': get_upper_outliers(df[col], k)\n",
    "    #                 for col in df.select_dtypes('number')}\n",
    "    # return df.assign(**outlier_cols)\n",
    "\n",
    "    for col in df.select_dtypes('number'):\n",
    "        df[col + '_outliers'] = get_upper_outliers(df[col], k)\n",
    "\n",
    "    return df\n",
    "\n",
    "add_upper_outlier_columns(df, k=1.5)\n",
    "\n",
    "df.head()\n"
   ]
  },
  {
   "cell_type": "code",
   "execution_count": 106,
   "id": "8243ebc8",
   "metadata": {
    "pycharm": {
     "name": "#%%\n"
    }
   },
   "outputs": [
    {
     "name": "stdout",
     "output_type": "stream",
     "text": [
      "~~~\n",
      "coffee_ml_outliers\n",
      "count     74.000000\n",
      "mean     174.353769\n",
      "std      151.835612\n",
      "min        9.675911\n",
      "25%       67.900349\n",
      "50%      140.208496\n",
      "75%      249.873184\n",
      "max      712.178663\n",
      "Name: coffee_ml_outliers, dtype: float64\n"
     ]
    }
   ],
   "source": [
    "outlier_cols = [col for col in df if col.endswith('coffee_ml_outliers')]\n",
    "for col in outlier_cols:\n",
    "    print('~~~\\n' + col)\n",
    "    data = df[col][df[col] > 0]\n",
    "    print(data.describe())\n"
   ]
  },
  {
   "cell_type": "markdown",
   "id": "a9d8dbf9",
   "metadata": {
    "pycharm": {
     "name": "#%% md\n"
    }
   },
   "source": [
    "Find the combination of pet, favorite color, and web browser that has the smallest average water consumption. What is this group's average coffee consumption?"
   ]
  },
  {
   "cell_type": "code",
   "execution_count": 78,
   "id": "6e5bcf9f",
   "metadata": {
    "pycharm": {
     "name": "#%%\n"
    }
   },
   "outputs": [
    {
     "data": {
      "text/plain": [
       "pet      web_browser  favorite_color\n",
       "dog      Chrome       lightgray         1293.164463\n",
       "hamster  Safari       aquamarine        1326.924167\n",
       "         Opera        paleturquoise     1330.873221\n",
       "         Safari       yellowgreen       1334.004825\n",
       "                      darkred           1341.453844\n",
       "                                           ...     \n",
       "         Firefox      mediumblue        1663.808929\n",
       "         Edge         lightblue         1671.637242\n",
       "                      deeppink          1674.619367\n",
       "cat      Opera        gray              1676.644435\n",
       "hamster  Firefox      coral             1687.345656\n",
       "Name: water_ml, Length: 2220, dtype: float64"
      ]
     },
     "execution_count": 78,
     "metadata": {},
     "output_type": "execute_result"
    }
   ],
   "source": [
    "# Water min\n",
    "pet_color_browser = df.groupby(['pet', 'web_browser','favorite_color'])\n",
    "pet_color_browser.water_ml.mean().sort_values()"
   ]
  },
  {
   "cell_type": "code",
   "execution_count": 92,
   "id": "c876ac4e",
   "metadata": {
    "pycharm": {
     "name": "#%%\n"
    }
   },
   "outputs": [
    {
     "data": {
      "text/plain": [
       "pet      web_browser  favorite_color\n",
       "dog      Chrome       lightgray         1293.164463\n",
       "hamster  Safari       aquamarine        1326.924167\n",
       "         Opera        paleturquoise     1330.873221\n",
       "         Safari       yellowgreen       1334.004825\n",
       "                      darkred           1341.453844\n",
       "                                           ...     \n",
       "         Firefox      mediumblue        1663.808929\n",
       "         Edge         lightblue         1671.637242\n",
       "                      deeppink          1674.619367\n",
       "cat      Opera        gray              1676.644435\n",
       "hamster  Firefox      coral             1687.345656\n",
       "Name: water_ml, Length: 2220, dtype: float64"
      ]
     },
     "execution_count": 92,
     "metadata": {},
     "output_type": "execute_result"
    }
   ],
   "source": [
    "# Cofee mean \n",
    "pet_color_browser_water = df.groupby(['pet', 'web_browser','favorite_color']).water_ml.mean().sort_values()\n",
    "pet_color_browser_water"
   ]
  },
  {
   "cell_type": "code",
   "execution_count": 97,
   "id": "4f4eee42",
   "metadata": {
    "pycharm": {
     "name": "#%%\n"
    }
   },
   "outputs": [
    {
     "data": {
      "text/plain": [
       "1663.33"
      ]
     },
     "execution_count": 97,
     "metadata": {},
     "output_type": "execute_result"
    }
   ],
   "source": [
    "dog_chrome_lightgray_df = df[(df.pet == 'dog') & (df.web_browser == 'Chrome') & (df.favorite_color == 'lightgray')]\n",
    "round(dog_chrome_lightgray_df.coffee_ml.mean(), 3)"
   ]
  },
  {
   "cell_type": "code",
   "execution_count": 56,
   "id": "8e0ffba0",
   "metadata": {
    "pycharm": {
     "name": "#%%\n"
    }
   },
   "outputs": [
    {
     "data": {
      "text/html": [
       "<div><div id=3dcc08dd-7464-4482-b5ab-701b2e1639c9 style=\"display:none; background-color:#9D6CFF; color:white; width:200px; height:30px; padding-left:5px; border-radius:4px; flex-direction:row; justify-content:space-around; align-items:center;\" onmouseover=\"this.style.backgroundColor='#BA9BF8'\" onmouseout=\"this.style.backgroundColor='#9D6CFF'\" onclick=\"window.commands?.execute('create-mitosheet-from-dataframe-output');\">See Full Dataframe in Mito</div> <script> if (window.commands.hasCommand('create-mitosheet-from-dataframe-output')) document.getElementById('3dcc08dd-7464-4482-b5ab-701b2e1639c9').style.display = 'flex' </script> <table border=\"1\" class=\"dataframe\">\n",
       "  <thead>\n",
       "    <tr style=\"text-align: right;\">\n",
       "      <th></th>\n",
       "      <th>web_browser</th>\n",
       "      <th>water_ml</th>\n",
       "      <th>coffee_ml</th>\n",
       "      <th>pet</th>\n",
       "      <th>favorite_color</th>\n",
       "    </tr>\n",
       "  </thead>\n",
       "  <tbody>\n",
       "    <tr>\n",
       "      <th>0</th>\n",
       "      <td>Edge</td>\n",
       "      <td>1460.908387</td>\n",
       "      <td>1215.178520</td>\n",
       "      <td>dog</td>\n",
       "      <td>beige</td>\n",
       "    </tr>\n",
       "    <tr>\n",
       "      <th>1</th>\n",
       "      <td>Firefox</td>\n",
       "      <td>1518.863237</td>\n",
       "      <td>1401.531823</td>\n",
       "      <td>cat</td>\n",
       "      <td>navy</td>\n",
       "    </tr>\n",
       "    <tr>\n",
       "      <th>2</th>\n",
       "      <td>Edge</td>\n",
       "      <td>1219.323161</td>\n",
       "      <td>1726.410266</td>\n",
       "      <td>hamster</td>\n",
       "      <td>bisque</td>\n",
       "    </tr>\n",
       "    <tr>\n",
       "      <th>3</th>\n",
       "      <td>Opera</td>\n",
       "      <td>1068.023818</td>\n",
       "      <td>2860.242041</td>\n",
       "      <td>hamster</td>\n",
       "      <td>midnightblue</td>\n",
       "    </tr>\n",
       "    <tr>\n",
       "      <th>4</th>\n",
       "      <td>Safari</td>\n",
       "      <td>890.031813</td>\n",
       "      <td>933.430086</td>\n",
       "      <td>hamster</td>\n",
       "      <td>gainsboro</td>\n",
       "    </tr>\n",
       "  </tbody>\n",
       "</table></div>"
      ],
      "text/plain": [
       "  web_browser     water_ml    coffee_ml      pet favorite_color\n",
       "0        Edge  1460.908387  1215.178520      dog          beige\n",
       "1     Firefox  1518.863237  1401.531823      cat           navy\n",
       "2        Edge  1219.323161  1726.410266  hamster         bisque\n",
       "3       Opera  1068.023818  2860.242041  hamster   midnightblue\n",
       "4      Safari   890.031813   933.430086  hamster      gainsboro"
      ]
     },
     "execution_count": 56,
     "metadata": {},
     "output_type": "execute_result"
    }
   ],
   "source": [
    "df.head()"
   ]
  },
  {
   "cell_type": "markdown",
   "id": "5307b1bd",
   "metadata": {
    "pycharm": {
     "name": "#%% md\n"
    }
   },
   "source": [
    "Write the code necessary to visualize the average coffee consumption by web browser used.\n"
   ]
  },
  {
   "cell_type": "code",
   "execution_count": 110,
   "id": "c42eaf92",
   "metadata": {
    "pycharm": {
     "name": "#%%\n"
    }
   },
   "outputs": [
    {
     "data": {
      "text/plain": [
       "<AxesSubplot:>"
      ]
     },
     "execution_count": 110,
     "metadata": {},
     "output_type": "execute_result"
    },
    {
     "data": {
      "image/png": "[encoded data removed]",
      "text/plain": [
       "<Figure size 432x288 with 1 Axes>"
      ]
     },
     "metadata": {
      "needs_background": "light"
     },
     "output_type": "display_data"
    }
   ],
   "source": [
    "df.groupby(['web_browser']).coffee_ml.mean().hist(legend = True)"
   ]
  },
  {
   "cell_type": "code",
   "execution_count": 131,
   "id": "60d2df38",
   "metadata": {
    "pycharm": {
     "name": "#%%\n"
    }
   },
   "outputs": [
    {
     "data": {
      "image/png": "[encoded data removed]",
      "text/plain": [
       "<Figure size 936x432 with 1 Axes>"
      ]
     },
     "metadata": {},
     "output_type": "display_data"
    }
   ],
   "source": [
    "# Coffee by Browser\n",
    "plt.figure(figsize = (13,6))\n",
    "sns.set_style(\"whitegrid\")\n",
    "sns.set_context(\"notebook\", font_scale = 1)\n",
    "sns.barplot(x=\"web_browser\", y=\"coffee_ml\", hue=\"web_browser\", data = df.sort_values(['web_browser', 'coffee_ml']))\n",
    "plt.xlabel(\"Web Browser\")\n",
    "plt.ylabel(\"Coffee Consumption\")\n",
    "plt.title(\"Coffee By Browser\")\n",
    "plt.show()"
   ]
  },
  {
   "cell_type": "code",
   "execution_count": null,
   "id": "d53da242",
   "metadata": {
    "pycharm": {
     "name": "#%%\n"
    }
   },
   "outputs": [],
   "source": []
  }
 ],
 "metadata": {
  "kernelspec": {
   "display_name": "Python 3 (ipykernel)",
   "language": "python",
   "name": "python3"
  },
  "language_info": {
   "codemirror_mode": {
    "name": "ipython",
    "version": 3
   },
   "file_extension": ".py",
   "mimetype": "text/x-python",
   "name": "python",
   "nbconvert_exporter": "python",
   "pygments_lexer": "ipython3",
   "version": "3.9.7"
  }
 },
 "nbformat": 4,
 "nbformat_minor": 5
}