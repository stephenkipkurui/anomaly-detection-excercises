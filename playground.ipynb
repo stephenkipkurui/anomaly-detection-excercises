{
 "cells": [
  {
   "cell_type": "code",
   "execution_count": 1,
   "metadata": {
    "pycharm": {
     "name": "#%%\n"
    }
   },
   "outputs": [],
   "source": [
    "import  pandas as pd\n",
    "import numpy as np\n",
    "import  matplotlib.pyplot as plt\n",
    "from acquire import  get_data, parse_log_entry"
   ]
  },
  {
   "cell_type": "code",
   "execution_count": 2,
   "metadata": {
    "pycharm": {
     "name": "#%%\n"
    }
   },
   "outputs": [
    {
     "data": {
      "text/plain": "                                                   entry\n0      97.105.19.58 - - [16/Apr/2019:19:34:42 +0000] ...\n1      97.105.19.58 - - [16/Apr/2019:19:34:42 +0000] ...\n2      97.105.19.58 - - [16/Apr/2019:19:34:44 +0000] ...\n3      97.105.19.58 - - [16/Apr/2019:19:34:46 +0000] ...\n4      97.105.19.58 - - [16/Apr/2019:19:34:48 +0000] ...\n...                                                  ...\n13969  97.105.19.58 - - [17/Apr/2019:12:55:12 +0000] ...\n13970  97.105.19.58 - - [17/Apr/2019:12:55:12 +0000] ...\n13971  97.105.19.58 - - [17/Apr/2019:12:55:13 +0000] ...\n13972  97.105.19.58 - - [17/Apr/2019:12:55:13 +0000] ...\n13973  97.105.19.58 - - [17/Apr/2019:12:55:14 +0000] ...\n\n[13974 rows x 1 columns]",
      "text/html": "<div><div id=be94431a-2c0d-4805-8fe6-966329bd79f2 style=\"display:none; background-color:#9D6CFF; color:white; width:200px; height:30px; padding-left:5px; border-radius:4px; flex-direction:row; justify-content:space-around; align-items:center;\" onmouseover=\"this.style.backgroundColor='#BA9BF8'\" onmouseout=\"this.style.backgroundColor='#9D6CFF'\" onclick=\"window.commands?.execute('create-mitosheet-from-dataframe-output');\">See Full Dataframe in Mito</div> <script> if (window.commands.hasCommand('create-mitosheet-from-dataframe-output')) document.getElementById('be94431a-2c0d-4805-8fe6-966329bd79f2').style.display = 'flex' </script> <table border=\"1\" class=\"dataframe\">\n  <thead>\n    <tr style=\"text-align: right;\">\n      <th></th>\n      <th>entry</th>\n    </tr>\n  </thead>\n  <tbody>\n    <tr>\n      <th>0</th>\n      <td>97.105.19.58 - - [16/Apr/2019:19:34:42 +0000] \"GET /api/v1/sales?page=81 HTTP/1.1\" 200 512495 \"-\" \"python-requests/2.21.0\"</td>\n    </tr>\n    <tr>\n      <th>1</th>\n      <td>97.105.19.58 - - [16/Apr/2019:19:34:42 +0000] \"GET /api/v1/items HTTP/1.1\" 200 3561 \"-\" \"python-requests/2.21.0\"</td>\n    </tr>\n    <tr>\n      <th>2</th>\n      <td>97.105.19.58 - - [16/Apr/2019:19:34:44 +0000] \"GET /api/v1/sales?page=82 HTTP/1.1\" 200 510103 \"-\" \"python-requests/2.21.0\"</td>\n    </tr>\n    <tr>\n      <th>3</th>\n      <td>97.105.19.58 - - [16/Apr/2019:19:34:46 +0000] \"GET /api/v1/sales?page=83 HTTP/1.1\" 200 510003 \"-\" \"python-requests/2.21.0\"</td>\n    </tr>\n    <tr>\n      <th>4</th>\n      <td>97.105.19.58 - - [16/Apr/2019:19:34:48 +0000] \"GET /api/v1/sales?page=84 HTTP/1.1\" 200 511963 \"-\" \"python-requests/2.21.0\"</td>\n    </tr>\n    <tr>\n      <th>...</th>\n      <td>...</td>\n    </tr>\n    <tr>\n      <th>13969</th>\n      <td>97.105.19.58 - - [17/Apr/2019:12:55:12 +0000] \"GET /api/v1/sales?page=62 HTTP/1.1\" 200 511544 \"-\" \"python-requests/2.21.0\"</td>\n    </tr>\n    <tr>\n      <th>13970</th>\n      <td>97.105.19.58 - - [17/Apr/2019:12:55:12 +0000] \"GET /api/v1/sales?page=65 HTTP/1.1\" 200 511201 \"-\" \"python-requests/2.21.0\"</td>\n    </tr>\n    <tr>\n      <th>13971</th>\n      <td>97.105.19.58 - - [17/Apr/2019:12:55:13 +0000] \"GET /api/v1/sales?page=73 HTTP/1.1\" 200 511781 \"-\" \"python-requests/2.21.0\"</td>\n    </tr>\n    <tr>\n      <th>13972</th>\n      <td>97.105.19.58 - - [17/Apr/2019:12:55:13 +0000] \"GET /api/v1/sales?page=69 HTTP/1.1\" 200 510136 \"-\" \"python-requests/2.21.0\"</td>\n    </tr>\n    <tr>\n      <th>13973</th>\n      <td>97.105.19.58 - - [17/Apr/2019:12:55:14 +0000] \"GET /api/v1/sales?page=71 HTTP/1.1\" 200 510166 \"-\" \"python-requests/2.21.0\"</td>\n    </tr>\n  </tbody>\n</table></div>"
     },
     "execution_count": 2,
     "metadata": {},
     "output_type": "execute_result"
    }
   ],
   "source": [
    "df = get_data()\n",
    "df"
   ]
  },
  {
   "cell_type": "code",
   "execution_count": 4,
   "outputs": [
    {
     "ename": "AttributeError",
     "evalue": "'DataFrame' object has no attribute 'str'",
     "output_type": "error",
     "traceback": [
      "\u001B[0;31m---------------------------------------------------------------------------\u001B[0m",
      "\u001B[0;31mAttributeError\u001B[0m                            Traceback (most recent call last)",
      "\u001B[0;32m/var/folders/b2/3fdswr7x4v5fhdt54wpcfmdw0000gn/T/ipykernel_75173/682177881.py\u001B[0m in \u001B[0;36m<module>\u001B[0;34m\u001B[0m\n\u001B[0;32m----> 1\u001B[0;31m \u001B[0mdf\u001B[0m \u001B[0;34m=\u001B[0m \u001B[0mparse_log_entry\u001B[0m\u001B[0;34m(\u001B[0m\u001B[0mdf\u001B[0m\u001B[0;34m)\u001B[0m\u001B[0;34m\u001B[0m\u001B[0;34m\u001B[0m\u001B[0m\n\u001B[0m",
      "\u001B[0;32m~/Documents/codeup-data-science/anomaly-detection-exercises/.ipynb_checkpoints/acquire.py\u001B[0m in \u001B[0;36mparse_log_entry\u001B[0;34m(entry)\u001B[0m\n\u001B[1;32m     17\u001B[0m \u001B[0;32mdef\u001B[0m \u001B[0mparse_log_entry\u001B[0m\u001B[0;34m(\u001B[0m\u001B[0mentry\u001B[0m\u001B[0;34m)\u001B[0m\u001B[0;34m:\u001B[0m\u001B[0;34m\u001B[0m\u001B[0;34m\u001B[0m\u001B[0m\n\u001B[1;32m     18\u001B[0m \u001B[0;34m\u001B[0m\u001B[0m\n\u001B[0;32m---> 19\u001B[0;31m     \u001B[0mparts\u001B[0m \u001B[0;34m=\u001B[0m \u001B[0mentry\u001B[0m\u001B[0;34m.\u001B[0m\u001B[0mstr\u001B[0m\u001B[0;34m.\u001B[0m\u001B[0msplit\u001B[0m\u001B[0;34m(\u001B[0m\u001B[0;34m)\u001B[0m\u001B[0;34m\u001B[0m\u001B[0;34m\u001B[0m\u001B[0m\n\u001B[0m\u001B[1;32m     20\u001B[0m     \u001B[0moutput\u001B[0m \u001B[0;34m=\u001B[0m \u001B[0;34m{\u001B[0m\u001B[0;34m}\u001B[0m\u001B[0;34m\u001B[0m\u001B[0;34m\u001B[0m\u001B[0m\n\u001B[1;32m     21\u001B[0m     \u001B[0moutput\u001B[0m\u001B[0;34m[\u001B[0m\u001B[0;34m'ip'\u001B[0m\u001B[0;34m]\u001B[0m \u001B[0;34m=\u001B[0m \u001B[0mparts\u001B[0m\u001B[0;34m[\u001B[0m\u001B[0;36m0\u001B[0m\u001B[0;34m]\u001B[0m\u001B[0;34m\u001B[0m\u001B[0;34m\u001B[0m\u001B[0m\n",
      "\u001B[0;32m/usr/local/anaconda3/lib/python3.9/site-packages/pandas/core/generic.py\u001B[0m in \u001B[0;36m__getattr__\u001B[0;34m(self, name)\u001B[0m\n\u001B[1;32m   5485\u001B[0m         ):\n\u001B[1;32m   5486\u001B[0m             \u001B[0;32mreturn\u001B[0m \u001B[0mself\u001B[0m\u001B[0;34m[\u001B[0m\u001B[0mname\u001B[0m\u001B[0;34m]\u001B[0m\u001B[0;34m\u001B[0m\u001B[0;34m\u001B[0m\u001B[0m\n\u001B[0;32m-> 5487\u001B[0;31m         \u001B[0;32mreturn\u001B[0m \u001B[0mobject\u001B[0m\u001B[0;34m.\u001B[0m\u001B[0m__getattribute__\u001B[0m\u001B[0;34m(\u001B[0m\u001B[0mself\u001B[0m\u001B[0;34m,\u001B[0m \u001B[0mname\u001B[0m\u001B[0;34m)\u001B[0m\u001B[0;34m\u001B[0m\u001B[0;34m\u001B[0m\u001B[0m\n\u001B[0m\u001B[1;32m   5488\u001B[0m \u001B[0;34m\u001B[0m\u001B[0m\n\u001B[1;32m   5489\u001B[0m     \u001B[0;32mdef\u001B[0m \u001B[0m__setattr__\u001B[0m\u001B[0;34m(\u001B[0m\u001B[0mself\u001B[0m\u001B[0;34m,\u001B[0m \u001B[0mname\u001B[0m\u001B[0;34m:\u001B[0m \u001B[0mstr\u001B[0m\u001B[0;34m,\u001B[0m \u001B[0mvalue\u001B[0m\u001B[0;34m)\u001B[0m \u001B[0;34m->\u001B[0m \u001B[0;32mNone\u001B[0m\u001B[0;34m:\u001B[0m\u001B[0;34m\u001B[0m\u001B[0;34m\u001B[0m\u001B[0m\n",
      "\u001B[0;31mAttributeError\u001B[0m: 'DataFrame' object has no attribute 'str'"
     ]
    }
   ],
   "source": [
    "df = parse_log_entry(df)"
   ],
   "metadata": {
    "collapsed": false,
    "pycharm": {
     "name": "#%%\n"
    }
   }
  },
  {
   "cell_type": "code",
   "execution_count": 32,
   "outputs": [
    {
     "ename": "NameError",
     "evalue": "name 'env' is not defined",
     "output_type": "error",
     "traceback": [
      "\u001B[0;31m---------------------------------------------------------------------------\u001B[0m",
      "\u001B[0;31mNameError\u001B[0m                                 Traceback (most recent call last)",
      "\u001B[0;32m/var/folders/b2/3fdswr7x4v5fhdt54wpcfmdw0000gn/T/ipykernel_62206/896389510.py\u001B[0m in \u001B[0;36m<module>\u001B[0;34m\u001B[0m\n\u001B[1;32m     13\u001B[0m     \u001B[0;32mreturn\u001B[0m \u001B[0mpd\u001B[0m\u001B[0;34m.\u001B[0m\u001B[0mSeries\u001B[0m\u001B[0;34m(\u001B[0m\u001B[0moutput\u001B[0m\u001B[0;34m)\u001B[0m\u001B[0;34m\u001B[0m\u001B[0;34m\u001B[0m\u001B[0m\n\u001B[1;32m     14\u001B[0m \u001B[0;34m\u001B[0m\u001B[0m\n\u001B[0;32m---> 15\u001B[0;31m \u001B[0murl\u001B[0m \u001B[0;34m=\u001B[0m \u001B[0;34mf'mysql+pymysql://{env.user}:{env.password}@{env.host}/logs'\u001B[0m\u001B[0;34m\u001B[0m\u001B[0;34m\u001B[0m\u001B[0m\n\u001B[0m\u001B[1;32m     16\u001B[0m \u001B[0mdf\u001B[0m \u001B[0;34m=\u001B[0m \u001B[0mpd\u001B[0m\u001B[0;34m.\u001B[0m\u001B[0mread_sql\u001B[0m\u001B[0;34m(\u001B[0m\u001B[0;34m'SELECT * FROM api_access'\u001B[0m\u001B[0;34m,\u001B[0m \u001B[0murl\u001B[0m\u001B[0;34m)\u001B[0m\u001B[0;34m\u001B[0m\u001B[0;34m\u001B[0m\u001B[0m\n\u001B[1;32m     17\u001B[0m \u001B[0;31m# df = pd.concat([df.entry, df.entry.apply(parse_log_entry)], axis=1)\u001B[0m\u001B[0;34m\u001B[0m\u001B[0;34m\u001B[0m\u001B[0m\n",
      "\u001B[0;31mNameError\u001B[0m: name 'env' is not defined"
     ]
    }
   ],
   "source": [
    "\n"
   ],
   "metadata": {
    "collapsed": false,
    "pycharm": {
     "name": "#%%\n"
    }
   }
  },
  {
   "cell_type": "code",
   "execution_count": null,
   "outputs": [],
   "source": [],
   "metadata": {
    "collapsed": false,
    "pycharm": {
     "name": "#%%\n"
    }
   }
  },
  {
   "cell_type": "code",
   "execution_count": null,
   "outputs": [],
   "source": [],
   "metadata": {
    "collapsed": false,
    "pycharm": {
     "name": "#%%\n"
    }
   }
  }
 ],
 "metadata": {
  "kernelspec": {
   "display_name": "Python 3 (ipykernel)",
   "language": "python",
   "name": "python3"
  },
  "language_info": {
   "codemirror_mode": {
    "name": "ipython",
    "version": 3
   },
   "file_extension": ".py",
   "mimetype": "text/x-python",
   "name": "python",
   "nbconvert_exporter": "python",
   "pygments_lexer": "ipython3",
   "version": "3.9.7"
  }
 },
 "nbformat": 4,
 "nbformat_minor": 1
}